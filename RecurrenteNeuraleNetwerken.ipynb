{
  "cells": [
    {
      "cell_type": "markdown",
      "metadata": {
        "id": "view-in-github",
        "colab_type": "text"
      },
      "source": [
        "<a href=\"https://colab.research.google.com/github/jensbaetens-odisee/BVI/blob/main/RecurrenteNeuraleNetwerken.ipynb\" target=\"_parent\"><img src=\"https://colab.research.google.com/assets/colab-badge.svg\" alt=\"Open In Colab\"/></a>"
      ]
    },
    {
      "cell_type": "markdown",
      "metadata": {
        "id": "Vf2coAWqon6G"
      },
      "source": [
        "# Text processing\n",
        "\n",
        "In het vorige vak hebben we manueel gewerkt met tekstuele data en een aantal stappen manueel gedaan.\n",
        "Deze stappen waren onder andere:\n",
        "* Tokenizing\n",
        "* Leestekens verwijderen\n",
        "* Omzetten naar lowercase\n",
        "* Stemming\n",
        "* Stopwoorden verwijderen\n",
        "* ...\n",
        "\n",
        "In deze stappen bekwamen we een bag of words. Dat is een vector-voorstelling van de tekst die bijhield hoe vaak elk woord van de woordenboek voorkwam in de tekst.\n",
        "Het concept van vaak kan een geheel getal zijn maar ook een frequentie op basis van hoe vaak het woord in het algemeen voorkomt in de hele dataset (tf-idf).\n",
        "Met deze vector hebben we dan ML-modellen getrained.\n",
        "\n",
        "Om te werken met text vectorization zijn er twee belangrijke lagen binnen tensorflow:\n",
        "* TextVectorization\n",
        "* Embedding layer\n",
        "\n",
        "# Text vectorization\n",
        "\n",
        "De [Text Vectorization Layer](https://www.tensorflow.org/api_docs/python/tf/keras/layers/TextVectorization) is de basis laag die een hele reeks van de stappen die we vorig jaar manueel gedaan hebben, gaat doen voor ons.\n",
        "Deze laag zet een batch van strings (1 example = 1 string) om naar een lijst van token indices.\n",
        "De bedoeling van deze layer is om met meerdere woorden tegelijkertijd te werken, niet met tekstuele klasses (hiervoor gebruik je beter de StringLookupLayer)\n",
        "\n",
        "Deze laag voert de volgende stappen uit:\n",
        "* Standaardizeren van elk voorbeeldstring (leestekens verwijderen, lowercase, ...). Dit kan je ook zelf instellen door een functie mee te geven/\n",
        "* tokenizing\n",
        "* Eventueel opstellen van n-grams\n",
        "* Elk token naar een index omzetten\n",
        "* indexes van elk voorbeeld omzetten naar een vector van ints (sparse) of floats (dense)\n",
        "\n",
        "Het is duidelijk dat de woordenboek die gebruikt wordt voor dit soort problemen heel belangrijk is.\n",
        "Deze woordenboek/vocabulary kan ofwel meegegeven worden bij de constructie van de laag of geleerd worden uit de dataset met de **.adapt()** functie"
      ]
    },
    {
      "cell_type": "code",
      "execution_count": null,
      "metadata": {
        "colab": {
          "base_uri": "https://localhost:8080/"
        },
        "id": "fEwQ9O3Son6K",
        "outputId": "c95d97b5-94fd-4ed2-f6ae-f4cff9370d43"
      },
      "outputs": [
        {
          "output_type": "execute_result",
          "data": {
            "text/plain": [
              "['', '[UNK]', 'world', 'this', 'test', 'is', 'hello', 'a']"
            ]
          },
          "metadata": {},
          "execution_count": 1
        }
      ],
      "source": [
        "import tensorflow as tf\n",
        "tf.compat.v1.logging.set_verbosity(tf.compat.v1.logging.ERROR)\n",
        "\n",
        "text_dataset = tf.data.Dataset.from_tensor_slices([\"hello world\", \"this is a test\"])\n",
        "max_features = 5000  # Maximum vocab size.\n",
        "max_len = 4  # Sequence length to pad the outputs to. (maximum length of a sentence that can be expected)\n",
        "\n",
        "vectorize_layer = tf.keras.layers.TextVectorization(\n",
        "    max_tokens=max_features,\n",
        "    output_mode='int',\n",
        "    output_sequence_length=max_len)\n",
        "\n",
        "vectorize_layer.adapt(text_dataset.batch(64))   # leer de woordenboek op basis van de dataset\n",
        "vectorize_layer.get_vocabulary()"
      ]
    },
    {
      "cell_type": "code",
      "execution_count": null,
      "metadata": {
        "colab": {
          "base_uri": "https://localhost:8080/"
        },
        "id": "sE6_AiSoon6M",
        "outputId": "d71921ba-47fb-4f81-e084-8122452cfdea"
      },
      "outputs": [
        {
          "output_type": "stream",
          "name": "stdout",
          "text": [
            "1/1 [==============================] - 0s 156ms/step\n"
          ]
        },
        {
          "output_type": "execute_result",
          "data": {
            "text/plain": [
              "array([[5, 3, 7, 1],\n",
              "       [1, 1, 7, 4]])"
            ]
          },
          "metadata": {},
          "execution_count": 2
        }
      ],
      "source": [
        "# int output mode\n",
        "model = tf.keras.models.Sequential()\n",
        "model.add(tf.keras.Input(shape=(1,), dtype=tf.string))\n",
        "model.add(vectorize_layer)\n",
        "input_data = [[\"is this a task?\"], [\"JENS: No a test\"]]\n",
        "model.predict(input_data)"
      ]
    },
    {
      "cell_type": "markdown",
      "metadata": {
        "id": "G1tp-_-_on6M"
      },
      "source": [
        "Let er hierbij op dat de output_sequence_length een belangrijke parameter is.\n",
        "Deze parameter bepaald de maximale lengte van een zin die verwerkt wordt.\n",
        "Van zinnen die langer zijn dan dit aantal woorden wordt het einde niet meer in rekening genomen."
      ]
    },
    {
      "cell_type": "code",
      "execution_count": null,
      "metadata": {
        "colab": {
          "base_uri": "https://localhost:8080/"
        },
        "id": "RfY3rnylon6M",
        "outputId": "c4b17f57-27d0-4887-a1bf-f2af13f20fb1"
      },
      "outputs": [
        {
          "output_type": "stream",
          "name": "stdout",
          "text": [
            "1/1 [==============================] - 0s 69ms/step\n"
          ]
        },
        {
          "output_type": "execute_result",
          "data": {
            "text/plain": [
              "array([[5, 3, 7, 1],\n",
              "       [1, 1, 7, 7]])"
            ]
          },
          "metadata": {},
          "execution_count": 3
        }
      ],
      "source": [
        "# int output mode\n",
        "model = tf.keras.models.Sequential()\n",
        "model.add(tf.keras.Input(shape=(1,), dtype=tf.string))\n",
        "model.add(vectorize_layer)\n",
        "input_data = [[\"is this a task?\"], [\"JENS: No a a a a a a test\"]]\n",
        "model.predict(input_data)"
      ]
    },
    {
      "cell_type": "code",
      "execution_count": null,
      "metadata": {
        "colab": {
          "base_uri": "https://localhost:8080/"
        },
        "id": "OOIcquifon6N",
        "outputId": "b4178964-ec91-4ae5-94e8-f668b92e3072"
      },
      "outputs": [
        {
          "output_type": "stream",
          "name": "stdout",
          "text": [
            "['[UNK]', 'world', 'this', 'test', 'is', 'hello', 'a']\n",
            "1/1 [==============================] - 0s 108ms/step\n"
          ]
        },
        {
          "output_type": "execute_result",
          "data": {
            "text/plain": [
              "array([[1., 0., 1., 0., 1., 0., 1.],\n",
              "       [1., 0., 0., 1., 0., 0., 1.]], dtype=float32)"
            ]
          },
          "metadata": {},
          "execution_count": 4
        }
      ],
      "source": [
        "# one hot\n",
        "vectorize_layer = tf.keras.layers.TextVectorization(\n",
        "    max_tokens=max_features,\n",
        "    output_mode='multi_hot')\n",
        "\n",
        "vectorize_layer.adapt(text_dataset.batch(64))   # leer de woordenboek op basis van de dataset\n",
        "print(vectorize_layer.get_vocabulary())\n",
        "\n",
        "model = tf.keras.models.Sequential()\n",
        "model.add(tf.keras.Input(shape=(1,), dtype=tf.string))\n",
        "model.add(vectorize_layer)\n",
        "input_data = [[\"is this a task?\"], [\"JENS: a a test\"]]\n",
        "model.predict(input_data)"
      ]
    },
    {
      "cell_type": "code",
      "execution_count": null,
      "metadata": {
        "colab": {
          "base_uri": "https://localhost:8080/"
        },
        "id": "Fdm5MpHWon6N",
        "outputId": "87610194-d4b6-4f95-a68f-4d1139ca7df3"
      },
      "outputs": [
        {
          "output_type": "stream",
          "name": "stdout",
          "text": [
            "['[UNK]', 'world', 'this', 'test', 'is', 'hello', 'a']\n",
            "1/1 [==============================] - 0s 77ms/step\n"
          ]
        },
        {
          "output_type": "execute_result",
          "data": {
            "text/plain": [
              "array([[1., 0., 1., 0., 1., 0., 1.],\n",
              "       [1., 0., 0., 1., 0., 0., 2.]], dtype=float32)"
            ]
          },
          "metadata": {},
          "execution_count": 5
        }
      ],
      "source": [
        "# count\n",
        "vectorize_layer = tf.keras.layers.TextVectorization(\n",
        "    max_tokens=max_features,\n",
        "    output_mode='count')\n",
        "\n",
        "vectorize_layer.adapt(text_dataset.batch(64))   # leer de woordenboek op basis van de dataset\n",
        "print(vectorize_layer.get_vocabulary())\n",
        "\n",
        "model = tf.keras.models.Sequential()\n",
        "model.add(tf.keras.Input(shape=(1,), dtype=tf.string))\n",
        "model.add(vectorize_layer)\n",
        "input_data = [[\"is this a task?\"], [\"JENS: a a test\"]]\n",
        "model.predict(input_data)"
      ]
    },
    {
      "cell_type": "code",
      "execution_count": null,
      "metadata": {
        "colab": {
          "base_uri": "https://localhost:8080/"
        },
        "id": "MEZEh_Hcon6O",
        "outputId": "28a1de99-b9ef-4627-893f-16efbb455f98"
      },
      "outputs": [
        {
          "output_type": "stream",
          "name": "stdout",
          "text": [
            "['[UNK]', 'world', 'this', 'test', 'is', 'hello', 'a']\n",
            "1/1 [==============================] - 0s 92ms/step\n"
          ]
        },
        {
          "output_type": "execute_result",
          "data": {
            "text/plain": [
              "array([[0.6931472, 0.       , 0.6931472, 0.       , 0.6931472, 0.       ,\n",
              "        0.6931472],\n",
              "       [0.6931472, 0.       , 0.       , 0.6931472, 0.       , 0.       ,\n",
              "        1.3862944]], dtype=float32)"
            ]
          },
          "metadata": {},
          "execution_count": 6
        }
      ],
      "source": [
        "# tf-idf\n",
        "vectorize_layer = tf.keras.layers.TextVectorization(\n",
        "    max_tokens=max_features,\n",
        "    output_mode='tf_idf')\n",
        "\n",
        "vectorize_layer.adapt(text_dataset.batch(64))   # leer de woordenboek op basis van de dataset\n",
        "print(vectorize_layer.get_vocabulary())\n",
        "\n",
        "model = tf.keras.models.Sequential()\n",
        "model.add(tf.keras.Input(shape=(1,), dtype=tf.string))\n",
        "model.add(vectorize_layer)\n",
        "input_data = [[\"is this a task?\"], [\"JENS: a a test\"]]\n",
        "model.predict(input_data)"
      ]
    },
    {
      "cell_type": "markdown",
      "metadata": {
        "id": "KGHUpdRVon6O"
      },
      "source": [
        "De tweede optie was om te werken met een reeds bestaande woordenboek.\n",
        "Een voorbeeld hiervan zie je in de cell hieronder.\n",
        "Merk op dat je hierbij de adapt functie niet nodig hebt omdat je reeds een woordenboek hebt en er dus niet door de dataset moet gegaan worden."
      ]
    },
    {
      "cell_type": "code",
      "execution_count": null,
      "metadata": {
        "colab": {
          "base_uri": "https://localhost:8080/"
        },
        "id": "R7UTFPiCon6O",
        "outputId": "949a3760-33bc-4310-8c87-39f730287fce"
      },
      "outputs": [
        {
          "output_type": "stream",
          "name": "stdout",
          "text": [
            "['', '[UNK]', 'hello', 'world', 'test', 'a']\n",
            "1/1 [==============================] - 0s 64ms/step\n"
          ]
        },
        {
          "output_type": "execute_result",
          "data": {
            "text/plain": [
              "array([[1, 1, 5, 1, 0],\n",
              "       [1, 5, 5, 4, 0]])"
            ]
          },
          "metadata": {},
          "execution_count": 7
        }
      ],
      "source": [
        "vocab_data = [\"hello\", \"world\", \"test\", \"a\"]\n",
        "max_len = 5  # Sequence length to pad the outputs to.\n",
        "\n",
        "# Create the layer, passing the vocab directly. You can also pass the\n",
        "# vocabulary arg a path to a file containing one vocabulary word per\n",
        "# line.\n",
        "vectorize_layer = tf.keras.layers.TextVectorization(\n",
        " max_tokens=max_features,\n",
        " output_mode='int',\n",
        " output_sequence_length=max_len,\n",
        " vocabulary=vocab_data)\n",
        "\n",
        "# Because we've passed the vocabulary directly, we don't need to adapt\n",
        "# the layer - the vocabulary is already set. The vocabulary contains the\n",
        "# padding token ('') and OOV token ('[UNK]') as well as the passed\n",
        "# tokens.\n",
        "print(vectorize_layer.get_vocabulary())\n",
        "\n",
        "model = tf.keras.models.Sequential()\n",
        "model.add(tf.keras.Input(shape=(1,), dtype=tf.string))\n",
        "model.add(vectorize_layer)\n",
        "input_data = [[\"is this a task?\"], [\"JENS: a a test\"]]\n",
        "model.predict(input_data)"
      ]
    },
    {
      "cell_type": "markdown",
      "metadata": {
        "id": "6zXiPOGion6P"
      },
      "source": [
        "# Embedding layer\n",
        "\n",
        "Het nadeel van een bag-of-words representatie is dat (vooral als je werkt met one-hot, count, tf_idf voorstellingen) je heel snel een heel groot aantal features hebt.\n",
        "Voor deze voorstellingen heb je namelijk een vector van een lengte gelijk aan het aantal woorden in je taal.\n",
        "Als we dan proberen te werken met de Engelse taal zijn er momenteel een 170.000 actieve woorden en in het Nederlands kan dit zelfs oplopen tot 350.000 woorden.\n",
        "Als we vectors van deze lengte doorheen een neuraal netwerk proberen te sturen dan gaat het aantal gewichten gemakkelijk te groot zijn om een efficient, goed werkend model te trainen.\n",
        "\n",
        "De embedding layer biedt een oplossing voor dit probleem door deze heel grote vectors om te zetten naar een een kleinere vector.\n",
        "Dit wordt op een bepaalde manier gedaan om zoveel mogelijk informatie te behouden en om ervoor te zorgen dat woorden/zinnen met een gelijkaardige betekenis leiden tot een vector die gelijkaardig is.\n",
        "Dit laatste wordt gedaan door de laag te trainen.\n",
        "Dit kan je zien met behulp van onderstaand voorbeeld."
      ]
    },
    {
      "cell_type": "code",
      "execution_count": null,
      "metadata": {
        "colab": {
          "base_uri": "https://localhost:8080/"
        },
        "id": "MrKM6OP_on6P",
        "outputId": "e5b9610e-1b01-46eb-9bbd-9bbbd479946e"
      },
      "outputs": [
        {
          "output_type": "stream",
          "name": "stdout",
          "text": [
            "['', '[UNK]', 'horrible', 'food', 'awesome', 'work', 'waitress', 'services', 'service', 'rude', 'rocks', 'poor', 'never', 'have', 'done', 'couldnt', 'coming', 'cold', 'better', 'back']\n",
            "1/1 [==============================] - 0s 145ms/step\n",
            "[[0.5078414 ]\n",
            " [0.5161677 ]\n",
            " [0.51123446]\n",
            " [0.50942713]\n",
            " [0.5203516 ]\n",
            " [0.49736577]\n",
            " [0.50316507]\n",
            " [0.50550526]\n",
            " [0.5092778 ]\n",
            " [0.48765486]]\n",
            "(10, 1)\n"
          ]
        }
      ],
      "source": [
        "import numpy as np\n",
        "\n",
        "# Define 10 restaurant reviews\n",
        "reviews =[\n",
        "          'Never coming back!',\n",
        "          'horrible service',\n",
        "          'rude waitress',\n",
        "          'cold food',\n",
        "          'horrible food!',\n",
        "          'awesome',\n",
        "          'awesome services!',\n",
        "          'rocks',\n",
        "          'poor work',\n",
        "          'couldn\\'t have done better'\n",
        "]\n",
        "#Define labels\n",
        "labels = np.array([1,1,1,1,1,0,0,0,0,0])\n",
        "max_len = 4\n",
        "\n",
        "vectorize_layer = tf.keras.layers.TextVectorization(\n",
        "    max_tokens=max_features,\n",
        "    output_mode='int',\n",
        "    output_sequence_length=max_len)\n",
        "\n",
        "vectorize_layer.adapt(reviews)   # leer de woordenboek op basis van de dataset\n",
        "vocabulary = vectorize_layer.get_vocabulary()\n",
        "print(vocabulary)\n",
        "\n",
        "model = tf.keras.models.Sequential()\n",
        "model.add(tf.keras.Input(shape=(1,), dtype=tf.string))\n",
        "model.add(vectorize_layer)\n",
        "\n",
        "# embedding layer\n",
        "embedding = tf.keras.layers.Embedding(input_dim=len(vocabulary), output_dim=8, input_length=max_len)\n",
        "model.add(embedding)\n",
        "\n",
        "# add output layer for training embedded layer # doe dit later, bekijk eerst de output van enkel embedded layer\n",
        "model.add(tf.keras.layers.Flatten())\n",
        "model.add(tf.keras.layers.Dense(1, activation = \"sigmoid\"))\n",
        "\n",
        "# dense layer for classification\n",
        "result = model.predict(reviews)\n",
        "print(result)\n",
        "print(result.shape)     # shape is 10x4x8 -> aantal inputs, max aantal woorden per input, output_dim"
      ]
    },
    {
      "cell_type": "code",
      "execution_count": null,
      "metadata": {
        "colab": {
          "base_uri": "https://localhost:8080/"
        },
        "id": "FOvF8VOson6P",
        "outputId": "6112311a-6f11-43fa-ed87-e9e38283875e"
      },
      "outputs": [
        {
          "output_type": "execute_result",
          "data": {
            "text/plain": [
              "<keras.callbacks.History at 0x7f95217c1f90>"
            ]
          },
          "metadata": {},
          "execution_count": 9
        }
      ],
      "source": [
        "model.compile(optimizer='adam',loss='binary_crossentropy',metrics=['acc'])\n",
        "model.fit(np.array(reviews),labels,epochs=100,verbose=0)"
      ]
    },
    {
      "cell_type": "code",
      "execution_count": null,
      "metadata": {
        "colab": {
          "base_uri": "https://localhost:8080/"
        },
        "id": "QiFmGRkwon6Q",
        "outputId": "14215092-6314-498e-ba79-d7134a2423f8"
      },
      "outputs": [
        {
          "output_type": "stream",
          "name": "stdout",
          "text": [
            "1/1 [==============================] - 0s 68ms/step\n",
            "(10, 4, 8)\n",
            "[[ 0.11819981  0.14015433  0.14422368 -0.09170795 -0.08323083  0.14705235\n",
            "  -0.12157824  0.10131516]\n",
            " [ 0.09520719  0.10605373 -0.1029783   0.08237616 -0.1447986   0.11741444\n",
            "   0.06761342  0.13609658]\n",
            " [-0.04339129 -0.08040146  0.11974107 -0.13479225  0.13258012 -0.14281917\n",
            "  -0.0644341  -0.07649398]\n",
            " [-0.04339129 -0.08040146  0.11974107 -0.13479225  0.13258012 -0.14281917\n",
            "  -0.0644341  -0.07649398]]\n",
            "[[ 0.10522451  0.08384308  0.08402552 -0.09902949 -0.09694962  0.09773412\n",
            "  -0.07572588  0.14995936]\n",
            " [ 0.11996499  0.14348271 -0.085211    0.10243021 -0.09561113  0.10462397\n",
            "   0.11132763  0.06234408]\n",
            " [-0.04339129 -0.08040146  0.11974107 -0.13479225  0.13258012 -0.14281917\n",
            "  -0.0644341  -0.07649398]\n",
            " [-0.04339129 -0.08040146  0.11974107 -0.13479225  0.13258012 -0.14281917\n",
            "  -0.0644341  -0.07649398]]\n",
            "[[-0.11999251 -0.10946413 -0.10729409  0.10322052  0.14436275 -0.10495854\n",
            "   0.07448047 -0.13651806]\n",
            " [-0.04339129 -0.08040146  0.11974107 -0.13479225  0.13258012 -0.14281917\n",
            "  -0.0644341  -0.07649398]\n",
            " [-0.04339129 -0.08040146  0.11974107 -0.13479225  0.13258012 -0.14281917\n",
            "  -0.0644341  -0.07649398]\n",
            " [-0.04339129 -0.08040146  0.11974107 -0.13479225  0.13258012 -0.14281917\n",
            "  -0.0644341  -0.07649398]]\n"
          ]
        }
      ],
      "source": [
        "model = tf.keras.models.Sequential()\n",
        "model.add(tf.keras.Input(shape=(1,), dtype=tf.string))\n",
        "model.add(vectorize_layer)\n",
        "\n",
        "# embedding layer\n",
        "model.add(embedding)\n",
        "\n",
        "results = model.predict(reviews)\n",
        "\n",
        "print(results.shape)\n",
        "print(results[1])\n",
        "print(results[2])\n",
        "\n",
        "# beide inputs zijn twee woorden dus 3 en 4 zijn steeds gelijk\n",
        "# het eerste woord is telkens een scheldwoord en deze twee lijken sterk op elkaar\n",
        "\n",
        "#als je dit vergelijkt met een positieve review, dan zie je dat de waarden van het positieve woord significant anders zijn\n",
        "print(results[5])"
      ]
    },
    {
      "cell_type": "markdown",
      "metadata": {
        "id": "TnvG8xE9on6Q"
      },
      "source": [
        "Het trainen van deze embedding layers is mogelijk maar dit kan heel snel heel complex worden omdat je hiervoor juist wel moet werken met deze grootte tensors.\n",
        "Dit kan snel je pc overbelasten of te veel van je RAM geheugen innemen.\n",
        "Gelukkig is het mogelijk om ook te werken met pre-trained embedded layers.\n",
        "Hoe je dit doet, kan je [hier](https://keras.io/examples/nlp/pretrained_word_embeddings/#load-pretrained-word-embeddings) lezen maar een snapshot zie je in onderstaande code:"
      ]
    },
    {
      "cell_type": "code",
      "execution_count": null,
      "metadata": {
        "colab": {
          "base_uri": "https://localhost:8080/"
        },
        "id": "8_B3cALipo_S",
        "outputId": "91b70dcc-f67a-413f-fc00-af953ff16256"
      },
      "outputs": [
        {
          "output_type": "stream",
          "name": "stdout",
          "text": [
            "Looking in indexes: https://pypi.org/simple, https://us-python.pkg.dev/colab-wheels/public/simple/\n",
            "Collecting opendatasets\n",
            "  Downloading opendatasets-0.1.22-py3-none-any.whl (15 kB)\n",
            "Requirement already satisfied: tqdm in /usr/local/lib/python3.7/dist-packages (from opendatasets) (4.64.1)\n",
            "Requirement already satisfied: click in /usr/local/lib/python3.7/dist-packages (from opendatasets) (7.1.2)\n",
            "Requirement already satisfied: kaggle in /usr/local/lib/python3.7/dist-packages (from opendatasets) (1.5.12)\n",
            "Requirement already satisfied: requests in /usr/local/lib/python3.7/dist-packages (from kaggle->opendatasets) (2.23.0)\n",
            "Requirement already satisfied: urllib3 in /usr/local/lib/python3.7/dist-packages (from kaggle->opendatasets) (1.24.3)\n",
            "Requirement already satisfied: certifi in /usr/local/lib/python3.7/dist-packages (from kaggle->opendatasets) (2022.9.24)\n",
            "Requirement already satisfied: six>=1.10 in /usr/local/lib/python3.7/dist-packages (from kaggle->opendatasets) (1.15.0)\n",
            "Requirement already satisfied: python-dateutil in /usr/local/lib/python3.7/dist-packages (from kaggle->opendatasets) (2.8.2)\n",
            "Requirement already satisfied: python-slugify in /usr/local/lib/python3.7/dist-packages (from kaggle->opendatasets) (6.1.2)\n",
            "Requirement already satisfied: text-unidecode>=1.3 in /usr/local/lib/python3.7/dist-packages (from python-slugify->kaggle->opendatasets) (1.3)\n",
            "Requirement already satisfied: chardet<4,>=3.0.2 in /usr/local/lib/python3.7/dist-packages (from requests->kaggle->opendatasets) (3.0.4)\n",
            "Requirement already satisfied: idna<3,>=2.5 in /usr/local/lib/python3.7/dist-packages (from requests->kaggle->opendatasets) (2.10)\n",
            "Installing collected packages: opendatasets\n",
            "Successfully installed opendatasets-0.1.22\n"
          ]
        }
      ],
      "source": [
        "!pip install opendatasets"
      ]
    },
    {
      "cell_type": "code",
      "execution_count": null,
      "metadata": {
        "colab": {
          "base_uri": "https://localhost:8080/"
        },
        "id": "nV_kp2w8on6Q",
        "outputId": "2085e51b-ec70-4245-9490-71878b39bd1b"
      },
      "outputs": [
        {
          "output_type": "stream",
          "name": "stdout",
          "text": [
            "Downloading http://nlp.stanford.edu/data/glove.6B.zip to ./glove.6B.zip\n"
          ]
        },
        {
          "output_type": "stream",
          "name": "stderr",
          "text": [
            "862183424it [02:43, 5273989.21it/s]                               \n"
          ]
        }
      ],
      "source": [
        "import opendatasets as od\n",
        "import zipfile\n",
        "\n",
        "od.download(\"http://nlp.stanford.edu/data/glove.6B.zip\") # let op, dit is bijna 1 gb"
      ]
    },
    {
      "cell_type": "code",
      "source": [
        "with zipfile.ZipFile(\"glove.6B.zip\") as zf:\n",
        "    zf.extractall(\"./pretrained\")"
      ],
      "metadata": {
        "id": "fUkuOgf6wDrQ"
      },
      "execution_count": null,
      "outputs": []
    },
    {
      "cell_type": "code",
      "execution_count": null,
      "metadata": {
        "colab": {
          "base_uri": "https://localhost:8080/"
        },
        "id": "6zhZ08-Gon6Q",
        "outputId": "c59624e2-4abc-42b1-b086-36985436a3f8"
      },
      "outputs": [
        {
          "output_type": "stream",
          "name": "stdout",
          "text": [
            "Found 400000 word vectors.\n"
          ]
        }
      ],
      "source": [
        "path_to_glove_file = \"./pretrained/glove.6B.50d.txt\"\n",
        "\n",
        "embeddings_index = {}\n",
        "with open(path_to_glove_file, encoding=\"utf-8\") as f:\n",
        "    for line in f:\n",
        "        word, coefs = line.split(maxsplit=1)\n",
        "        coefs = np.fromstring(coefs, \"f\", sep=\" \")\n",
        "        embeddings_index[word] = coefs\n",
        "\n",
        "print(\"Found %s word vectors.\" % len(embeddings_index))"
      ]
    },
    {
      "cell_type": "code",
      "execution_count": null,
      "metadata": {
        "colab": {
          "base_uri": "https://localhost:8080/"
        },
        "id": "e4Hef13Non6R",
        "outputId": "b66b6e14-7ee7-4b6b-e9c8-9c5a87b1914b"
      },
      "outputs": [
        {
          "output_type": "stream",
          "name": "stdout",
          "text": [
            "Converted 18 words (2 misses)\n"
          ]
        }
      ],
      "source": [
        "voc = vectorize_layer.get_vocabulary()\n",
        "word_index = dict(zip(voc, range(len(voc))))\n",
        "\n",
        "num_tokens = len(voc) + 2\n",
        "embedding_dim = 50\n",
        "hits = 0\n",
        "misses = 0\n",
        "\n",
        "# Prepare embedding matrix\n",
        "embedding_matrix = np.zeros((num_tokens, embedding_dim))\n",
        "for word, i in word_index.items():\n",
        "    embedding_vector = embeddings_index.get(word)\n",
        "    if embedding_vector is not None:\n",
        "        # Words not found in embedding index will be all-zeros.\n",
        "        # This includes the representation for \"padding\" and \"OOV\"\n",
        "        embedding_matrix[i] = embedding_vector\n",
        "        hits += 1\n",
        "    else:\n",
        "        misses += 1\n",
        "print(\"Converted %d words (%d misses)\" % (hits, misses))"
      ]
    },
    {
      "cell_type": "code",
      "execution_count": null,
      "metadata": {
        "colab": {
          "base_uri": "https://localhost:8080/"
        },
        "id": "E57gFUVWon6R",
        "outputId": "a49e9368-f8f7-4a2b-b451-7ac809aa6755"
      },
      "outputs": [
        {
          "output_type": "stream",
          "name": "stdout",
          "text": [
            "1/1 [==============================] - 0s 63ms/step\n",
            "[[[ 0.095387  -0.16865   -0.11514   ... -0.42103   -0.53817    0.13738  ]\n",
            "  [ 0.2169     0.010103   0.20451   ...  0.047386  -0.018309  -0.014132 ]\n",
            "  [ 0.0046218 -0.25678    0.3532    ... -0.80837   -0.33017   -0.62638  ]\n",
            "  [ 0.         0.         0.        ...  0.         0.         0.       ]]\n",
            "\n",
            " [[ 0.3614    -0.55138   -0.70054   ...  0.23911    0.60709    0.44516  ]\n",
            "  [ 0.13409    0.68926    0.45086   ...  0.29695   -0.006097   0.94897  ]\n",
            "  [ 0.         0.         0.        ...  0.         0.         0.       ]\n",
            "  [ 0.         0.         0.        ...  0.         0.         0.       ]]\n",
            "\n",
            " [[-0.4129    -0.37602   -0.99697   ...  0.57652    0.78847    1.4029   ]\n",
            "  [-0.071998   0.14877   -0.97656   ... -0.80378    0.63032    0.97174  ]\n",
            "  [ 0.         0.         0.        ...  0.         0.         0.       ]\n",
            "  [ 0.         0.         0.        ...  0.         0.         0.       ]]\n",
            "\n",
            " ...\n",
            "\n",
            " [[-0.13424    0.25425    0.39907   ... -0.7476    -0.08266   -2.1595   ]\n",
            "  [ 0.         0.         0.        ...  0.         0.         0.       ]\n",
            "  [ 0.         0.         0.        ...  0.         0.         0.       ]\n",
            "  [ 0.         0.         0.        ...  0.         0.         0.       ]]\n",
            "\n",
            " [[-0.53819   -0.40788   -0.1963    ...  0.05218    1.0731     0.035629 ]\n",
            "  [ 0.51359    0.19695   -0.51944   ...  0.046842  -0.62897    0.35726  ]\n",
            "  [ 0.         0.         0.        ...  0.         0.         0.       ]\n",
            "  [ 0.         0.         0.        ...  0.         0.         0.       ]]\n",
            "\n",
            " [[ 0.39251   -1.4227     0.14749   ...  0.8426    -0.16919    0.47253  ]\n",
            "  [ 0.94911   -0.34968    0.48125   ...  0.36233   -0.72512   -0.6089   ]\n",
            "  [ 0.33076   -0.4387    -0.32163   ...  0.33312   -0.22252    0.74457  ]\n",
            "  [-0.1209    -0.16821    0.24099   ...  0.12755    0.066461   1.1163   ]]]\n",
            "(10, 4, 50)\n"
          ]
        }
      ],
      "source": [
        "embedding_layer = tf.keras.layers.Embedding(\n",
        "    num_tokens,\n",
        "    embedding_dim,\n",
        "    embeddings_initializer=tf.keras.initializers.Constant(embedding_matrix),\n",
        "    trainable=False,        # belangrijk -> niet opnieuw aanpassen want reeds getrained\n",
        ")\n",
        "\n",
        "model = tf.keras.models.Sequential()\n",
        "model.add(tf.keras.Input(shape=(1,), dtype=tf.string))\n",
        "model.add(vectorize_layer)\n",
        "\n",
        "# embedding layer\n",
        "model.add(embedding_layer)\n",
        "results = model.predict(reviews)\n",
        "print(results)\n",
        "print(results.shape)"
      ]
    },
    {
      "cell_type": "markdown",
      "metadata": {
        "id": "ttWx9acCon6R"
      },
      "source": [
        "# Recurrente Neurale Netwerken\n",
        "\n",
        "Zoals in de les besproken zijn recurrente neurale netwerken een type van neurale netwerken waarbij er een bepaalde state bijgehouden wordt\n",
        "die doorgegeven wordt doorheen de tijd.\n",
        "Dit wil dus zeggen dat we de woorden/n-grammen 1 voor 1 aan het neuraal netwerk doorgeven (ook als sequentie genoemd).\n",
        "De output is dan ook een sequentie dus is het belangrijk om deze output bij te houden doorheen de tijd.\n",
        "\n",
        "De bedoeling van deze structuren is om geheugen in het netwerk te introduceren.\n",
        "Hierdoor is het mogelijk om complexere verbanden te detecteren doorheen de tijd in bijvoorbeeld geschreven tekst, audio of video.\n",
        "Om dit geheugen toe te voegen in neurale netwerken kunnen de volgende lagen gebruikt worden:\n",
        "* RNN\n",
        "* LSTM\n",
        "* GRU\n",
        "\n",
        "RNN is de basis structuur. Het voordeel van deze structuur is dat het de eenvoudigste is maar het geheugen dat hierdoor voorzien word is maar kort.\n",
        "Deze laag heeft snel problemen door het vanishing gradient problem.\n",
        "De LSTM en GRU lagen zijn complexer en werken met gates om te bepalen welke informatie bijgehouden wordt in de state en welke genegeerd wordt.\n",
        "Hierdoor kunnen deze lagen een langer geheugen hebben.\n",
        "De benodigde rekenkracht voor deze lagen licht wel een stuk hoger.\n",
        "Ook is er een hogere kans dat deze lagen overfitten en door de complexere structuur is het toevoegen van dropout ook complexer.\n",
        "\n",
        "Er zijn 4 types netwerk architecturen die mogelijk zijn bij het werken met recurrente neurale netwerken, namelijk:\n",
        "* One-to-One\n",
        "* Many-to-One\n",
        "* One-to-Many\n",
        "* Many-to-Many\n",
        "\n",
        "In de rest van deze notebook worden deze 4 architecturen bestudeerd. Op het einde bekijken we ook de resultaten van een populair pre-trained netwerk, namelijk het BERT netwerk, om te werken met tekstuele data."
      ]
    },
    {
      "cell_type": "markdown",
      "metadata": {
        "id": "nLA165APon6R"
      },
      "source": [
        "## One-to-One\n",
        "\n",
        "Eerst gaan we kijken naar de one-to-one architectuur.\n",
        "Dit is eigenlijk overeenkomstig met alles wat we reeds gedaan hebben want dit is dat je 1 input geeft en je krijgt 1 output. Er is geen state die doorgegeven wordt naar de volgende tijdstappen.\n",
        "\n",
        "![one-to-one.png](data:image/png;base64,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)"
      ]
    },
    {
      "cell_type": "markdown",
      "metadata": {
        "id": "qNV2Xp8Lon6R"
      },
      "source": [
        "## Many-to-One\n",
        "\n",
        "Een tweede architectuur waar wel sprake is van recurrente verbindingen is de many-to-one architectuur.\n",
        "Dit is de typische architectuur voor classificatie van teksten.\n",
        "Hierbij geef je woord per woord door wat je input is en op het einde heb je 1 output, namelijk de klasse van de tekst.\n",
        "\n",
        "![many-to-one.png](data:image/png;base64,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)\n",
        "\n",
        "In de code hieronder staat er een voorbeeld om dit soort problemen op te lossen voor fake news classificatie."
      ]
    },
    {
      "cell_type": "code",
      "execution_count": null,
      "metadata": {
        "colab": {
          "base_uri": "https://localhost:8080/"
        },
        "id": "yKV3GnTCon6S",
        "outputId": "338d98ab-59f2-4643-be28-732c9054351b"
      },
      "outputs": [
        {
          "output_type": "stream",
          "name": "stdout",
          "text": [
            "Please provide your Kaggle credentials to download this dataset. Learn more: http://bit.ly/kaggle-creds\n",
            "Your Kaggle username: jensbaetensodisee\n",
            "Your Kaggle Key: ··········\n",
            "Downloading misinformation-fake-news-text-dataset-79k.zip to ./misinformation-fake-news-text-dataset-79k\n"
          ]
        },
        {
          "output_type": "stream",
          "name": "stderr",
          "text": [
            "100%|██████████| 84.6M/84.6M [00:00<00:00, 114MB/s]\n"
          ]
        },
        {
          "output_type": "stream",
          "name": "stdout",
          "text": [
            "\n"
          ]
        }
      ],
      "source": [
        "od.download(\"https://www.kaggle.com/datasets/stevenpeutz/misinformation-fake-news-text-dataset-79k\")"
      ]
    },
    {
      "cell_type": "code",
      "execution_count": null,
      "metadata": {
        "id": "-us5rOV2on6S",
        "colab": {
          "base_uri": "https://localhost:8080/",
          "height": 206
        },
        "outputId": "73906a58-3420-466a-b224-301a7d6b7029"
      },
      "outputs": [
        {
          "output_type": "display_data",
          "data": {
            "text/plain": [
              "                                                text  label\n",
              "0  Donald Trump just couldn t wish all Americans ...      1\n",
              "1  House Intelligence Committee Chairman Devin Nu...      1\n",
              "2  On Friday, it was revealed that former Milwauk...      1\n",
              "3  On Christmas day, Donald Trump announced that ...      1\n",
              "4  Pope Francis used his annual Christmas Day mes...      1"
            ],
            "text/html": [
              "\n",
              "  <div id=\"df-c08e9dad-9e62-43a6-a0b7-34e5473d9a92\">\n",
              "    <div class=\"colab-df-container\">\n",
              "      <div>\n",
              "<style scoped>\n",
              "    .dataframe tbody tr th:only-of-type {\n",
              "        vertical-align: middle;\n",
              "    }\n",
              "\n",
              "    .dataframe tbody tr th {\n",
              "        vertical-align: top;\n",
              "    }\n",
              "\n",
              "    .dataframe thead th {\n",
              "        text-align: right;\n",
              "    }\n",
              "</style>\n",
              "<table border=\"1\" class=\"dataframe\">\n",
              "  <thead>\n",
              "    <tr style=\"text-align: right;\">\n",
              "      <th></th>\n",
              "      <th>text</th>\n",
              "      <th>label</th>\n",
              "    </tr>\n",
              "  </thead>\n",
              "  <tbody>\n",
              "    <tr>\n",
              "      <th>0</th>\n",
              "      <td>Donald Trump just couldn t wish all Americans ...</td>\n",
              "      <td>1</td>\n",
              "    </tr>\n",
              "    <tr>\n",
              "      <th>1</th>\n",
              "      <td>House Intelligence Committee Chairman Devin Nu...</td>\n",
              "      <td>1</td>\n",
              "    </tr>\n",
              "    <tr>\n",
              "      <th>2</th>\n",
              "      <td>On Friday, it was revealed that former Milwauk...</td>\n",
              "      <td>1</td>\n",
              "    </tr>\n",
              "    <tr>\n",
              "      <th>3</th>\n",
              "      <td>On Christmas day, Donald Trump announced that ...</td>\n",
              "      <td>1</td>\n",
              "    </tr>\n",
              "    <tr>\n",
              "      <th>4</th>\n",
              "      <td>Pope Francis used his annual Christmas Day mes...</td>\n",
              "      <td>1</td>\n",
              "    </tr>\n",
              "  </tbody>\n",
              "</table>\n",
              "</div>\n",
              "      <button class=\"colab-df-convert\" onclick=\"convertToInteractive('df-c08e9dad-9e62-43a6-a0b7-34e5473d9a92')\"\n",
              "              title=\"Convert this dataframe to an interactive table.\"\n",
              "              style=\"display:none;\">\n",
              "        \n",
              "  <svg xmlns=\"http://www.w3.org/2000/svg\" height=\"24px\"viewBox=\"0 0 24 24\"\n",
              "       width=\"24px\">\n",
              "    <path d=\"M0 0h24v24H0V0z\" fill=\"none\"/>\n",
              "    <path d=\"M18.56 5.44l.94 2.06.94-2.06 2.06-.94-2.06-.94-.94-2.06-.94 2.06-2.06.94zm-11 1L8.5 8.5l.94-2.06 2.06-.94-2.06-.94L8.5 2.5l-.94 2.06-2.06.94zm10 10l.94 2.06.94-2.06 2.06-.94-2.06-.94-.94-2.06-.94 2.06-2.06.94z\"/><path d=\"M17.41 7.96l-1.37-1.37c-.4-.4-.92-.59-1.43-.59-.52 0-1.04.2-1.43.59L10.3 9.45l-7.72 7.72c-.78.78-.78 2.05 0 2.83L4 21.41c.39.39.9.59 1.41.59.51 0 1.02-.2 1.41-.59l7.78-7.78 2.81-2.81c.8-.78.8-2.07 0-2.86zM5.41 20L4 18.59l7.72-7.72 1.47 1.35L5.41 20z\"/>\n",
              "  </svg>\n",
              "      </button>\n",
              "      \n",
              "  <style>\n",
              "    .colab-df-container {\n",
              "      display:flex;\n",
              "      flex-wrap:wrap;\n",
              "      gap: 12px;\n",
              "    }\n",
              "\n",
              "    .colab-df-convert {\n",
              "      background-color: #E8F0FE;\n",
              "      border: none;\n",
              "      border-radius: 50%;\n",
              "      cursor: pointer;\n",
              "      display: none;\n",
              "      fill: #1967D2;\n",
              "      height: 32px;\n",
              "      padding: 0 0 0 0;\n",
              "      width: 32px;\n",
              "    }\n",
              "\n",
              "    .colab-df-convert:hover {\n",
              "      background-color: #E2EBFA;\n",
              "      box-shadow: 0px 1px 2px rgba(60, 64, 67, 0.3), 0px 1px 3px 1px rgba(60, 64, 67, 0.15);\n",
              "      fill: #174EA6;\n",
              "    }\n",
              "\n",
              "    [theme=dark] .colab-df-convert {\n",
              "      background-color: #3B4455;\n",
              "      fill: #D2E3FC;\n",
              "    }\n",
              "\n",
              "    [theme=dark] .colab-df-convert:hover {\n",
              "      background-color: #434B5C;\n",
              "      box-shadow: 0px 1px 3px 1px rgba(0, 0, 0, 0.15);\n",
              "      filter: drop-shadow(0px 1px 2px rgba(0, 0, 0, 0.3));\n",
              "      fill: #FFFFFF;\n",
              "    }\n",
              "  </style>\n",
              "\n",
              "      <script>\n",
              "        const buttonEl =\n",
              "          document.querySelector('#df-c08e9dad-9e62-43a6-a0b7-34e5473d9a92 button.colab-df-convert');\n",
              "        buttonEl.style.display =\n",
              "          google.colab.kernel.accessAllowed ? 'block' : 'none';\n",
              "\n",
              "        async function convertToInteractive(key) {\n",
              "          const element = document.querySelector('#df-c08e9dad-9e62-43a6-a0b7-34e5473d9a92');\n",
              "          const dataTable =\n",
              "            await google.colab.kernel.invokeFunction('convertToInteractive',\n",
              "                                                     [key], {});\n",
              "          if (!dataTable) return;\n",
              "\n",
              "          const docLinkHtml = 'Like what you see? Visit the ' +\n",
              "            '<a target=\"_blank\" href=https://colab.research.google.com/notebooks/data_table.ipynb>data table notebook</a>'\n",
              "            + ' to learn more about interactive tables.';\n",
              "          element.innerHTML = '';\n",
              "          dataTable['output_type'] = 'display_data';\n",
              "          await google.colab.output.renderOutput(dataTable, element);\n",
              "          const docLink = document.createElement('div');\n",
              "          docLink.innerHTML = docLinkHtml;\n",
              "          element.appendChild(docLink);\n",
              "        }\n",
              "      </script>\n",
              "    </div>\n",
              "  </div>\n",
              "  "
            ]
          },
          "metadata": {}
        }
      ],
      "source": [
        "import pandas as pd\n",
        "from sklearn.model_selection import train_test_split\n",
        "import tensorflow as tf\n",
        "\n",
        "df_fake = pd.read_csv(\"./misinformation-fake-news-text-dataset-79k/DataSet_Misinfo_FAKE.csv\")\n",
        "df_fake[\"label\"] = 1\n",
        "df_true = pd.read_csv(\"./misinformation-fake-news-text-dataset-79k/DataSet_Misinfo_TRUE.csv\")\n",
        "df_true[\"label\"] = 0\n",
        "df = pd.concat([df_fake, df_true])[[\"text\", \"label\"]]\n",
        "df = df.dropna()\n",
        "\n",
        "# note - alle fake news staat eerst, daarna het echte nieuws --> hiermee moet rekening gehouden worden bij het splitsen\n",
        "display(df.head())\n",
        "\n",
        "max_text_length = df.text.str.len().max()\n",
        "X = df.text\n",
        "y = df.label\n",
        "\n",
        "X_train, X_test, y_train, y_test = train_test_split(X, y, test_size=0.2, shuffle=True)\n",
        "\n",
        "X_train = tf.convert_to_tensor(X_train.to_list())\n",
        "X_test =  tf.convert_to_tensor(X_test.to_list())\n",
        "y_train =  tf.convert_to_tensor(y_train.to_list())\n",
        "y_test =  tf.convert_to_tensor(y_test.to_list())"
      ]
    },
    {
      "cell_type": "code",
      "execution_count": null,
      "metadata": {
        "id": "S9JHrzFrs1mT",
        "colab": {
          "base_uri": "https://localhost:8080/"
        },
        "outputId": "8073eacf-a6f9-4aeb-b1f2-87d72b83e025"
      },
      "outputs": [
        {
          "output_type": "stream",
          "name": "stdout",
          "text": [
            "<class 'pandas.core.frame.DataFrame'>\n",
            "Int64Index: 78588 entries, 0 to 34974\n",
            "Data columns (total 2 columns):\n",
            " #   Column  Non-Null Count  Dtype \n",
            "---  ------  --------------  ----- \n",
            " 0   text    78588 non-null  object\n",
            " 1   label   78588 non-null  int64 \n",
            "dtypes: int64(1), object(1)\n",
            "memory usage: 1.8+ MB\n"
          ]
        }
      ],
      "source": [
        "df.dropna().info()"
      ]
    },
    {
      "cell_type": "code",
      "execution_count": null,
      "metadata": {
        "id": "Tr6HITHson6S",
        "colab": {
          "base_uri": "https://localhost:8080/"
        },
        "outputId": "c5c2c6a2-4a18-4233-83a4-fa4536050936"
      },
      "outputs": [
        {
          "output_type": "stream",
          "name": "stdout",
          "text": [
            "Vocabulary size: 4000\n"
          ]
        },
        {
          "output_type": "execute_result",
          "data": {
            "text/plain": [
              "<keras.layers.core.embedding.Embedding at 0x7f9c54db2550>"
            ]
          },
          "metadata": {},
          "execution_count": 18
        }
      ],
      "source": [
        "# text vectorization\n",
        "vectorize_layer = tf.keras.layers.TextVectorization(\n",
        "    max_tokens=max_features,\n",
        "    output_mode='int',\n",
        "    output_sequence_length=max_len)\n",
        "\n",
        "vectorize_layer.adapt(X_train)    # batching for increasing performance\n",
        "print(\"Vocabulary size:\", len(vectorize_layer.get_vocabulary()))\n",
        "\n",
        "# embedding\n",
        "voc = vectorize_layer.get_vocabulary()\n",
        "word_index = dict(zip(voc, range(len(voc))))\n",
        "\n",
        "num_tokens = len(voc) + 2\n",
        "embedding_dim = 50\n",
        "hits = 0\n",
        "misses = 0\n",
        "\n",
        "# Prepare embedding matrix\n",
        "embedding_matrix = np.zeros((num_tokens, embedding_dim))\n",
        "for word, i in word_index.items():\n",
        "    embedding_vector = embeddings_index.get(word)\n",
        "    if embedding_vector is not None:\n",
        "        # Words not found in embedding index will be all-zeros.\n",
        "        # This includes the representation for \"padding\" and \"OOV\"\n",
        "        embedding_matrix[i] = embedding_vector\n",
        "        hits += 1\n",
        "    else:\n",
        "        misses += 1\n",
        "print(\"Converted %d words (%d misses)\" % (hits, misses))\n",
        "\n",
        "embedding_layer = tf.keras.layers.Embedding(\n",
        "    num_tokens,\n",
        "    embedding_dim,\n",
        "    embeddings_initializer=tf.keras.initializers.Constant(embedding_matrix),\n",
        "    trainable=False,        # belangrijk -> niet opnieuw aanpassen want reeds getrained\n",
        ")"
      ]
    },
    {
      "cell_type": "code",
      "execution_count": null,
      "metadata": {
        "id": "QotQ_pA_on6S",
        "colab": {
          "base_uri": "https://localhost:8080/",
          "height": 246
        },
        "outputId": "0e9ac432-1386-4301-9c64-49446a25074c"
      },
      "outputs": [
        {
          "output_type": "error",
          "ename": "NameError",
          "evalue": "ignored",
          "traceback": [
            "\u001b[0;31m---------------------------------------------------------------------------\u001b[0m",
            "\u001b[0;31mNameError\u001b[0m                                 Traceback (most recent call last)",
            "\u001b[0;32m<ipython-input-14-9f2d4bc44405>\u001b[0m in \u001b[0;36m<module>\u001b[0;34m\u001b[0m\n\u001b[1;32m      2\u001b[0m     \u001b[0mtf\u001b[0m\u001b[0;34m.\u001b[0m\u001b[0mkeras\u001b[0m\u001b[0;34m.\u001b[0m\u001b[0mInput\u001b[0m\u001b[0;34m(\u001b[0m\u001b[0mshape\u001b[0m\u001b[0;34m=\u001b[0m\u001b[0;34m(\u001b[0m\u001b[0;36m1\u001b[0m\u001b[0;34m,\u001b[0m\u001b[0;34m)\u001b[0m\u001b[0;34m,\u001b[0m \u001b[0mdtype\u001b[0m\u001b[0;34m=\u001b[0m\u001b[0mtf\u001b[0m\u001b[0;34m.\u001b[0m\u001b[0mstring\u001b[0m\u001b[0;34m)\u001b[0m\u001b[0;34m,\u001b[0m\u001b[0;34m\u001b[0m\u001b[0;34m\u001b[0m\u001b[0m\n\u001b[1;32m      3\u001b[0m     \u001b[0mvectorize_layer\u001b[0m\u001b[0;34m,\u001b[0m\u001b[0;34m\u001b[0m\u001b[0;34m\u001b[0m\u001b[0m\n\u001b[0;32m----> 4\u001b[0;31m     \u001b[0membedding_layer\u001b[0m\u001b[0;34m,\u001b[0m\u001b[0;34m\u001b[0m\u001b[0;34m\u001b[0m\u001b[0m\n\u001b[0m\u001b[1;32m      5\u001b[0m     \u001b[0mtf\u001b[0m\u001b[0;34m.\u001b[0m\u001b[0mkeras\u001b[0m\u001b[0;34m.\u001b[0m\u001b[0mlayers\u001b[0m\u001b[0;34m.\u001b[0m\u001b[0mSimpleRNN\u001b[0m\u001b[0;34m(\u001b[0m\u001b[0munits\u001b[0m\u001b[0;34m=\u001b[0m\u001b[0;36m100\u001b[0m\u001b[0;34m)\u001b[0m\u001b[0;34m,\u001b[0m\u001b[0;34m\u001b[0m\u001b[0;34m\u001b[0m\u001b[0m\n\u001b[1;32m      6\u001b[0m     \u001b[0mtf\u001b[0m\u001b[0;34m.\u001b[0m\u001b[0mkeras\u001b[0m\u001b[0;34m.\u001b[0m\u001b[0mlayers\u001b[0m\u001b[0;34m.\u001b[0m\u001b[0mDense\u001b[0m\u001b[0;34m(\u001b[0m\u001b[0;36m1\u001b[0m\u001b[0;34m,\u001b[0m \u001b[0mactivation\u001b[0m\u001b[0;34m=\u001b[0m\u001b[0;34m'sigmoid'\u001b[0m\u001b[0;34m)\u001b[0m\u001b[0;34m\u001b[0m\u001b[0;34m\u001b[0m\u001b[0m\n",
            "\u001b[0;31mNameError\u001b[0m: name 'embedding_layer' is not defined"
          ]
        }
      ],
      "source": [
        "model = tf.keras.models.Sequential([\n",
        "    tf.keras.Input(shape=(1,), dtype=tf.string),\n",
        "    vectorize_layer,\n",
        "    embedding_layer,\n",
        "    tf.keras.layers.SimpleRNN(units=100),\n",
        "    tf.keras.layers.Dense(1, activation='sigmoid')\n",
        "])\n",
        "\n",
        "model.summary()"
      ]
    },
    {
      "cell_type": "code",
      "execution_count": null,
      "metadata": {
        "id": "LS-1XJ250POL",
        "colab": {
          "base_uri": "https://localhost:8080/"
        },
        "outputId": "0deb7ce6-b88e-4855-94a5-b8bca547256a"
      },
      "outputs": [
        {
          "output_type": "stream",
          "name": "stdout",
          "text": [
            "Epoch 1/3\n",
            "983/983 [==============================] - 8s 8ms/step - loss: 0.5036 - accuracy: 0.7537\n",
            "Epoch 2/3\n",
            "983/983 [==============================] - 8s 8ms/step - loss: 0.4410 - accuracy: 0.7901\n",
            "Epoch 3/3\n",
            "983/983 [==============================] - 8s 8ms/step - loss: 0.4145 - accuracy: 0.8040\n",
            "[0.42230862379074097, 0.7996564507484436]\n"
          ]
        }
      ],
      "source": [
        "model.compile(loss='binary_crossentropy', optimizer='adam', metrics=['accuracy'])\n",
        "model.fit(X_train, y_train, epochs=3, batch_size=64)\n",
        "scores = model.evaluate(X_test, y_test, verbose=0)\n",
        "print(scores)"
      ]
    },
    {
      "cell_type": "code",
      "execution_count": null,
      "metadata": {
        "id": "ve0LaVco1C-L",
        "colab": {
          "base_uri": "https://localhost:8080/"
        },
        "outputId": "79373adf-cdc3-4c08-eca3-de62b4a8f7e7"
      },
      "outputs": [
        {
          "output_type": "stream",
          "name": "stdout",
          "text": [
            "Model: \"sequential_10\"\n",
            "_________________________________________________________________\n",
            " Layer (type)                Output Shape              Param #   \n",
            "=================================================================\n",
            " text_vectorization_6 (TextV  (None, 4)                0         \n",
            " ectorization)                                                   \n",
            "                                                                 \n",
            " embedding_2 (Embedding)     (None, 4, 50)             250100    \n",
            "                                                                 \n",
            " lstm (LSTM)                 (None, 100)               60400     \n",
            "                                                                 \n",
            " dense_2 (Dense)             (None, 1)                 101       \n",
            "                                                                 \n",
            "=================================================================\n",
            "Total params: 310,601\n",
            "Trainable params: 60,501\n",
            "Non-trainable params: 250,100\n",
            "_________________________________________________________________\n",
            "None\n",
            "Epoch 1/3\n",
            "983/983 [==============================] - 14s 12ms/step - loss: 0.5128 - accuracy: 0.7452\n",
            "Epoch 2/3\n",
            "983/983 [==============================] - 13s 13ms/step - loss: 0.4500 - accuracy: 0.7841\n",
            "Epoch 3/3\n",
            "983/983 [==============================] - 12s 12ms/step - loss: 0.4264 - accuracy: 0.7967\n",
            "[0.4149371385574341, 0.8032828569412231]\n"
          ]
        }
      ],
      "source": [
        "model = tf.keras.models.Sequential([\n",
        "    tf.keras.Input(shape=(1,), dtype=tf.string),\n",
        "    vectorize_layer,\n",
        "    embedding_layer,\n",
        "    tf.keras.layers.LSTM(units=100, dropout=0.2, recurrent_dropout=0.2),\n",
        "    tf.keras.layers.Dense(1, activation='sigmoid')\n",
        "])\n",
        "\n",
        "print(model.summary())\n",
        "model.compile(loss='binary_crossentropy', optimizer='adam', metrics=['accuracy'])\n",
        "model.fit(X_train, y_train, epochs=3, batch_size=64)\n",
        "scores = model.evaluate(X_test, y_test, verbose=0)\n",
        "print(scores)"
      ]
    },
    {
      "cell_type": "code",
      "execution_count": null,
      "metadata": {
        "id": "awFcalqK1t8j",
        "colab": {
          "base_uri": "https://localhost:8080/"
        },
        "outputId": "8092d5e2-3913-41de-89ad-5449c21dba12"
      },
      "outputs": [
        {
          "output_type": "stream",
          "name": "stdout",
          "text": [
            "Model: \"sequential_11\"\n",
            "_________________________________________________________________\n",
            " Layer (type)                Output Shape              Param #   \n",
            "=================================================================\n",
            " text_vectorization_6 (TextV  (None, 4)                0         \n",
            " ectorization)                                                   \n",
            "                                                                 \n",
            " embedding_2 (Embedding)     (None, 4, 50)             250100    \n",
            "                                                                 \n",
            " gru (GRU)                   (None, 100)               45600     \n",
            "                                                                 \n",
            " dense_3 (Dense)             (None, 1)                 101       \n",
            "                                                                 \n",
            "=================================================================\n",
            "Total params: 295,801\n",
            "Trainable params: 45,701\n",
            "Non-trainable params: 250,100\n",
            "_________________________________________________________________\n",
            "None\n",
            "Epoch 1/3\n",
            "983/983 [==============================] - 14s 12ms/step - loss: 0.5147 - accuracy: 0.7456\n",
            "Epoch 2/3\n",
            "983/983 [==============================] - 12s 12ms/step - loss: 0.4544 - accuracy: 0.7814\n",
            "Epoch 3/3\n",
            "983/983 [==============================] - 12s 12ms/step - loss: 0.4315 - accuracy: 0.7951\n",
            "[0.4160211980342865, 0.8043644428253174]\n"
          ]
        }
      ],
      "source": [
        "model = tf.keras.models.Sequential([\n",
        "    tf.keras.Input(shape=(1,), dtype=tf.string),\n",
        "    vectorize_layer,\n",
        "    embedding_layer,\n",
        "    tf.keras.layers.GRU(units=100, dropout=0.2, recurrent_dropout=0.2),\n",
        "    tf.keras.layers.Dense(1, activation='sigmoid')\n",
        "])\n",
        "\n",
        "print(model.summary())\n",
        "model.compile(loss='binary_crossentropy', optimizer='adam', metrics=['accuracy'])\n",
        "model.fit(X_train, y_train, epochs=3, batch_size=64)\n",
        "scores = model.evaluate(X_test, y_test, verbose=0)\n",
        "print(scores)"
      ]
    },
    {
      "cell_type": "markdown",
      "metadata": {
        "id": "kW8o_cHZWqCl"
      },
      "source": [
        "## Many-to-many\n",
        "\n",
        "\n",
        "\n",
        "Dit soort architecturen heeft een sequentie van woorden als input en ook een sequentie als output.\n",
        "Een typisch voorbeeld hiervan is het maken van een model dat tekst genereert op basis van een begintekst.\n",
        "\n",
        "De code voor het voorbeeld bestaat uit de volgende stappen:\n",
        "* Maken van sequenties van woorden en volgende woorden\n",
        "* De woorden in deze sequenties omzetten naar embeddings\n",
        "* Opbouwen van een model\n",
        "* Trainen van het model\n",
        "* Experimenteren met het model.\n",
        "\n",
        "**1. Maken van de sequenties**\n",
        "\n",
        "In de eerste stap gaan we tekst inladen en de zinnen omzetten naar sequenties en de woorden die erachter komen.\n",
        "De data die we hiervoor gaan gebruiken zijn de artikels uit de vorige dataset met artikels.\n",
        "Dit kan je doen door middel van de volgende code:\n"
      ]
    },
    {
      "cell_type": "code",
      "source": [
        "import numpy as np\n",
        "import tensorflow as tf\n",
        "\n",
        "sequenties = []\n",
        "next_words = []\n",
        "sequence_length=30\n",
        "sequence_step=1\n",
        "max_features = 4000\n",
        "\n",
        "vectorize_layer = tf.keras.layers.TextVectorization(\n",
        "    max_tokens=max_features,\n",
        "    output_mode='int')\n",
        "vectorize_layer.adapt(X_train)\n",
        "\n",
        "def extract_input_data(row):\n",
        "  article = row.text\n",
        "  tokens = vectorize_layer(article)\n",
        "  for i in range(0, len(tokens)-sequence_length, sequence_step):\n",
        "    sequenties.append(tokens[i: i+sequence_length])\n",
        "    next_words.append(tokens[i+sequence_length])\n",
        "\n",
        "df.sample(n=200).apply(extract_input_data, axis=1)\n",
        "\n",
        "print(\"number of sequences\", len(sequenties))\n",
        "print(\"number of words\", len(next_words))"
      ],
      "metadata": {
        "colab": {
          "base_uri": "https://localhost:8080/"
        },
        "id": "E2o7DkCZnr48",
        "outputId": "658437a2-d9f5-446d-cdbf-b1c18e2cf604"
      },
      "execution_count": null,
      "outputs": [
        {
          "output_type": "stream",
          "name": "stdout",
          "text": [
            "number of sequences 87923\n",
            "number of words 87923\n"
          ]
        }
      ]
    },
    {
      "cell_type": "code",
      "source": [
        "sequenties[0]"
      ],
      "metadata": {
        "colab": {
          "base_uri": "https://localhost:8080/"
        },
        "id": "eyTPdeuK0o-I",
        "outputId": "84d344f6-9061-4b92-f6b2-bb27b94c990b"
      },
      "execution_count": null,
      "outputs": [
        {
          "output_type": "execute_result",
          "data": {
            "text/plain": [
              "<tf.Tensor: shape=(30,), dtype=int64, numpy=\n",
              "array([   1, 3801,    1,  739,    1,   73,  400,    1,  409,    1,  172,\n",
              "          6, 1313,    1,    9,  355,    7,    2,    1,  668,    2,    1,\n",
              "          1,  672, 1156,  614, 1680, 1069,    1,    1])>"
            ]
          },
          "metadata": {},
          "execution_count": 9
        }
      ]
    },
    {
      "cell_type": "markdown",
      "source": [
        "**2. Woorden omzetten naar embeddings**"
      ],
      "metadata": {
        "id": "0HJBYQiA3c7H"
      }
    },
    {
      "cell_type": "code",
      "source": [
        "# embedding\n",
        "voc = vectorize_layer.get_vocabulary()\n",
        "word_index = dict(zip(voc, range(len(voc))))\n",
        "\n",
        "num_tokens = len(voc) + 2\n",
        "embedding_dim = 50\n",
        "hits = 0\n",
        "misses = 0\n",
        "\n",
        "# Prepare embedding matrix\n",
        "embedding_matrix = np.zeros((num_tokens, embedding_dim))\n",
        "for word, i in word_index.items():\n",
        "    embedding_vector = embeddings_index.get(word)\n",
        "    if embedding_vector is not None:\n",
        "        # Words not found in embedding index will be all-zeros.\n",
        "        # This includes the representation for \"padding\" and \"OOV\"\n",
        "        embedding_matrix[i] = embedding_vector\n",
        "        hits += 1\n",
        "    else:\n",
        "        misses += 1\n",
        "print(\"Converted %d words (%d misses)\" % (hits, misses))\n",
        "\n",
        "embedding_layer = tf.keras.layers.Embedding(\n",
        "    num_tokens,\n",
        "    embedding_dim,\n",
        "    embeddings_initializer=tf.keras.initializers.Constant(embedding_matrix),\n",
        "    trainable=False,        # belangrijk -> niet opnieuw aanpassen want reeds getrained\n",
        ")\n",
        "\n",
        "X = np.zeros((len(sequenties), sequence_length, embedding_dim), dtype=np.bool)\n",
        "y = np.zeros((len(sequenties), embedding_dim), dtype=np.bool)\n",
        "\n",
        "for i in range(0, len(sequenties)):\n",
        "  if i%1000 == 0:\n",
        "    print(i)\n",
        "  for j in range(sequence_length):\n",
        "    X[i,j] = embedding_layer(sequenties[i][j])\n",
        "  y[i] = embedding_layer(next_words[i])"
      ],
      "metadata": {
        "colab": {
          "base_uri": "https://localhost:8080/"
        },
        "id": "LIuZx09kyC_O",
        "outputId": "776ead11-ba09-4fdb-8f87-4d5a42a173d1"
      },
      "execution_count": null,
      "outputs": [
        {
          "output_type": "stream",
          "name": "stdout",
          "text": [
            "Converted 3897 words (103 misses)\n",
            "0\n"
          ]
        },
        {
          "output_type": "stream",
          "name": "stderr",
          "text": [
            "/usr/local/lib/python3.7/dist-packages/ipykernel_launcher.py:30: DeprecationWarning: `np.bool` is a deprecated alias for the builtin `bool`. To silence this warning, use `bool` by itself. Doing this will not modify any behavior and is safe. If you specifically wanted the numpy scalar type, use `np.bool_` here.\n",
            "Deprecated in NumPy 1.20; for more details and guidance: https://numpy.org/devdocs/release/1.20.0-notes.html#deprecations\n",
            "/usr/local/lib/python3.7/dist-packages/ipykernel_launcher.py:31: DeprecationWarning: `np.bool` is a deprecated alias for the builtin `bool`. To silence this warning, use `bool` by itself. Doing this will not modify any behavior and is safe. If you specifically wanted the numpy scalar type, use `np.bool_` here.\n",
            "Deprecated in NumPy 1.20; for more details and guidance: https://numpy.org/devdocs/release/1.20.0-notes.html#deprecations\n"
          ]
        },
        {
          "output_type": "stream",
          "name": "stdout",
          "text": [
            "1000\n",
            "2000\n",
            "3000\n",
            "4000\n",
            "5000\n",
            "6000\n",
            "7000\n",
            "8000\n",
            "9000\n",
            "10000\n",
            "11000\n",
            "12000\n",
            "13000\n",
            "14000\n",
            "15000\n",
            "16000\n",
            "17000\n",
            "18000\n",
            "19000\n",
            "20000\n",
            "21000\n",
            "22000\n",
            "23000\n",
            "24000\n",
            "25000\n",
            "26000\n",
            "27000\n",
            "28000\n",
            "29000\n",
            "30000\n",
            "31000\n",
            "32000\n",
            "33000\n",
            "34000\n",
            "35000\n",
            "36000\n",
            "37000\n",
            "38000\n",
            "39000\n",
            "40000\n",
            "41000\n",
            "42000\n",
            "43000\n",
            "44000\n",
            "45000\n",
            "46000\n",
            "47000\n",
            "48000\n",
            "49000\n",
            "50000\n",
            "51000\n",
            "52000\n",
            "53000\n",
            "54000\n",
            "55000\n",
            "56000\n",
            "57000\n",
            "58000\n",
            "59000\n",
            "60000\n",
            "61000\n",
            "62000\n",
            "63000\n",
            "64000\n",
            "65000\n",
            "66000\n",
            "67000\n",
            "68000\n",
            "69000\n",
            "70000\n",
            "71000\n",
            "72000\n",
            "73000\n",
            "74000\n",
            "75000\n",
            "76000\n",
            "77000\n",
            "78000\n",
            "79000\n",
            "80000\n",
            "81000\n",
            "82000\n",
            "83000\n",
            "84000\n",
            "85000\n",
            "86000\n",
            "87000\n"
          ]
        }
      ]
    },
    {
      "cell_type": "markdown",
      "source": [
        "**3. Opstellen van een model**\n",
        "\n",
        "Hierbij maken we gebruik van een nieuwe laag.\n",
        "Namelijk de [**Bidirectional**](https://www.tensorflow.org/api_docs/python/tf/keras/layers/Bidirectional/) laag.\n",
        "Deze laag maakt het mogelijk om de sequentie zowel voorwaarts als achterwaarts te bestuderen.\n",
        "Dit zorgt ervoor dat bepaalde tijdsreeksen zoals tekst veel beter geanalyseerd en gemodelleerd kunnnen worden door een RNN.\n",
        "Dit gebeurd in onderstaande code"
      ],
      "metadata": {
        "id": "JyEIIyZe3g23"
      }
    },
    {
      "cell_type": "code",
      "source": [
        "num_neurons=150\n",
        "\n",
        "model = tf.keras.models.Sequential()\n",
        "model.add(tf.keras.layers.Bidirectional(tf.keras.layers.LSTM(num_neurons, activation=\"relu\"),input_shape=(sequence_length, embedding_dim)))\n",
        "model.add(tf.keras.layers.Dense(embedding_dim))\n",
        "\n",
        "model.compile(loss='mse', optimizer='adam')\n",
        "\n",
        "model.summary()"
      ],
      "metadata": {
        "colab": {
          "base_uri": "https://localhost:8080/"
        },
        "id": "suVK2x0-3lq_",
        "outputId": "bcf1eb55-70be-4795-a9b2-e1861a059965"
      },
      "execution_count": null,
      "outputs": [
        {
          "output_type": "stream",
          "name": "stdout",
          "text": [
            "Model: \"sequential\"\n",
            "_________________________________________________________________\n",
            " Layer (type)                Output Shape              Param #   \n",
            "=================================================================\n",
            " bidirectional (Bidirectiona  (None, 300)              241200    \n",
            " l)                                                              \n",
            "                                                                 \n",
            " dense (Dense)               (None, 50)                15050     \n",
            "                                                                 \n",
            "=================================================================\n",
            "Total params: 256,250\n",
            "Trainable params: 256,250\n",
            "Non-trainable params: 0\n",
            "_________________________________________________________________\n"
          ]
        }
      ]
    },
    {
      "cell_type": "code",
      "source": [
        "model(tf.expand_dims(X[0],0))"
      ],
      "metadata": {
        "colab": {
          "base_uri": "https://localhost:8080/"
        },
        "id": "9_K43Jc9LFAx",
        "outputId": "dcba6ab0-b3c7-43b4-d6a8-25001f49aa23"
      },
      "execution_count": null,
      "outputs": [
        {
          "output_type": "execute_result",
          "data": {
            "text/plain": [
              "<tf.Tensor: shape=(1, 50), dtype=float32, numpy=\n",
              "array([[-0.26766533,  0.20878775, -0.14674123,  0.51369286, -0.30343708,\n",
              "         0.5639777 ,  0.08738301, -0.00352803,  0.36087194,  0.16123   ,\n",
              "         0.06881865, -0.01617968,  0.09604689, -0.25714406,  0.06888981,\n",
              "        -0.09767964, -0.05931208,  0.15136728, -0.4251202 , -0.10957611,\n",
              "        -0.01195525,  0.00141792,  0.03537942,  0.07809545, -0.47946268,\n",
              "        -0.02608854, -0.14566112, -0.14182928, -0.44753397,  0.29456908,\n",
              "        -0.10165446, -0.28152043, -0.08618772,  0.18648405,  0.00418301,\n",
              "         0.00399116, -0.04382921,  0.17616312, -0.09215686, -0.20888965,\n",
              "        -0.00201762, -0.1333602 ,  0.06807059, -0.33696002, -0.00363174,\n",
              "        -0.19267845, -0.20316286, -0.04768033,  0.27892205, -0.3388823 ]],\n",
              "      dtype=float32)>"
            ]
          },
          "metadata": {},
          "execution_count": 17
        }
      ]
    },
    {
      "cell_type": "markdown",
      "source": [
        "**4. Trainen van een model**"
      ],
      "metadata": {
        "id": "gegvp8bc4m_p"
      }
    },
    {
      "cell_type": "code",
      "source": [
        "batch_size = 32 # minibatch size\n",
        "num_epochs = 5 # number of epochs\n",
        "\n",
        "#fit the model\n",
        "history = model.fit(X, y,\n",
        "                 batch_size=batch_size,\n",
        "                 shuffle=True,\n",
        "                 epochs=num_epochs,\n",
        "                 validation_split=0.1)\n",
        "\n",
        "#save the model\n",
        "model.save('text_generator.h5')"
      ],
      "metadata": {
        "colab": {
          "base_uri": "https://localhost:8080/"
        },
        "id": "3l6QInLL4m1f",
        "outputId": "bd408c24-89ed-44b6-aa4a-2fbee19beeb0"
      },
      "execution_count": null,
      "outputs": [
        {
          "output_type": "stream",
          "name": "stdout",
          "text": [
            "Epoch 1/5\n",
            "2473/2473 [==============================] - 180s 73ms/step - loss: 0.1362 - val_loss: 0.1267\n",
            "Epoch 2/5\n",
            "2473/2473 [==============================] - 153s 62ms/step - loss: 0.1358 - val_loss: 0.1253\n",
            "Epoch 3/5\n",
            "2473/2473 [==============================] - 141s 57ms/step - loss: 0.1357 - val_loss: 0.1274\n",
            "Epoch 4/5\n",
            "2473/2473 [==============================] - 140s 56ms/step - loss: 0.1356 - val_loss: 0.1274\n",
            "Epoch 5/5\n",
            "2473/2473 [==============================] - 141s 57ms/step - loss: 0.1356 - val_loss: 0.1275\n"
          ]
        }
      ]
    },
    {
      "cell_type": "markdown",
      "source": [
        "**5. Genereren van tekst**\n",
        "\n",
        "Wanneer we nu een beginsequentie aan het model geven, dan kan het volgende woord voorspeld worden.\n",
        "Dit woord kan dan toegevoegd worden aan de sequentie en het volgende woord kan voorspeld worden.\n",
        "Door dit te herhalen kan je een tekst van willekeurige lengte voorspellen.\n",
        "\n",
        "Een probleem hierbij is nog dat we embeddings voorspellen.\n",
        "Dit is een vector voorstelling van elk woord.\n",
        "Deze vectors moeten nog terug geconverteerd worden naar een woord.\n",
        "\n",
        "Deze conversies worden uitgevoerd door onderstaande code:"
      ],
      "metadata": {
        "id": "S2XfQ8aE4mjP"
      }
    },
    {
      "cell_type": "code",
      "source": [
        "test = \"eric\"\n",
        "test_index = vectorize_layer(test)\n",
        "test_embedding = embedding_layer(test_index)\n",
        "\n",
        "print(\"Origineel woord\", test)\n",
        "print(\"index van origineel\", test_index)\n",
        "print(\"Embedding van origineel\", test_embedding)\n",
        "print(\"Shape embedding\", test_embedding.shape)\n",
        "\n",
        "# de embedding layer berekent eigenlijk de vector zoals een neuraal netwerk.\n",
        "# we kunnen hiervan de omgeerde berekenen als volgt: (source: https://stackoverflow.com/questions/45773660/reverse-word-embeddings-in-keras-python)\n",
        "voc_values = tf.linalg.matmul(test_embedding,tf.linalg.pinv(embedding_layer.weights[0]))\n",
        "index = np.argmax(voc_values)\n",
        "test_reverted_word = vectorize_layer.get_vocabulary()[index]\n",
        "\n",
        "print(\"index reversed word\", index)\n",
        "print(\"reversed word\", test_reverted_word)"
      ],
      "metadata": {
        "colab": {
          "base_uri": "https://localhost:8080/"
        },
        "id": "aARLbDPw9Iig",
        "outputId": "3c3bb034-27ea-42d0-88b7-bc059953993d"
      },
      "execution_count": null,
      "outputs": [
        {
          "output_type": "stream",
          "name": "stdout",
          "text": [
            "Origineel woord eric\n",
            "index van origineel tf.Tensor([1870], shape=(1,), dtype=int64)\n",
            "Embedding van origineel tf.Tensor(\n",
            "[[-0.71378   0.6021   -0.18039   0.055713  0.26257   0.47558  -1.4423\n",
            "  -0.21101  -0.28674  -0.29056   0.50427   0.6679   -1.2103   -0.35219\n",
            "   0.678    -0.079145  0.90001  -1.4222   -0.79457   0.19777  -0.34857\n",
            "  -0.13766   0.092349 -0.098746 -0.37293  -0.86464   0.25728  -0.36503\n",
            "  -0.097986 -0.60648   0.96637   0.25977   0.21768  -0.44957  -0.26333\n",
            "  -0.20539   0.30741   0.09092   0.54008   1.1054    0.38505   1.2016\n",
            "  -0.68476  -0.68771   0.81133  -0.89632   0.41665  -0.42198  -0.77933\n",
            "   1.4481  ]], shape=(1, 50), dtype=float32)\n",
            "Shape embedding (1, 50)\n",
            "index reversed word 1870\n",
            "reversed word eric\n"
          ]
        }
      ]
    },
    {
      "cell_type": "code",
      "source": [
        "def reverse_embedding(word_embeddings):\n",
        "  voc_values = tf.linalg.matmul(word_embeddings,tf.linalg.pinv(embedding_layer.weights[0]))\n",
        "  index = np.argmax(voc_values)\n",
        "  test_reverted_word = vectorize_layer.get_vocabulary()[index]\n",
        "\n",
        "  return test_reverted_word"
      ],
      "metadata": {
        "id": "faMH7lU32x38"
      },
      "execution_count": null,
      "outputs": []
    },
    {
      "cell_type": "markdown",
      "source": [
        "Met bovenstaande functie kunnen we dan embeddings gaan voorspellen en terug omzetten naar tekst.\n",
        "Dit gebeurd in onderstaande code."
      ],
      "metadata": {
        "id": "jBKenaJL9HhI"
      }
    },
    {
      "cell_type": "code",
      "source": [
        "num_words_to_generate = 1\n",
        "generated = ''\n",
        "sentence = []\n",
        "\n",
        "seed_sentence = \"The winner of the elections is going to be \"\n",
        "generated = seed_sentence\n",
        "seed = embedding_layer(vectorize_layer(seed_sentence))\n",
        "seed_X = np.zeros((1, sequence_length, embedding_dim))\n",
        "seed_X[0, -len(seed):] = seed\n",
        "\n",
        "# make prediction\n",
        "for i in range(num_words_to_generate):\n",
        "  preds = model.predict(seed_X, verbose=0)\n",
        "  # print(preds)\n",
        "\n",
        "  # save predicted word\n",
        "  next_word = reverse_embedding(preds)\n",
        "  generated += ' ' + next_word\n",
        "  sentence.append(next_word)\n",
        "\n",
        "  # shift sequence\n",
        "  tmp = seed_X.copy()\n",
        "  seed_X[0,:-1] = seed_X[0, 1:]\n",
        "  seed_X[0, -1] = preds\n",
        "  difference = ((tmp-seed_X) **2).sum()\n",
        "  print(difference)\n",
        "\n",
        "print(\"Result is:\")\n",
        "print(seed_sentence, ' '.join(sentence))"
      ],
      "metadata": {
        "colab": {
          "base_uri": "https://localhost:8080/"
        },
        "id": "aY5uo81t4mQX",
        "outputId": "b9ae9594-3b4a-4d4f-a103-f627c9dbbc26"
      },
      "execution_count": null,
      "outputs": [
        {
          "output_type": "stream",
          "name": "stdout",
          "text": [
            "222.32843796049923\n",
            "Result is:\n",
            "The winner of the elections is going to be  hasn\n"
          ]
        }
      ]
    },
    {
      "cell_type": "markdown",
      "metadata": {
        "id": "YUU9rKpCM1YN"
      },
      "source": [
        "## One-to-many\n",
        "\n",
        "In dit soort van problemen beginnen we van 1 enkele input waarden die we een aantal keer hergebruiken om zo meerdere outputs te genereren.\n",
        "Dit kan je zien in onderstaande figuur.\n",
        "\n",
        "![one-to-many.png](data:image/png;base64,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)\n",
        "\n",
        "Als voorbeeld hiervan gaan we kijken of de volgende 5 getallen van een getal kunnen voorspeld worden aan de hand van recurrent neuraal netwerk.\n",
        "\n",
        "De eerste stap in dit voorbeeldje moeten we dan deze experimentele dataset aanmaken.\n",
        "Dit kan als volgt:"
      ]
    },
    {
      "cell_type": "code",
      "source": [
        "import tensorflow as tf\n",
        "import numpy as np\n",
        "\n",
        "max_int = 100\n",
        "num_samples = 100\n",
        "output_length = 5\n",
        "\n",
        "X = np.random.randint(max_int, size=(num_samples))\n",
        "X = X.astype('float')\n",
        "Y = np.zeros((num_samples, output_length))\n",
        "\n",
        "print(Y.shape)\n",
        "\n",
        "for i in range(num_samples):\n",
        "  Y_element = np.zeros(output_length)\n",
        "  for j in range(output_length):\n",
        "    Y_element[j] = X[i]+j+1\n",
        "  Y[i] = Y_element\n",
        "\n",
        "print(X)\n",
        "print(Y)"
      ],
      "metadata": {
        "colab": {
          "base_uri": "https://localhost:8080/"
        },
        "id": "2fnZ2aqoNWFP",
        "outputId": "364fa6e4-f040-44ed-f0a8-24a34286b1ae"
      },
      "execution_count": null,
      "outputs": [
        {
          "output_type": "stream",
          "name": "stdout",
          "text": [
            "(100, 5)\n",
            "[38. 50. 99. 48. 57. 45. 31.  8. 57. 66. 44. 86. 95. 50. 55. 21. 45. 80.\n",
            " 94.  6. 67. 21. 62. 20. 85. 20. 12. 10. 35. 69. 61. 25. 10. 20. 70.  5.\n",
            " 57. 23. 65. 71. 47. 74. 23. 37. 31. 96.  1. 18. 14. 25. 54. 69. 59. 62.\n",
            " 94.  3. 53. 36.  2. 63. 46. 11.  1. 77. 49. 41. 44. 35. 66. 60. 71. 83.\n",
            " 15.  7. 38.  1. 23. 36. 98. 56. 17. 36. 30. 11. 69. 79. 64. 28. 58. 87.\n",
            " 55.  0.  6. 79. 65. 64. 30. 13. 65.  2.]\n",
            "[[ 39.  40.  41.  42.  43.]\n",
            " [ 51.  52.  53.  54.  55.]\n",
            " [100. 101. 102. 103. 104.]\n",
            " [ 49.  50.  51.  52.  53.]\n",
            " [ 58.  59.  60.  61.  62.]\n",
            " [ 46.  47.  48.  49.  50.]\n",
            " [ 32.  33.  34.  35.  36.]\n",
            " [  9.  10.  11.  12.  13.]\n",
            " [ 58.  59.  60.  61.  62.]\n",
            " [ 67.  68.  69.  70.  71.]\n",
            " [ 45.  46.  47.  48.  49.]\n",
            " [ 87.  88.  89.  90.  91.]\n",
            " [ 96.  97.  98.  99. 100.]\n",
            " [ 51.  52.  53.  54.  55.]\n",
            " [ 56.  57.  58.  59.  60.]\n",
            " [ 22.  23.  24.  25.  26.]\n",
            " [ 46.  47.  48.  49.  50.]\n",
            " [ 81.  82.  83.  84.  85.]\n",
            " [ 95.  96.  97.  98.  99.]\n",
            " [  7.   8.   9.  10.  11.]\n",
            " [ 68.  69.  70.  71.  72.]\n",
            " [ 22.  23.  24.  25.  26.]\n",
            " [ 63.  64.  65.  66.  67.]\n",
            " [ 21.  22.  23.  24.  25.]\n",
            " [ 86.  87.  88.  89.  90.]\n",
            " [ 21.  22.  23.  24.  25.]\n",
            " [ 13.  14.  15.  16.  17.]\n",
            " [ 11.  12.  13.  14.  15.]\n",
            " [ 36.  37.  38.  39.  40.]\n",
            " [ 70.  71.  72.  73.  74.]\n",
            " [ 62.  63.  64.  65.  66.]\n",
            " [ 26.  27.  28.  29.  30.]\n",
            " [ 11.  12.  13.  14.  15.]\n",
            " [ 21.  22.  23.  24.  25.]\n",
            " [ 71.  72.  73.  74.  75.]\n",
            " [  6.   7.   8.   9.  10.]\n",
            " [ 58.  59.  60.  61.  62.]\n",
            " [ 24.  25.  26.  27.  28.]\n",
            " [ 66.  67.  68.  69.  70.]\n",
            " [ 72.  73.  74.  75.  76.]\n",
            " [ 48.  49.  50.  51.  52.]\n",
            " [ 75.  76.  77.  78.  79.]\n",
            " [ 24.  25.  26.  27.  28.]\n",
            " [ 38.  39.  40.  41.  42.]\n",
            " [ 32.  33.  34.  35.  36.]\n",
            " [ 97.  98.  99. 100. 101.]\n",
            " [  2.   3.   4.   5.   6.]\n",
            " [ 19.  20.  21.  22.  23.]\n",
            " [ 15.  16.  17.  18.  19.]\n",
            " [ 26.  27.  28.  29.  30.]\n",
            " [ 55.  56.  57.  58.  59.]\n",
            " [ 70.  71.  72.  73.  74.]\n",
            " [ 60.  61.  62.  63.  64.]\n",
            " [ 63.  64.  65.  66.  67.]\n",
            " [ 95.  96.  97.  98.  99.]\n",
            " [  4.   5.   6.   7.   8.]\n",
            " [ 54.  55.  56.  57.  58.]\n",
            " [ 37.  38.  39.  40.  41.]\n",
            " [  3.   4.   5.   6.   7.]\n",
            " [ 64.  65.  66.  67.  68.]\n",
            " [ 47.  48.  49.  50.  51.]\n",
            " [ 12.  13.  14.  15.  16.]\n",
            " [  2.   3.   4.   5.   6.]\n",
            " [ 78.  79.  80.  81.  82.]\n",
            " [ 50.  51.  52.  53.  54.]\n",
            " [ 42.  43.  44.  45.  46.]\n",
            " [ 45.  46.  47.  48.  49.]\n",
            " [ 36.  37.  38.  39.  40.]\n",
            " [ 67.  68.  69.  70.  71.]\n",
            " [ 61.  62.  63.  64.  65.]\n",
            " [ 72.  73.  74.  75.  76.]\n",
            " [ 84.  85.  86.  87.  88.]\n",
            " [ 16.  17.  18.  19.  20.]\n",
            " [  8.   9.  10.  11.  12.]\n",
            " [ 39.  40.  41.  42.  43.]\n",
            " [  2.   3.   4.   5.   6.]\n",
            " [ 24.  25.  26.  27.  28.]\n",
            " [ 37.  38.  39.  40.  41.]\n",
            " [ 99. 100. 101. 102. 103.]\n",
            " [ 57.  58.  59.  60.  61.]\n",
            " [ 18.  19.  20.  21.  22.]\n",
            " [ 37.  38.  39.  40.  41.]\n",
            " [ 31.  32.  33.  34.  35.]\n",
            " [ 12.  13.  14.  15.  16.]\n",
            " [ 70.  71.  72.  73.  74.]\n",
            " [ 80.  81.  82.  83.  84.]\n",
            " [ 65.  66.  67.  68.  69.]\n",
            " [ 29.  30.  31.  32.  33.]\n",
            " [ 59.  60.  61.  62.  63.]\n",
            " [ 88.  89.  90.  91.  92.]\n",
            " [ 56.  57.  58.  59.  60.]\n",
            " [  1.   2.   3.   4.   5.]\n",
            " [  7.   8.   9.  10.  11.]\n",
            " [ 80.  81.  82.  83.  84.]\n",
            " [ 66.  67.  68.  69.  70.]\n",
            " [ 65.  66.  67.  68.  69.]\n",
            " [ 31.  32.  33.  34.  35.]\n",
            " [ 14.  15.  16.  17.  18.]\n",
            " [ 66.  67.  68.  69.  70.]\n",
            " [  3.   4.   5.   6.   7.]]\n"
          ]
        }
      ]
    },
    {
      "cell_type": "markdown",
      "source": [
        "Om deze dataset te gebruiken voor een recurrent neuraal netwerk met een one-to-many architectuur moet er laag gebruikt worden die de enkelvoudige input elke tijdsstap van de sequentie aanrijkt aan het neuraal netwerk.\n",
        "Hiervoor kan je de [RepeatVector layer](https://www.tensorflow.org/api_docs/python/tf/keras/layers/RepeatVector) gebruiken van tensorflow.\n",
        "\n",
        "Om de output te berekenen kan je werken op de volledige sequence en voor elke waarde in de sequence iets voorspellen. Het nadeel is hiervoor dat je meer gewichten en neuronen nodig hebt.\n",
        "Het is ook mogelijk om dezelfde laag uit te voeren op elk entry van de sequence.\n",
        "Hiervoor heb je de [TimeDistributed layer](https://www.tensorflow.org/api_docs/python/tf/keras/layers/TimeDistributed) nodig om dit uit te voeren.\n",
        "\n",
        "Een one-to-many model kan bijvoorbeeld als volgt opgebouwd worden."
      ],
      "metadata": {
        "id": "sF9_bjdTPH2k"
      }
    },
    {
      "cell_type": "code",
      "source": [
        "model = tf.keras.models.Sequential()\n",
        "# repeat vector - single input to sequence of 5 samples\n",
        "model.add(tf.keras.layers.RepeatVector(output_length))\n",
        "\n",
        "model.add(tf.keras.layers.LSTM(100, activation='relu', return_sequences=True))\n",
        "model.add(tf.keras.layers.LSTM(100, activation='relu', return_sequences=True))\n",
        "\n",
        "# met de time distributed ga je dezelfde laag op elke tijdsstap uitvoeren\n",
        "model.add(tf.keras.layers.TimeDistributed(tf.keras.layers.Dense(1)))\n",
        "\n",
        "model.compile(optimizer='adam', loss='mse')\n",
        "\n",
        "history = model.fit(tf.expand_dims(X,1), Y, epochs=100, validation_split=0.2, verbose=1, batch_size=3)\n"
      ],
      "metadata": {
        "colab": {
          "base_uri": "https://localhost:8080/"
        },
        "id": "roDmndqgQN_P",
        "outputId": "076f0aa1-8bf3-4737-efac-3e24cc4e4110"
      },
      "execution_count": null,
      "outputs": [
        {
          "output_type": "stream",
          "name": "stdout",
          "text": [
            "Epoch 1/100\n",
            "27/27 [==============================] - 3s 23ms/step - loss: 1467.7855 - val_loss: 686.9674\n",
            "Epoch 2/100\n",
            "27/27 [==============================] - 0s 10ms/step - loss: 405.1343 - val_loss: 174.5781\n",
            "Epoch 3/100\n",
            "27/27 [==============================] - 0s 11ms/step - loss: 76.3163 - val_loss: 7.5754\n",
            "Epoch 4/100\n",
            "27/27 [==============================] - 0s 10ms/step - loss: 8.5264 - val_loss: 5.5205\n",
            "Epoch 5/100\n",
            "27/27 [==============================] - 0s 10ms/step - loss: 4.0928 - val_loss: 3.3536\n",
            "Epoch 6/100\n",
            "27/27 [==============================] - 0s 10ms/step - loss: 2.5076 - val_loss: 2.1563\n",
            "Epoch 7/100\n",
            "27/27 [==============================] - 0s 10ms/step - loss: 1.4769 - val_loss: 1.4806\n",
            "Epoch 8/100\n",
            "27/27 [==============================] - 0s 10ms/step - loss: 0.9847 - val_loss: 0.9492\n",
            "Epoch 9/100\n",
            "27/27 [==============================] - 0s 11ms/step - loss: 0.6562 - val_loss: 0.7253\n",
            "Epoch 10/100\n",
            "27/27 [==============================] - 0s 11ms/step - loss: 0.4932 - val_loss: 0.5604\n",
            "Epoch 11/100\n",
            "27/27 [==============================] - 0s 10ms/step - loss: 0.3666 - val_loss: 0.4475\n",
            "Epoch 12/100\n",
            "27/27 [==============================] - 0s 10ms/step - loss: 0.2875 - val_loss: 0.3477\n",
            "Epoch 13/100\n",
            "27/27 [==============================] - 0s 10ms/step - loss: 0.2289 - val_loss: 0.2891\n",
            "Epoch 14/100\n",
            "27/27 [==============================] - 0s 10ms/step - loss: 0.1877 - val_loss: 0.2414\n",
            "Epoch 15/100\n",
            "27/27 [==============================] - 0s 10ms/step - loss: 0.1632 - val_loss: 0.2024\n",
            "Epoch 16/100\n",
            "27/27 [==============================] - 0s 10ms/step - loss: 0.1392 - val_loss: 0.1729\n",
            "Epoch 17/100\n",
            "27/27 [==============================] - 0s 11ms/step - loss: 0.1215 - val_loss: 0.1508\n",
            "Epoch 18/100\n",
            "27/27 [==============================] - 0s 10ms/step - loss: 0.1130 - val_loss: 0.2013\n",
            "Epoch 19/100\n",
            "27/27 [==============================] - 0s 11ms/step - loss: 0.1155 - val_loss: 0.1180\n",
            "Epoch 20/100\n",
            "27/27 [==============================] - 0s 10ms/step - loss: 0.0886 - val_loss: 0.1059\n",
            "Epoch 21/100\n",
            "27/27 [==============================] - 0s 10ms/step - loss: 0.0774 - val_loss: 0.0915\n",
            "Epoch 22/100\n",
            "27/27 [==============================] - 0s 10ms/step - loss: 0.0740 - val_loss: 0.1242\n",
            "Epoch 23/100\n",
            "27/27 [==============================] - 0s 10ms/step - loss: 0.1063 - val_loss: 0.0829\n",
            "Epoch 24/100\n",
            "27/27 [==============================] - 0s 11ms/step - loss: 0.4272 - val_loss: 0.3187\n",
            "Epoch 25/100\n",
            "27/27 [==============================] - 0s 10ms/step - loss: 0.1491 - val_loss: 0.1251\n",
            "Epoch 26/100\n",
            "27/27 [==============================] - 0s 10ms/step - loss: 0.1369 - val_loss: 0.0955\n",
            "Epoch 27/100\n",
            "27/27 [==============================] - 0s 10ms/step - loss: 0.0587 - val_loss: 0.0682\n",
            "Epoch 28/100\n",
            "27/27 [==============================] - 0s 10ms/step - loss: 0.0574 - val_loss: 0.0828\n",
            "Epoch 29/100\n",
            "27/27 [==============================] - 0s 10ms/step - loss: 0.0450 - val_loss: 0.0503\n",
            "Epoch 30/100\n",
            "27/27 [==============================] - 0s 10ms/step - loss: 0.0355 - val_loss: 0.0440\n",
            "Epoch 31/100\n",
            "27/27 [==============================] - 0s 10ms/step - loss: 0.0320 - val_loss: 0.0402\n",
            "Epoch 32/100\n",
            "27/27 [==============================] - 0s 10ms/step - loss: 0.0271 - val_loss: 0.0388\n",
            "Epoch 33/100\n",
            "27/27 [==============================] - 0s 11ms/step - loss: 0.0259 - val_loss: 0.0366\n",
            "Epoch 34/100\n",
            "27/27 [==============================] - 0s 10ms/step - loss: 0.0387 - val_loss: 0.0395\n",
            "Epoch 35/100\n",
            "27/27 [==============================] - 0s 11ms/step - loss: 0.0351 - val_loss: 0.0313\n",
            "Epoch 36/100\n",
            "27/27 [==============================] - 0s 10ms/step - loss: 0.0223 - val_loss: 0.0302\n",
            "Epoch 37/100\n",
            "27/27 [==============================] - 0s 10ms/step - loss: 0.0187 - val_loss: 0.0268\n",
            "Epoch 38/100\n",
            "27/27 [==============================] - 0s 10ms/step - loss: 0.0271 - val_loss: 0.0264\n",
            "Epoch 39/100\n",
            "27/27 [==============================] - 0s 11ms/step - loss: 0.0165 - val_loss: 0.0275\n",
            "Epoch 40/100\n",
            "27/27 [==============================] - 0s 10ms/step - loss: 0.0159 - val_loss: 0.0255\n",
            "Epoch 41/100\n",
            "27/27 [==============================] - 0s 11ms/step - loss: 0.0151 - val_loss: 0.0228\n",
            "Epoch 42/100\n",
            "27/27 [==============================] - 0s 10ms/step - loss: 0.0157 - val_loss: 0.0300\n",
            "Epoch 43/100\n",
            "27/27 [==============================] - 0s 10ms/step - loss: 0.0199 - val_loss: 0.0231\n",
            "Epoch 44/100\n",
            "27/27 [==============================] - 0s 10ms/step - loss: 0.0214 - val_loss: 0.0194\n",
            "Epoch 45/100\n",
            "27/27 [==============================] - 0s 9ms/step - loss: 0.0931 - val_loss: 0.0340\n",
            "Epoch 46/100\n",
            "27/27 [==============================] - 0s 10ms/step - loss: 0.6934 - val_loss: 1.4863\n",
            "Epoch 47/100\n",
            "27/27 [==============================] - 0s 11ms/step - loss: 0.2909 - val_loss: 0.0438\n",
            "Epoch 48/100\n",
            "27/27 [==============================] - 0s 9ms/step - loss: 0.0734 - val_loss: 0.0270\n",
            "Epoch 49/100\n",
            "27/27 [==============================] - 0s 10ms/step - loss: 0.0300 - val_loss: 0.0271\n",
            "Epoch 50/100\n",
            "27/27 [==============================] - 0s 11ms/step - loss: 0.0136 - val_loss: 0.0200\n",
            "Epoch 51/100\n",
            "27/27 [==============================] - 0s 11ms/step - loss: 0.0114 - val_loss: 0.0161\n",
            "Epoch 52/100\n",
            "27/27 [==============================] - 0s 10ms/step - loss: 0.0263 - val_loss: 0.1205\n",
            "Epoch 53/100\n",
            "27/27 [==============================] - 0s 11ms/step - loss: 0.9549 - val_loss: 1.4677\n",
            "Epoch 54/100\n",
            "27/27 [==============================] - 0s 14ms/step - loss: 1.1078 - val_loss: 0.3208\n",
            "Epoch 55/100\n",
            "27/27 [==============================] - 0s 12ms/step - loss: 1.7014 - val_loss: 0.0440\n",
            "Epoch 56/100\n",
            "27/27 [==============================] - 0s 12ms/step - loss: 0.7168 - val_loss: 0.1562\n",
            "Epoch 57/100\n",
            "27/27 [==============================] - 0s 11ms/step - loss: 0.1315 - val_loss: 0.0923\n",
            "Epoch 58/100\n",
            "27/27 [==============================] - 0s 11ms/step - loss: 0.5561 - val_loss: 4.5722\n",
            "Epoch 59/100\n",
            "27/27 [==============================] - 0s 12ms/step - loss: 3.2462 - val_loss: 2.3757\n",
            "Epoch 60/100\n",
            "27/27 [==============================] - 0s 13ms/step - loss: 2.0929 - val_loss: 1.9331\n",
            "Epoch 61/100\n",
            "27/27 [==============================] - 1s 21ms/step - loss: 1.2495 - val_loss: 0.3887\n",
            "Epoch 62/100\n",
            "27/27 [==============================] - 1s 19ms/step - loss: 0.2812 - val_loss: 0.3494\n",
            "Epoch 63/100\n",
            "27/27 [==============================] - 1s 19ms/step - loss: 0.1316 - val_loss: 0.1224\n",
            "Epoch 64/100\n",
            "27/27 [==============================] - 1s 22ms/step - loss: 0.0310 - val_loss: 0.0187\n",
            "Epoch 65/100\n",
            "27/27 [==============================] - 0s 16ms/step - loss: 0.0080 - val_loss: 0.0103\n",
            "Epoch 66/100\n",
            "27/27 [==============================] - 0s 11ms/step - loss: 0.0061 - val_loss: 0.0093\n",
            "Epoch 67/100\n",
            "27/27 [==============================] - 0s 11ms/step - loss: 0.0058 - val_loss: 0.0089\n",
            "Epoch 68/100\n",
            "27/27 [==============================] - 0s 11ms/step - loss: 0.0050 - val_loss: 0.0083\n",
            "Epoch 69/100\n",
            "27/27 [==============================] - 0s 11ms/step - loss: 0.0046 - val_loss: 0.0077\n",
            "Epoch 70/100\n",
            "27/27 [==============================] - 0s 10ms/step - loss: 0.0041 - val_loss: 0.0079\n",
            "Epoch 71/100\n",
            "27/27 [==============================] - 0s 10ms/step - loss: 0.0041 - val_loss: 0.0072\n",
            "Epoch 72/100\n",
            "27/27 [==============================] - 0s 11ms/step - loss: 0.0038 - val_loss: 0.0069\n",
            "Epoch 73/100\n",
            "27/27 [==============================] - 0s 11ms/step - loss: 0.0034 - val_loss: 0.0063\n",
            "Epoch 74/100\n",
            "27/27 [==============================] - 0s 10ms/step - loss: 0.0032 - val_loss: 0.0062\n",
            "Epoch 75/100\n",
            "27/27 [==============================] - 0s 10ms/step - loss: 0.0029 - val_loss: 0.0061\n",
            "Epoch 76/100\n",
            "27/27 [==============================] - 0s 11ms/step - loss: 0.0027 - val_loss: 0.0061\n",
            "Epoch 77/100\n",
            "27/27 [==============================] - 0s 12ms/step - loss: 0.0027 - val_loss: 0.0058\n",
            "Epoch 78/100\n",
            "27/27 [==============================] - 0s 10ms/step - loss: 0.0025 - val_loss: 0.0054\n",
            "Epoch 79/100\n",
            "27/27 [==============================] - 0s 10ms/step - loss: 0.0024 - val_loss: 0.0052\n",
            "Epoch 80/100\n",
            "27/27 [==============================] - 0s 10ms/step - loss: 0.0027 - val_loss: 0.0057\n",
            "Epoch 81/100\n",
            "27/27 [==============================] - 0s 10ms/step - loss: 0.0049 - val_loss: 0.0075\n",
            "Epoch 82/100\n",
            "27/27 [==============================] - 0s 10ms/step - loss: 0.0027 - val_loss: 0.0044\n",
            "Epoch 83/100\n",
            "27/27 [==============================] - 0s 11ms/step - loss: 0.0018 - val_loss: 0.0051\n",
            "Epoch 84/100\n",
            "27/27 [==============================] - 0s 12ms/step - loss: 0.0018 - val_loss: 0.0049\n",
            "Epoch 85/100\n",
            "27/27 [==============================] - 0s 11ms/step - loss: 0.0016 - val_loss: 0.0047\n",
            "Epoch 86/100\n",
            "27/27 [==============================] - 0s 13ms/step - loss: 0.0015 - val_loss: 0.0045\n",
            "Epoch 87/100\n",
            "27/27 [==============================] - 0s 13ms/step - loss: 0.0020 - val_loss: 0.0053\n",
            "Epoch 88/100\n",
            "27/27 [==============================] - 0s 14ms/step - loss: 0.0016 - val_loss: 0.0045\n",
            "Epoch 89/100\n",
            "27/27 [==============================] - 0s 12ms/step - loss: 0.0017 - val_loss: 0.0049\n",
            "Epoch 90/100\n",
            "27/27 [==============================] - 0s 11ms/step - loss: 0.0012 - val_loss: 0.0042\n",
            "Epoch 91/100\n",
            "27/27 [==============================] - 0s 11ms/step - loss: 0.0011 - val_loss: 0.0048\n",
            "Epoch 92/100\n",
            "27/27 [==============================] - 0s 14ms/step - loss: 0.0012 - val_loss: 0.0046\n",
            "Epoch 93/100\n",
            "27/27 [==============================] - 1s 19ms/step - loss: 9.6452e-04 - val_loss: 0.0044\n",
            "Epoch 94/100\n",
            "27/27 [==============================] - 0s 14ms/step - loss: 9.4910e-04 - val_loss: 0.0044\n",
            "Epoch 95/100\n",
            "27/27 [==============================] - 0s 12ms/step - loss: 9.8368e-04 - val_loss: 0.0042\n",
            "Epoch 96/100\n",
            "27/27 [==============================] - 0s 13ms/step - loss: 8.5305e-04 - val_loss: 0.0043\n",
            "Epoch 97/100\n",
            "27/27 [==============================] - 0s 15ms/step - loss: 8.0971e-04 - val_loss: 0.0046\n",
            "Epoch 98/100\n",
            "27/27 [==============================] - 0s 12ms/step - loss: 7.8017e-04 - val_loss: 0.0037\n",
            "Epoch 99/100\n",
            "27/27 [==============================] - 0s 17ms/step - loss: 7.0581e-04 - val_loss: 0.0038\n",
            "Epoch 100/100\n",
            "27/27 [==============================] - 0s 12ms/step - loss: 0.0011 - val_loss: 0.0041\n"
          ]
        }
      ]
    },
    {
      "cell_type": "markdown",
      "source": [
        "Voorspellingen kunnen gemaakt worden via onderstaande code"
      ],
      "metadata": {
        "id": "UgI8eUU-PHzb"
      }
    },
    {
      "cell_type": "code",
      "source": [
        "model(np.array([20]))"
      ],
      "metadata": {
        "colab": {
          "base_uri": "https://localhost:8080/"
        },
        "id": "mJXG3fUFYXZc",
        "outputId": "31bb0fc7-6c81-4581-94a3-01ac8e2ae65d"
      },
      "execution_count": null,
      "outputs": [
        {
          "output_type": "execute_result",
          "data": {
            "text/plain": [
              "<tf.Tensor: shape=(1, 5, 1), dtype=float32, numpy=\n",
              "array([[[20.952906],\n",
              "        [22.008167],\n",
              "        [23.016367],\n",
              "        [24.008593],\n",
              "        [25.024391]]], dtype=float32)>"
            ]
          },
          "metadata": {},
          "execution_count": 26
        }
      ]
    },
    {
      "cell_type": "markdown",
      "source": [],
      "metadata": {
        "id": "Pf0tcBAePHwu"
      }
    },
    {
      "cell_type": "markdown",
      "source": [],
      "metadata": {
        "id": "O3PW6mMGPHt8"
      }
    },
    {
      "cell_type": "markdown",
      "source": [],
      "metadata": {
        "id": "fzr0M6acPHrQ"
      }
    },
    {
      "cell_type": "markdown",
      "source": [],
      "metadata": {
        "id": "mURt_crRPHog"
      }
    },
    {
      "cell_type": "markdown",
      "source": [],
      "metadata": {
        "id": "tg5T5xgyPHlH"
      }
    },
    {
      "cell_type": "markdown",
      "source": [],
      "metadata": {
        "id": "9R9eXp6qPHif"
      }
    },
    {
      "cell_type": "markdown",
      "source": [],
      "metadata": {
        "id": "Eg2FCKpdPHfY"
      }
    },
    {
      "cell_type": "markdown",
      "source": [],
      "metadata": {
        "id": "IbvGHdHSPHco"
      }
    },
    {
      "cell_type": "markdown",
      "source": [],
      "metadata": {
        "id": "5IkCPG-6PHZi"
      }
    },
    {
      "cell_type": "markdown",
      "source": [],
      "metadata": {
        "id": "5raKwthSPHWh"
      }
    },
    {
      "cell_type": "markdown",
      "source": [],
      "metadata": {
        "id": "qSbleocjPHPE"
      }
    },
    {
      "cell_type": "markdown",
      "metadata": {
        "id": "_iCCMpkHqd_R"
      },
      "source": [
        "Een typisch voorbeeld hiervan is een AI voor vertalingen uit te voeren.\n",
        "Dit gaan we dan ook doen in de onderstaande code.\n",
        "De tutorial waar deze code is op gebaseerd vind je [hier](https://www.tensorflow.org/text/tutorials/nmt_with_attention)."
      ]
    },
    {
      "cell_type": "code",
      "execution_count": null,
      "metadata": {
        "colab": {
          "base_uri": "https://localhost:8080/"
        },
        "id": "OeSGr7L2WpBQ",
        "outputId": "07d17dfa-21c3-4dd8-9f0c-73a3f095a5ce"
      },
      "outputs": [
        {
          "name": "stdout",
          "output_type": "stream",
          "text": [
            "Si quieres sonar como un hablante nativo, debes estar dispuesto a practicar diciendo la misma frase una y otra vez de la misma manera en que un músico de banjo practica el mismo fraseo una y otra vez hasta que lo puedan tocar correctamente y en el tiempo esperado.\n",
            "If you want to sound like a native speaker, you must be willing to practice saying the same sentence over and over in the same way that banjo players practice the same phrase over and over until they can play it correctly and at the desired tempo.\n"
          ]
        }
      ],
      "source": [
        "import pathlib\n",
        "import numpy as np\n",
        "\n",
        "path_to_zip = tf.keras.utils.get_file(\n",
        "    'spa-eng.zip', origin='http://storage.googleapis.com/download.tensorflow.org/data/spa-eng.zip',\n",
        "    extract=True)\n",
        "\n",
        "path_to_file = pathlib.Path(path_to_zip).parent/'spa-eng/spa.txt'\n",
        "\n",
        "def load_data(path):\n",
        "  text = path.read_text(encoding='utf-8')\n",
        "\n",
        "  lines = text.splitlines()\n",
        "  pairs = [line.split('\\t') for line in lines]\n",
        "\n",
        "  context = np.array([context for target, context in pairs])    # input\n",
        "  target = np.array([target for target, context in pairs])      # output\n",
        "\n",
        "  return target, context\n",
        "\n",
        "target_raw, context_raw = load_data(path_to_file)\n",
        "print(context_raw[-1])\n",
        "print(target_raw[-1])"
      ]
    },
    {
      "cell_type": "code",
      "execution_count": null,
      "metadata": {
        "colab": {
          "base_uri": "https://localhost:8080/"
        },
        "id": "syU408u7X4no",
        "outputId": "56ad3aed-4fd7-4a66-fdd9-0bc0a8c40968"
      },
      "outputs": [
        {
          "name": "stdout",
          "output_type": "stream",
          "text": [
            "tf.Tensor(\n",
            "[b'Tom ciertamente habla un mont\\xc3\\xb3n.' b'No hay nadie ac\\xc3\\xa1.'\n",
            " b'Ponle llave a la ventana antes de acostarte.' b'\\xc3\\x89l es actor.'\n",
            " b'Te contactaremos tan pronto averig\\xc3\\xbcemos cualquier cosa.'], shape=(5,), dtype=string)\n",
            "\n",
            "tf.Tensor(\n",
            "[b'Tom certainly talks a lot.' b\"There's nobody here.\"\n",
            " b'Lock the window before going to bed.' b'He is an actor.'\n",
            " b'As soon as we find out anything, we will contact you.'], shape=(5,), dtype=string)\n"
          ]
        }
      ],
      "source": [
        "BUFFER_SIZE = len(context_raw)\n",
        "BATCH_SIZE = 64\n",
        "\n",
        "is_train = np.random.uniform(size=(len(target_raw),)) < 0.8     # selecteer 20% random samples voor validatie\n",
        "\n",
        "train_raw = (\n",
        "    tf.data.Dataset\n",
        "    .from_tensor_slices((context_raw[is_train], target_raw[is_train]))\n",
        "    .shuffle(BUFFER_SIZE)\n",
        "    .batch(BATCH_SIZE))\n",
        "val_raw = (\n",
        "    tf.data.Dataset\n",
        "    .from_tensor_slices((context_raw[~is_train], target_raw[~is_train]))\n",
        "    .shuffle(BUFFER_SIZE)\n",
        "    .batch(BATCH_SIZE))\n",
        "\n",
        "for example_context_strings, example_target_strings in train_raw.take(1):   # take 1 batch\n",
        "  print(example_context_strings[:5])\n",
        "  print()\n",
        "  print(example_target_strings[:5])\n",
        "  break"
      ]
    },
    {
      "cell_type": "code",
      "execution_count": null,
      "metadata": {
        "id": "XGBHsP4la9QP"
      },
      "outputs": [],
      "source": [
        "!pip install tensorflow_text"
      ]
    },
    {
      "cell_type": "code",
      "execution_count": null,
      "metadata": {
        "colab": {
          "base_uri": "https://localhost:8080/"
        },
        "id": "Ht2flaz7Zodv",
        "outputId": "8261729b-60f4-4919-9fe2-d0d5cd5d31d2"
      },
      "outputs": [
        {
          "name": "stdout",
          "output_type": "stream",
          "text": [
            "['', '[UNK]', '[START]', '[END]', '.', 'que', 'de', 'el', 'a', 'no']\n",
            "['', '[UNK]', '[START]', '[END]', '.', 'the', 'i', 'to', 'you', 'tom']\n"
          ]
        }
      ],
      "source": [
        "# text vectorization\n",
        "\n",
        "import tensorflow_text as tf_text\n",
        "\n",
        "max_vocab_size = 15000\n",
        "\n",
        "# we willen deze functie gebruiken om een aantal zaken te doen die niet standaard gebeuren.\n",
        "# bevoorbeeld worden characters met accenten verwijderd en worden [Start] en [End] tokens toegevoegd om het begin en einde van een woord aan te geven\n",
        "def tf_lower_and_split_punct(text):\n",
        "  # Split accented characters.\n",
        "  text = tf_text.normalize_utf8(text, 'NFKD')\n",
        "  text = tf.strings.lower(text)\n",
        "  # Keep space, a to z, and select punctuation.\n",
        "  text = tf.strings.regex_replace(text, '[^ a-z.?!,¿]', '')\n",
        "  # Add spaces around punctuation.\n",
        "  text = tf.strings.regex_replace(text, '[.?!,¿]', r' \\0 ')\n",
        "  # Strip whitespace.\n",
        "  text = tf.strings.strip(text)\n",
        "\n",
        "  text = tf.strings.join(['[START]', text, '[END]'], separator=' ')\n",
        "  return text\n",
        "\n",
        "spanish_text_processor = tf.keras.layers.TextVectorization(\n",
        "    standardize=tf_lower_and_split_punct,\n",
        "    max_tokens=max_vocab_size,\n",
        "    ragged=True)              # output van elke image kan een verschillende lengte hebben (geen padding)\n",
        "\n",
        "spanish_text_processor.adapt(train_raw.map(lambda context, target: context))    # geef enkel de context mee\n",
        "\n",
        "# Here are the first 10 words from the vocabulary:\n",
        "print(spanish_text_processor.get_vocabulary()[:10])\n",
        "\n",
        "english_text_processor = tf.keras.layers.TextVectorization(\n",
        "    standardize=tf_lower_and_split_punct,\n",
        "    max_tokens=max_vocab_size,\n",
        "    ragged=True)\n",
        "\n",
        "english_text_processor.adapt(train_raw.map(lambda context, target: target))\n",
        "print(english_text_processor.get_vocabulary()[:10])"
      ]
    },
    {
      "cell_type": "code",
      "execution_count": null,
      "metadata": {
        "colab": {
          "base_uri": "https://localhost:8080/"
        },
        "id": "M_TtorkvK2Ld",
        "outputId": "851fe8db-1d98-420d-e878-10ea0d57ad0d"
      },
      "outputs": [
        {
          "name": "stdout",
          "output_type": "stream",
          "text": [
            "[  2  10 146  15  36 222  19  13   9  12]\n",
            "\n",
            "[  2   9  12 160  33 239  18 134  13  11]\n",
            "[  9  12 160  33 239  18 134  13  11   3]\n"
          ]
        },
        {
          "data": {
            "text/plain": [
              "<tf.RaggedTensor [[2, 10, 3133, 215, 16, 701, 4, 3], [2, 9, 59, 110, 521, 4, 3],\n",
              " [2, 5267, 450, 8, 11, 376, 123, 6, 5103, 4, 3]]>"
            ]
          },
          "execution_count": 28,
          "metadata": {},
          "output_type": "execute_result"
        }
      ],
      "source": [
        "# verwerk de text zodat de string in een lijst met tokens wordt omgezet\n",
        "# voor de output worden er twee versies berekend, de rij en de rij met 1 verschoven\n",
        "# dit omdat we steeds de output terug aanbieden als input ook om verder te kunnen bouwen op het laatst gelezen woord\n",
        "\n",
        "def process_text(input, output):\n",
        "  input = spanish_text_processor(input).to_tensor()\n",
        "  output = english_text_processor(output)\n",
        "  output_in = output[:,:-1].to_tensor()\n",
        "  output_out = output[:,1:].to_tensor()\n",
        "  return (input, output_in), output_out\n",
        "\n",
        "\n",
        "train_ds = train_raw.map(process_text, tf.data.AUTOTUNE)\n",
        "val_ds = val_raw.map(process_text, tf.data.AUTOTUNE)\n",
        "\n",
        "for (ex_context_tok, ex_tar_in), ex_tar_out in train_ds.take(1):\n",
        "  print(ex_context_tok[0, :10].numpy())\n",
        "  print()\n",
        "  print(ex_tar_in[0, :10].numpy())\n",
        "  print(ex_tar_out[0, :10].numpy())\n",
        "\n",
        "example_tokens = spanish_text_processor(example_context_strings)\n",
        "example_tokens[:3, :]"
      ]
    },
    {
      "cell_type": "code",
      "execution_count": null,
      "metadata": {
        "colab": {
          "base_uri": "https://localhost:8080/",
          "height": 35
        },
        "id": "iekoE6JXO93l",
        "outputId": "d1dc53a3-f7c1-45c4-d2ba-45288c0a6597"
      },
      "outputs": [
        {
          "data": {
            "application/vnd.google.colaboratory.intrinsic+json": {
              "type": "string"
            },
            "text/plain": [
              "'[START] tom ciertamente habla un monton . [END]'"
            ]
          },
          "execution_count": 30,
          "metadata": {},
          "output_type": "execute_result"
        }
      ],
      "source": [
        "def tensor_to_string(tokens):\n",
        "    context_vocab = np.array(spanish_text_processor.get_vocabulary())\n",
        "    return ' '.join(context_vocab[tokens.numpy()])\n",
        "\n",
        "tensor_to_string(example_tokens[0])"
      ]
    },
    {
      "cell_type": "markdown",
      "metadata": {
        "id": "Eq5m0vj9SDby"
      },
      "source": [
        "Nu kunnen we een model opstellen om de vertaling uit te voeren.\n",
        "De structuur van dit model ziet er uit als volgt:\n",
        "\n",
        "![many-to-many.png](data:image/png;base64,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)\n",
        "\n",
        "Dit netwerk bestaat uit een aantal delen.\n",
        "Ten eerste is er het **encoder** gedeelte.\n",
        "Dit is een bidirectionele RNN om de verbanden in de input te gaan zoeken.\n",
        "Dit wordt gebruikt als context waaruit de vertaalde zin opgebouwd gaat worden.\n",
        "Grafisch ziet dit deel er uit als volgt\n",
        "\n",
        "![bidirectional rnn.png](data:image/png;base64,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)"
      ]
    },
    {
      "cell_type": "code",
      "execution_count": null,
      "metadata": {
        "colab": {
          "base_uri": "https://localhost:8080/"
        },
        "id": "7V349jGISC8W",
        "outputId": "675c380f-9b97-4f03-9223-3aec09d6ad07"
      },
      "outputs": [
        {
          "name": "stdout",
          "output_type": "stream",
          "text": [
            "Input tokens, shape (batch, s): (64, 16)\n",
            "Encoder output, shape (batch, s, units): (64, 16, 50)\n"
          ]
        }
      ],
      "source": [
        "units = 50\n",
        "\n",
        "# The embedding layer converts tokens to vectors\n",
        "encoder = tf.keras.models.Sequential([\n",
        "  tf.keras.layers.Embedding(max_vocab_size, units, mask_zero=True),\n",
        "  tf.keras.layers.Bidirectional(\n",
        "      merge_mode='sum',\n",
        "      layer=tf.keras.layers.LSTM(units, return_sequences=True))\n",
        "])\n",
        "\n",
        "test_encoder = encoder(ex_context_tok)\n",
        "\n",
        "print(f'Input tokens, shape (batch, s): {ex_context_tok.shape}')\n",
        "print(f'Encoder output, shape (batch, s, units): {test_encoder.shape}')"
      ]
    },
    {
      "cell_type": "markdown",
      "metadata": {
        "id": "IieisFZHb6G7"
      },
      "source": [
        "Het volgende deel van het netwerk is de zogenaamde **attention** layer.\n",
        "Het doel van deze laag is om de informatie die de encoder uit de input sequentie gehaald heeft beschikbaar te maken voor de decoder (deze komt later).\n",
        "\n",
        "Conceptueel gaat deze een gewogen som van de outputs van de encoder.\n",
        "Het deel van het model dat behoort tot deze layer is het volgende:\n",
        "\n",
        "![image.png](data:image/png;base64,iVBORw0KGgoAAAANSUhEUgAABxQAAAVKCAIAAABPbNn5AAAgAElEQVR4nOzdeXxV9Z3w8YRNRWVxEBAVXBC0AupoF0GniDLa1g23AOJrdKYK1hadUcepe4syL3RqUeioRWemFpUAIiAu7PtSxAphRxaRLSwJEAIIJuT5I8+TJ5P8SAK5uefem/f7r+SXc879eo+5cD/ce096UVFRGgAAAAAA/1udqAcAAAAAAEhE4ikAAAAAQIB4CgAAAAAQIJ4CAAAAAASIpwAAAAAAAeIpAAAAAECAeAoAAAAAECCeAgAAAAAEiKcAAAAAAAHiKQAAAABAgHgKAAAAABAgngIAAAAABIinAAAAAAAB4ikAAAAAQIB4CgAAAAAQIJ4CAAAAAASIpwAAAAAAAeIpAAAAAECAeAoAAAAAECCeAgAAAAAEiKcAAAAAAAHiKQAAAABAgHgKAAAAABAgngIAAAAABIinAAAAAAAB4ikAAAAAQIB4CgAAAAAQIJ4CAAAAAASIpwAAAAAAAeIpAAAAAECAeAoAAAAAECCeAgAAAAAEiKcAAAAAAAHiKQAAAABAgHgKAAAAABAgngIAAAAABIinAAAAAAAB4ikAAAAAQIB4CgAAAAAQIJ4CAAAAAASIpwAAAAAAAeIpAAAAAECAeAoAAAAAECCeAgAAAAAEiKcAAAAAAAHiKQAAAABAgHgKAAAAABAgngIAAAAABIinAAAAAAAB4ikAAAAAQIB4CgAAAAAQIJ4CAAAAAASIpwAAAAAAAeIpAAAAAEBAvagHAAAgITz00EOjRo3auXNn1IMAAPFz7733/vd//3fUU0DiSi8qKop6BgAAIjZjxoxrrrkm6ikAgAg8//zzzz33XNRTQILytn0AANJmzpwZ9QgAQDRmzJgR9QiQuMRTAAAAAIAAn3kKAMD/8uOrr3ju1/2inoK0tLS0xVmr/+XfXi75dtonb0U4DKV1++nPS752XhKH85KYbuv1z3v27iv++rlf9/vx1VdEOw/FZs5e9Jt/fyPqKSAJiKcAAJT14y6e2SaExVmrS3/rvCQspyYxOS+JyXlJEDNnL4p6BEgO3rYPAAAAABAgngIAAAAABIinAAAAAAAB4ikAAAAAQIB4CgAAAAAQIJ4CAAAAAASIpwAAAAAAAeIpAAAAAECAeAoAAAAAECCeAgAAAAAEiKcAAAAAAAHiKQAAAABAgHgKAAAAABAgngIAAAAABIinAAAAAAAB4ikAAAAAQIB4CgAAAAAQIJ4CAAAAAASIpwAAAAAAAeIpAAAAAECAeAoAAAAAECCeAgAAAAAEiKcAAAAAAAHiKQAAAABAgHgKAAAAABAgngIAAAAABIinAAAAAAAB4ikAAAAAQIB4CgAAAAAQIJ4CAAAAAASIpwAAAAAAAeIpAAAAAECAeAoAAAAAECCeAgAAAAAEiKcAAAAAAAHiKQAAAABAgHgKAAAAABAgngIAAAAABIinAAAAAAAB4ikAAAAAQIB4CgAAAAAQIJ4CAAAAAASIpwAAAAAAAeIpAAAAAECAeAoAAAAAECCeAgAAAAAEiKcAAAAAAAHiKQAAAABAgHgKAAAAABAgngIAAAAABIinAAAAAAAB4ikAAAAAQIB4CgAAAAAQIJ4CAAAAAASIpwAAAAAAAeIpAAAAAECAeAoAAAAAECCeAgAAAAAEiKcAAAAAAAHiKQAAAABAgHgKAAAAABAgngIAAAAABIinAAAAAAAB4ikAAAAAQIB4CgAAAAAQIJ4CAAAAAASIpwAAAAAAAeIpAAAAAECAeAoAAAAAECCeAgAAAAAEiKcAAAAAAAHiKQAAAABAgHgKAAAAABAgngIAAAAABIinAAAAAAAB4ikAAAAAQIB4CgAAAAAQIJ4CAAAAAASIpwAAAAAAAeIpAAAAAECAeAoAAAAAECCeAgAAAAAEiKcAAAAAAAHiKQAAAABAgHgKAAAAABAgngIAAAAABIinAAAAAAAB4ikAAAAAQIB4CgAAAAAQIJ4CAAAAAASIpwAAAAAAAeIpAAAAAECAeAoAAAAAECCeAgAAAAAEiKcAAAAAAAHiKQAAAABAgHgKAAAAABAgngIAAAAABIinAAAAAAAB4ikAAAAAQIB4CgAAAAAQIJ4CAAAAAASIpwAAAAAAAeIpAAAAAECAeAoAAAAAECCeAgAAAAAEiKcAAAAAAAHiKQAAAABAgHgKAAAAABAgngIAAAAABIinAAAAAAAB4ikAAAAAQIB4CgAAAAAQIJ4CAAAAAASIpwAAAAAAAeIpAAAAAECAeAoAAAAAECCeAgAAAAAEiKcAAAAAAAHiKQAAAABAgHgKAAAAABAgngIAAAAABIinAAAAAAAB4ikAAAAAQIB4CgAAAAAQIJ4CAAAAAASIpwAAAAAAAeIpAAAAAECAeAoAAAAAECCeAgAAAAAEpBcVFUU9AwAAEfvNb37z/PPPRz0FABCBrl27Tp8+PeopIEF55SkAAAAAQIB4CgBAWps2baIeAQCIxjnnnBP1CJC4vG0fAIC0tLS0H/zgB59//nnUUwAAcdWuXbuJEyfqp3A04ikAAP9XVlZWbm5u1FPEwJ49e3r06HHLLbc88sgjUc8SA2vXrm3dunWDBg2iHiQG7rnnnr/5m78ZPHhw1IPEQHZ2doMGDU477bSoB4mBp59+evny5R9++GHUg8TAoUOHdu7cedZZZ0U9SAy89dZb77777p///OfU+M9ZvHjxpZdeGvUUMTB58uSBAwe+8MILXbp0iXqW2OjatWvUI0BCqxf1AAAAJIpOnTpFPUJsDB06NC0tbfbs2WPHjo16lhhImae106ZN27x58+bNm88444z27dtHPQ7/V3Z29ty5c9PS0nbv3t2jR4+ox+H/+6d/+qe0tLSvv/66T58+Uc8SAynzUPa73/0uLS1t+fLlTz31VNSzAPHgM08BAEg1mZmZaWlpubm5o0ePjnoW/r/i81L6CxKB85KYJk+evH79+jTnJcFs3bp1woQJaWlpmZmZeXl5UY8DxIN4CgBASlm+fPmcOXOKvxYdEkdRUZFIl5hKn5c9e/ZEOwwlSs7LsmXLil8aTCIYMWJE8RdHjhzxUAa1hHgKAEBKKf1sdvTo0Tk5OREOQ4nMzMy9e/cWf71ixYrZs2dHOw/FsrKy5s+fX/KtGJQgCgsLS58L5yVxOC9QC4mnAACklJKXBRXz5DZBlDkRzkuCcF4SU2ZmZn5+fulvIxyGEosXL164cGHJt1OnTl27dm2E8wDxIZ4CAJA6pk+f/tVXX5VeER0Swfbt28tcvMt5SRBlTsT06dPXrFkT1TCUKPOPQDt27Pjwww+jGoYS5R+4PJRBbSCeAgCQOso/j501a9bKlSsjGYYS5c/Lrl27Pvjgg0iGocSUKVPWrVtXZlEMity2bds++uijMovOSyIoE7XTnBeoHcRTAABSR/B5rCe3kQuegvIZgjhzXhLT0R7HSj41mEhMmjTp66+/LrO4dOnSefPmRTIPEDfiKQAAKeJo1woXT6N1tLgwevTo3Nzc+M9DsTKXJCrhcl6RO9pDlq4draOdF3/EQMoTTwEASBFHewa7atWqmTNnxnkYSlRQFsSgCGVmZu7bt+9oP4rzMJRYsmTJggULgj9yXiL03XffHe3xynmBlCeeAgCQCiq+oIontxGq4M53XiLkvCSmCu788hfEI24yMzMPHDgQ/FH5C+IBKUY8BQAgFVSce8SgqEydOnXt2rVH++msWbNWrVoVz3kotm3btvHjxx/tpy7nFaGKX47txdpR8UcM1GbiKQAAqaDi5665ubmjRo2K2zCUqLQpiEGRqPS8iEGRmDx58oYNGyrYwHmJxJYtWyZMmFDBBi7nBalNPAUAIOktW7Zs7ty5FW8jOsTfkSNHRLrEVOndPmrUqN27d8dnGEpUel6WL18+Z86c+AxDiUrPS1FRkYcySGHiKQAASa8qz1o/+OCDXbt2xWEYSmRmZubl5VW8jct5xV8FlyQqzYuC46ygoKAq97lIF3/OC9Ry4ikAAEmvis9aPbmNM+clMTkviSkzM3P//v1V2SwOw1Diyy+//PzzzyvdbNq0aS7nBalKPAUAILlV/Smr6BBP2dnZ48aNq8qWzkucVfEOnzlz5urVq2t6GEpU8aW+O3fuHDNmTE0PQ4mqP0B5KINUJZ4CAJDcqv58dfbs2StWrKjRYShR9fPicl7xNHny5PXr11dxY+/cj5utW7dWfEmi0kS6eKr6b4HzAqlKPAUAIIkd62U6PLmNG+clMTkviemY7uqRI0fu2bOn5oahxMSJEzdu3FjFjaty6UIgGYmnAAAksczMzL179x7T9jU3DCWysrLmz59f9e0/+OCDnJycmpuHYgUFBcf0K7By5crZs2fX3DyUONYX+XpRcHwc6x8Z/oiBlCSeAgCQxI71merq1atnzJhRQ8NQ4jgKghgUB5mZmfn5+ce0i/MSB4sXL164cOEx7SLSxcHhw4eP9f9/5wVSkngKAECy2r59+9ixY491L09u4+A47mTnJQ6cl8R0HHfyjBkz1qxZUxPDUCIzM/PgwYPHtMuOHTs+/PDDGpoHiIp4CgBAsjq+rCMG1bQpU6asW7fuWPeaPXv2ypUra2Ieim3duvWjjz461r1ycnJGjx5dE/NQ4vhe3utFwTXt+O5hf8RA6hFPAQBIVsf3HHX37t0jR46M+TCUOO52IAbVqOM+L2JQjZo0adLXX399HDs6LzVq8+bNn3zyyXHsmJmZ6XJekGLEUwAAktLSpUvnzZt3fPuKDjWnsLBQpEtMx333jh49Ojc3N7bDUOK4/81gxYoVc+bMie0wlKjOw5GHMkgx4ikAAEmpOs9Ox4wZs3PnzhgOQ4nMzMx9+/Yd376rV6+eOXNmbOeh2OLFi//yl78c9+5eFFxDvvvuu+o8lDkvNac69614CilGPAUAIClV89mpJ7c1pJp3rBhUQ/y+JKbMzMwDBw5UZ/cYDkOJv/71r4sWLTru3adPn+5yXpBKxFMAAJLP1KlT165dW50jiA41Ydu2bePHj6/OEZyXGlLNO3bWrFmrVq2K1TCUqOa/FuzatWvMmDGxGoYS1f9XHA9lkErEUwAAkk/1n5fOmTNn+fLlMRmGEtU/L7t37x41alRMhqHEpEmTNmzYUM2DeFFwzG3ZsuXjjz+u5kGcl5pQ/Ycy8RRSiXgKAECSOXLkSEyel3pyG3MxuUvFoJjz+5KYYvK/+qhRo1zOK7Y+++yzb775ppoHWb58uct5QcoQTwEASDKZmZl5eXkxOU71D0KJJUuWLFiwoPrHGTNmzK5du6p/HIpV85JEJVatWjVr1qzqH4cSsXoI8lAWW7H69xvnBVKGeAoAQJKJ1TPSNWvWTJ8+PSaHIi2mpcCLT2MoMzNz//79MTmU8xJDX3755eeffx6TQ4l0MXTo0CFRGyhDPAUAIJlkZ2ePGzcuVkfz5DaGYnhnOi8x5LwkphiW6JkzZ7qcV6xkZmZ+++23MTnUzp07Xc4LUoN4CgBAMoltvhGDYmXy5Mnr16+P1dHmzJmzYsWKWB2tNtuyZcuECRNidbTc3NzRo0fH6mi1nIeyxBTbl1c7L5AaxFMAAJJJbJ+L7tmzx5PbmIj53egd4jHhvCSmiRMnbty4MYYH9DgWE5s2bfr0009jeMCRI0fu3r07hgcEIiGeAgCQNLKysubPnx/bY4oO1VdQUBDzu9F5iYmY340ffPBBTk5ObI9ZC8W8Qa9cudLlvKqvJv5twEMZpADxFACApFETz0I//PDDHTt2xPywtUpmZmZ+fn5sj7lmzZoZM2bE9pi1zZdffrlw4cKYH1YMqqbDhw/XxH3ovFSf8wIEiacAACSNGnrLsCe31VRDd6DzUk01dAd65341jRgx4uDBgzE/rN+Xavriiy+++OKLmB92xowZq1evjvlhgXhKLyoqinoGAACo3JQpU15++eVKN9u2bdvSpUuLvz7hhBN+/OMfV+XgEydOrNZwtdjWrVvvu+++Sjfbt29f6Y9cuOaaa+rXr1/pXs5LdVx//fWVblNUVDR58uSSb6+44orTTjut0r0GDx580UUXVWu4WuxnP/tZQUFBpZvNmzev5AXdF154YevWrSvd5f7777/jjjuqO19t9fjjj2dlZVW6WVZWVnZ2dvHXZ5111ve+971Kd+nSpcuzzz5b3fmA6IinAACklOHDh99zzz3FX5955pmbN2+Odh6KLVmy5NJLLy35NicnpyqRjpp25MiRunXrlnw7ffr0rl27RjgPJTp06LB8+fLir1977bVf/epX0c5Dsd69e7///vvFXz/wwANvvvlmtPMAceBt+wAAAAAAAeIpAAAAAECAeAoAAAAAECCeAgAAAAAEiKcAAAAAAAHiKQAAAABAgHgKAAAAABAgngIAAAAABIinAAAAAAAB4ikAAAAAQIB4CgAAAAAQIJ4CAAAAAASIpwAAAAAAAeIpAAAAAECAeAoAAAAAECCeAgAAAAAEiKcAAAAAAAHiKQAAAABAgHgKAAAAABCQXlRUFPUMAABEae3atX/84x+zsrLmz5+fl5cX9TgAQPxceeWVl1122U9+8pMbb7wx6lkgEYmnAAC12pAhQ/r37x/1FABAxO6+++7hw4dHPQUkHPEUAKD2+uKLL6644oqopwAAEsKwYcN+/vOfRz0FJBbxFACgljpw4EC3bt3+8pe/RD0IAJAo5s+f/6Mf/SjqKSCBuGAUAEAt9f777yunAEBpb731VtQjQGIRTwEAaqmFCxdGPQIAkFgWLFgQ9QiQWMRTAIBaas2aNVGPAAAkluXLl0c9AiQW8RQAAAAAIEA8BQAAAAAIEE8BAAAAAALEUwAAAACAAPEUAAAAACCgXtQDAACQ0C7/wdVRj1C7bN2ycduWbyrdrN1FnU49tXEc5qHYvry9a1ZlVbrZGWe2aXVm6zjMQzHnJWF9sXB2pducemrjdhd1isMwlFaVUwOUJp4CAFCRN4Z/FvUItUu/e26oSjy9qUefnvc+FId5KDbif/7wu4H/Wulmrc5q/caf/crEj/OSsL7f7uSqbOaPmDjr1+eGqEeA5ONt+wAAAAAAAeIpAAAAAECAeAoAAAAAECCeAgAAAAAEiKcAAAAAAAHiKQAAAABAgHgKAAAAABAgngIAAAAABIinAAAAAAAB4ikAAAAAQIB4CgAAAAAQIJ4CAAAAAASIpwAAAAAAAeIpAAAAAECAeAoAAAAAECCeAgAAAAAEiKcAAAAAAAHiKQAAAABAgHgKAAAAABAgngIAAAAABIinAAAAAAAB4ikAAAAAQIB4CgAAAAAQIJ4CAAAAAASIpwAAAAAAAeIpAAAAAECAeAoAAAAAECCeAgAAAAAEiKcAAAAAAAHiKQAAAABAgHgKAAAAABAgngIAAAAABIinAAAAAAAB4ikAAAAAQIB4CgAAAAAQIJ4CAAAAAASIpwAAAAAAAeIpAAAAAECAeAoAAAAAECCeAgAAAAAEiKcAAAAAAAHiKQAAAABAgHgKAAAAABAgngIAAAAABIinAAAAAAAB4ikAQGLp37//vHnzop4CAAAQTwEAEszs2bO7dOnSsWPHF1544auvvop6HAAAqL3EUwCARLRs2bJnnnmmXbt211577R//+Me9e/dGPREAANQ64ikAQEKbNm1a3759mzZt2qtXr7Fjx0Y9DgAA1CLiKQBAEigqKhoxYkSPHj1atmz58MMP+1BUAACIA/EUACCZbN++/bXXXuvSpUunTp1efPHFtWvXRj0RAACkLPEUACApLV269Omnn77ggguuu+66YcOG5eXlRT0RAACkGvEUACC5TZ069YEHHmjatGnv3r3HjRsX9TgAAJA6xFMAgFRw5MiR999//9Zbbz3jjDMeeeSR+fPnRz0RAAAkPfEUACClZGdnv/rqq507d77kkksGDhy4bt26qCcCAIBkJZ4CAKSmrKysp556qm3btt27d3/rrbf27dsX9UQAAJBkxFMAgBQ3ZcqU+++/v2nTpnfffff48eOjHgcAAJKGeAoAUCsUFha+9957t9xyS6tWrf75n/95wYIFUU8EAACJrl7UA6SagwcP9u/ff+3atVEPAgAkq5r+i8S2bdsGDx48ePDgU045pUZvCAAAkp14GmMNGzaMegQAgCrJz8+PegQAAEho3rYfS7/5zW+iHgEAAAAAiA3xFAAAAAAgwNv2a0rXrl27du0a9RQAQPJ54403srOza/pW6tSp06xZsx07dtT0DQEAQPIST2vQc889F/UIAEDyGTt2bI3G02uvvTYjIyMjI+OWW24RTwEAoALiKQBArdCxY8fiZtq2bduoZwEAgOQgngIApLIWLVoUN9POnTtHPQsAACQZ8RQAIAWlp6cXN9Nbb7016lkAACBZiacAACmlW7duxdm0cePGUc8CAADJTTwFAEgFHTp0KG6mF1xwQdSzAABAihBPAQCSWPPmzYubaZcuXaKeBQAAUo14CgCQlIqbaY8ePaIeBAAAUpZ4CgCQTK655pribNqkSZOoZwEAgBQnngIAJIHvfe97PXv2zMjIaNeuXdSzAABAbSGeAgAkrmbNmhU306uuuirqWQAAoNYRTwEAEtFdd92VkZFx2223RT0IAADUXuIpAEBi6du3b0ZGRtOmTaMeBAAAajvxFAAgsfTr1y/qEQAAgLS0tLQ6UQ8AAAAAAJCIxFMAAAAAgADxFAAAAAAgQDwFAAAAAAgQTwEAAAAAAsRTAAAAAIAA8RQAAAAAIEA8BQAAAAAIEE8BAAAAAALEUwAAAACAAPEUAAAAACBAPAUAAAAACBBPAQAAAAACxFMAAAAAgADxFAAAAAAgQDwFAAAAAAgQTwEAAAAAAsRTAAAAAIAA8RQAAAAAIEA8BQAAAAAIEE8BAAAAAALEUwAAAACAAPEUAAAAACBAPAUAAAAACBBPAQAAAAACxFMAAAAAgADxFAAAAAAgQDwFAAAAAAgQTwEAAAAAAsRTAAAAAIAA8RQAAAAAIEA8BQAAAAAIEE8BAAAAAALEUwAAAACAAPEUAAAAACBAPAUAAAAACBBPAQAAAAACxFMAAAAAgADxFAAAAAAgQDwFAAAAAAgQTwEAAAAAAsRTAAAAAIAA8RQAAAAAIEA8BQAAAAAIEE8BAAAAAALEUwAAAACAAPEUAAAAACBAPAUAAAAACBBPAQAAAAAC6kU9AAAACa3b5a2iHqF2OXAgvyqbDf3ds38c8mJND0OJw4cPVWWzxYvm+ZWJJ+clqeXn5zkvcXbgwP6oR4DkI54CAFCRffv2Rj0CAYcOfXvo0LdRT0FZhYWFfmUSkPOSmIqKipwXIPF52z4AAAAAQIB4CgAAAAAQ4G37AABU5PIfXB31CLXL6pVZ+VV4H+tZrc9r0fLMOMxDse3ZWzZ/s77SzU45tXH7izrFYR6KOS8J64uFsyvdpm7depdefmUchqHEmpVZPioBjpV4CgBARd4Y/lnUI9Qu/e654Yu/VB4dMvr063nvQ3GYh2Ij/ucPvxv4r5Vu1v57nd74s1+Z+HFeEtb3251c6TYNG57sj5g469fnhqp0baA0b9sHAAAAAAgQTwEAAAAAAsRTAAAAAIAA8RQAAAAAIEA8BQAAAAAIEE8BAAAAAALEUwAAAACAAPEUAAAAACBAPAUAAAAACBBPAQAAAAACxFMAAAAAgADxFAAAAAAgQDwFAAAAAAgQTwEAAAAAAsRTAAAAAIAA8RQAAAAAIEA8BQAAAAAIEE8BAAAAAALEUwAAAACAAPEUAAAAACBAPAUAAAAACBBPAQAAAAACxFMAAAAAgADxFAAAAAAgQDwFAAAAAAgQTwEAAAAAAsRTAAAAAIAA8RQAAAAAIEA8BQAAAAAIEE8BAAAAAALEUwAAAACAAPEUAAAAACBAPAUAAAAACBBPAQAAAAACxFMAAAAAgADxFAAAAAAgQDwFAAAAAAgQTwEAAAAAAsRTAAAAAIAA8RQAAAAAIEA8BQAAAAAIEE8BAAAAAALEUwAAAACAAPEUAAAAACBAPAUAAAAACBBPAQAAAAACxFMAAAAAgADxFAAAAAAgQDwFAAAAAAioF/UAAAD8L2+88UbPnj2bNGkS9SAAACmusLBw06ZNmzdv3rp168GDBw//P0VFRbG6iX/5l3+J1aGIhHgKAJBY3nzzzQcffPCuu+7KyMi47bbboh4HACDVFBQUjBs3bty4cR9//HFubm6N3pZ4muzEUwCARDRy5MiRI0eefvrpGRkZGRkZV111VdQTAQCkgrFjxz7xxBNr1qyJehCSg888BQBIXDt37hw6dOjVV1/doUOHAQMG+Fs+AMBxKywsvOeee3r06OHvVFSdeAoAkASWL1/+7LPPtm/fvlu3bm+++eaePXuinggAIJkUFhb26dNn+PDhUQ9CkhFPAQCSyfTp0/v169e0adOePXt++OGHUY8DAJAcBg0aNGLEiKinIPmIpwAASSkzM/O2225r0aJF//79586dG/U4AACJKzs7+9///d+jnoKk5IJRAABJbMeOHUOGDBkyZEiHDh0yMjJ69uzZtm3bqIcCAEgszzzzTH5+fgUbnHHGGR07dmzcuHGjRo0aNWp0wgknxG02Epx4CgCQCpYtW7Zs2bJnnnmmW7duxRW1UaNGUQ8FABC9b7/99r333gv+6PTTT3/uued++tOfnnvuuXGeimThbfsAACll2rRpffv2bdKkSa9evcaOHRv1OAAAEZsyZcqBAwfKr992221r1qx56KGHlFMqIJ4CAKSgoqKiESNG9OjRo2XLlg8//PD8+fOjnggAIBrjxo0rv/ijH/3o3XffbdKkSfznIbmIpwAAqWz79u2vvfZa586dO3Xq9OKLL65bty7qiQAA4mrhwoVlVurVqzdy5MgTTzwxknlILuIpAECtsHTp0qeffrpt27bXXXfdsGHD9u3bF/VEAADxkJ2dXWalR48eZ599diTDkHRcMIpaITc399NPP127dm3UgwBA5cr//T62pk6dOgPMRfUAACAASURBVHXq1H79+jVr1qxGbwgAIHKFhYW7du0qs3jfffdFMgzJSDylVrj99ttnzJgR9RQAkECOHDmyY8eOqKcAAKhZubm5R44cKbN44YUXRjIMycjb9kl9M2bMUE4BAACgFmrcuHF6enrplTp16px11llRzUPSEU8BAAAASE0NGjQo81FFderUKSoqimoeko637VPrdO3aNeoRAKAiixYtys/Pj8MNnXLKKfG5IQCACJ155pk7d+4s+bagoGD16tUdO3aMcCSSiHhKrTN9+vSoRwCAilx22WWLFy+uueOfccYZGRkZGRkZv/71r32yDQCQ8tq0aVPmL1fLly8XT6ki8RQAoFaoW7ducTO9+eabo54FACB+br755nHjxpVeWbZsWVTDkHTEUwCAFHfdddcVZ9NTTz016lkAAOLtjjvueOihh7799tuSlc8++2zAgAFlLiRFNa1Zs2bx4sUbNmz4+uuvGzZs2K5du/bt21966aVNmjSJerRqEU8BAFJTp06dipvp+eefH/UsAACRadSo0c033zxy5MiSlS+++OLtt9/++c9/HuFUSaGgoKBevcrj4ezZswcNGvTJJ5+UvxLXySef3Ldv30cffbRVq1Y1M2ONqxP1AAAAxFLLli0ffvjhefPmLVmy5Mknn1ROAQAef/zxMhHw17/+dW5ublTzJLJ9+/aNHj36F7/4Rfv27Z999tmKNy4qKurfv//f/d3fffzxx+XLaVpa2v79+1955ZXzzjvviSeeOHLkSM2MXLPEUwCAVJCent6rV6+xY8du27Zt8ODBV155ZdQTAQAkiiuuuOKZZ54pvbJr165/+7d/i2qexPTtt98Wh84777zz9ddfX7Nmzbp16yrYvrCw8N577x0yZEilRz506NBLL73Us2fPw4cPx27eOPG2fQCA5HbttdcWvz2/UaNGUc8CAJCgnnrqqU8//XTBggUlK8OGDUtLSxs6dGiDBg2imytRLFmy5Kabbtq0aVPpxYrj6aBBg955552q38SoUaNycnLGjRt3yimnHOeUUfDKUwCApNSxY8cXXnjhq6++mjJlyv3336+cAgBUoG7duiNHjrz44otLLw4bNuyHP/zhu+++m4yviIyhlStXdu/evUw5Taswnm7atOnFF1881huaNm1a0r3gVzwFAEgmzZs379+//9y5c7Oysp566qm2bdtGPREAQHI4++yz582bd/3115deXLx4cZ8+fVq3bn333Xf//ve/nzVr1oYNG3Jycr777ruo5oyz7du3X3fddTt37iz/oz179hztk2GfeOKJAwcOHMfNvf76619++eVx7BgVb9sHAEgOPXv2zMjIuPXWW6MeBAAgmeTn55d+t/4jjzyyY8eOMv1u+/bt77333nvvvVd68YQTTqhTp7qvOzy+whhPAwcO3Lp169F+un79+tNOO63M4vbt20eNGhXcvk6dOpdccskPfvCDdevWLViwID8/v8wGR44c+cUvfjFv3rz09PRqTh4f4ikAQELr1q1b8UeaNm7cOOpZAACSz/r167t3734cOx46dCjmwySaTZs2vfnmm0f76YknnpiXl1d+ffjw4QUFBeXXzzzzzClTplx44YXF3xYUFAwdOvSxxx4rLCwsvdmCBQs++uijm2++uXqzx4m37QMAJKIOHToMGDBgzZo1U6dOfeCBB5RTAABibuDAgcFG/Pd///cjR47ctWtXt27dyv905MiR5RebNWs2a9asknKalpZWr169Rx555NNPPy3/V9kxY8ZUb/D48cpTAIDEcvXVVw8dOrRLly5RDwIAQCorKir64IMPyq8//fTTv/3tb4/2tvpvvvlm4cKF5dcfe+yx8847r/x69+7dn3322UcffbT04scff1xYWFi3bt3jGjyuvPIUACCxvPbaa8opAAA1LSsrq/x1on7/+98PGDCggg8kHT9+fPnFevXq3XvvvUfb5cEHH2zRokXplV27ds2dO/cY542GeAoAAAAAtc6UKVPKrJx//vm//OUvK95rwoQJ5Re7du1aJo+WdtJJJz322GOV3npiEk8BAAAAoNaZPn16mZWnnnqqXr2KPuRz//79M2bMKL9+0003VXxbV199dZmVLVu2VGHG6PnMUwAAAABSVqdOnYKXhmfjxo2lv01PT+/Vq1fFu8yYMSN4gamf/exnFe/YunXrMivbt2+vwozRE08BAAAASGVJcWGi+MvJySn9bYsWLU488cSKd5k4cWL5xXPOOef888+veMeWLVs2aNDg8OHDJSvZ2dlVnjRK3rYPAAAAALXOrl27Sn97zjnnVLrLpEmTyi9ed911le6Ynp5+1llnlV5JlleeiqcAAAAAULvk5eV99913pVfOPvvsinfZuHHj6tWry69fe+21VbnFI0eOlP62sLCwKntFTjwFAAAAgNrl22+/LbNy8ODBincJvuw0PT29KvG0oKBg06ZNpVcaNWpU6V6JQDwFAAAAgNqlSZMmZVa2bdtW8S6fffZZ+cVOnTqdfvrpld7cN998U+alpuIpAAAAAJCIGjRo0LBhw9IrFcfTgoKCqVOnll/v3r17VW5uw4YNZVbK19vEJJ4CAAAAQK1zxhlnlP52x44dFXwO6dy5c/fu3Vt+/cYbb6zKbc2cObPMSvv27auyY+TqRT0AAAAAAESvoKDgr3/96+LFi3ft2pWbm5uTk5Obm5uWltawYcOGDRueeuqprVu3Pu+8884777yLLrqofv36Uc9bXd///vfXrVtX8m1BQcGECRNuueWW4Mbjx48vv9ikSZMuXbpUekM5OTmvvvpqmcXLLrvsWIaNjHgKAAAAQO31zTffvPvuuzNnzpw7d25+fn5Vdjn55JOvuuqqbt269erVq9KL1CesH/7whyNGjCi98uqrrwbj6f79+4cPH15+/ac//Wm9epXXxUGDBuXl5ZVZvPTSS49l2Mh42z4AAAAAtdGKFSvuvffetm3bPvnkkxMnTqxiOU1LS9u/f//EiROfeOKJc889t0ePHgsXLqzROWvINddcU2Zl+vTpc+bMKb/lyy+/vGPHjvLrGRkZld7K/Pnzhw4dWmaxZcuWl1xySZUnjZJ4CgAAAEDtkpeX17t37w4dOvzpT3/67rvvjvs4hYWFY8eO7dy584ABAyr4wNDEdMkll3Ts2LHM4k9+8pPPPvus9Mo777wzYMCA8rs3bdr0+uuvr/gm3njjja5dux48eLDMeu/evevWrXvsI0fA2/YBAAAAqEWWLl16++23f/XVV7E6YGFh4bPPPjtlypThw4cn17v477333kcffbT0Sn5+/k033dStW7du3brVr19/4sSJkyZNOtq+J5xwQvBHRUVFixYtGjJkyJ///OfgBv/wD/9QzcnjRjwFAAAAoLbIzMz8x3/8xwMHDsT8yLNmzbrkkksyMzO7d+8e84PXkL59+77yyitbtmwpvVhQUDBp0qSjNdNiJ5100q9+9avy62vXrh00aNCECROys7OPtm/v3r07dep03DPHmbftAwAAAFArTJ06tU+fPjVRTovt3r37rrvu2rBhQw0dP+ZOPvnk//iP/ziOHZ9//vlzzz23/PrWrVvfeuutCspp06ZNX3nlleO4xah45SkAAAAAqW/16tV33HFHQUFBxZu1atXqb//2b5s3b964ceMmTZrUr18/Ly9v7969eXl569evX7JkScXtdc+ePXfdddfcuXMbNGgQ0/FrSs+ePZcuXTpw4MCq73L55ZeXebN/iQsvvLCCHevXr/+nP/2pRYsWxzZipMRTAAAAAFLc/v37b7zxxj179gR/WqdOneuvv/6+++7r3LnzmWeeWcFxCgsLV61aNX369Lfffnvx4sXBbRYtWvToo48OGTIkBnPHxYsvvrhnz57//M//rMrG3//+98ePH3+0yz01b968adOmu3fvLv+jevXqvffeezfddFO1Zo07b9sHAAAAIMUNHjx47dq1wR/dd999a9eu/eSTT+68886Ky2laWlrdunUvvvjiX/7yl19++eWiRYuO9vGmQ4cO/eijj6o7dBz94Q9/GDly5GmnnVbxZhkZGTNnzmzZsmUF21x00UXlF9u0aTNp0qQ77rijWlNGQTwFAAAAIJXl5ua+/PLL5debN28+bty4//qv/wp+fGelLr/88kmTJr3++usnn3xy+Z++9NJLx3HMCN15552rV69+6aWXyr/1vn79+n369Pn8889HjBhx0kknVXycMrufeOKJDz300NKlS6+55poYTxwX3rYPAAAAQCobNGjQ3r17yyw2b9589uzZ7dq1q+bB+/Xrd/HFF19//fUHDx4svT5nzpyVK1cGX4aZsJo1a/b4448//vjjGzdu3Lhx4+bNmxs3bnzeeeedc845lTbTEiXx9IILLrjvvvvuv//+Zs2a1djINU48BQAAACBlFRUVvfPOO2UWTz311IkTJ1a/nBa7+uqrx4wZc+ONNxYWFpZeHzZsWHJdWb5EmzZt2rRpc3z73nDDDa1ateratWuln4GQFLxtHwAAAICUtXjx4uzs7DKLv/3tby+99NIY3soNN9zw4IMPlll85513Dh06FMNbSQodO3a8++67U6OcpomnAAAAAKSwTz/9tMxK8RWfYn5DAwYMOP3000uv5OTkTJkyJeY3RDyJpwAAAACkrGnTppVZ6du3b716sf8oyyZNmvTu3bvM4ldffRXzG0pqO3funDlz5ttvvx31IFXlM08BAAAASFmbNm0q/W16evptt91WQ7d1++23v/rqq6VXNm7cWEO3VX07d+586623Sq/cfffdrVu3jvkNbd68+YUXXlixYsWKFStycnKKF3v16tWwYcOY31bMiacAAAAApKwdO3aU/rZNmzY193GcV155ZXp6elFRUclKIsfTbdu2Pfnkk6VXOnfuXBPxND8//8033yyzuGnTpvbt28f8tmLO2/YBAAAASE2HDx/es2dP6ZVWrVrV3M3Vq1evzMeeJnI8jZsWLVqUX/zmm2/iP8lxEE8BAAAASE27d+8us9KsWbMavcUyx9+6dWuN3lxSaNy4cXp6epnFZMnK4ikAAAAAqalRo0ZlVsrn1Ngqc/zyA9RCq1atKv1RBsU2b94cyTDHSjwFAAAAIDWddNJJZa5KtG3btpq7ucLCwjIfsVrmXfy108KFC8svNmjQIP6THAfxFAAAAICUVeZ99F9//XVubm4N3daSJUsKCwtLrzRv3ryGbitZLF269Omnny6/niz3TL2oB/g/7N13WJP3/v/xhLAEWQFFVJZaB25RwYGKImpVxImtuEer1apUbU/rqFXbelxtHbiPFrXu1tWKIuLAUrcIWDkOQFARBFRkKCS/P/gefzREZCS5k/B8/HGu5p37/nxelMu21+vcAwAAAAAAAFAXV1fX4u8mKigoOHz48JgxY9Sx14EDBxQmtWrVUsdGpbh69Wp4eHhZjix5Ee7u3bsvXbpU+QwymSw3N/fly5fx8fGnTp3Kzs4ueYzSt0hpIcpTAAAAAAAA6K1u3bqdOXOm+OQ///mPOsrT/Pz8Xbt2KQy9vLxUvlHpXFxcli5dmp6eXoFz169fr/I8SonF4hYtWmhmr0ritn0AAAAAAADoLW9vb4XJ2bNn9+3bp/KNli9fnpCQUHxiYGDQs2dPlW9UOqlUunTpUg1vWl6dOnVydnYWOkWZUJ4CAAAAAABAb3l6elavXl1hGBQUpNo3R0VHR3/77bcKQ3d3d4UnrmrG2LFjPT09Nb9v2Y0dO1boCGVFeQoAAAAAAAC9ZWJiMnHiRIVhcnKyr69vZmamSra4c+eOr69vTk6Ownzo0KEqWb+8xGLxunXrJBKJILu/U79+/ShPAQAAAAAAAK0wc+ZMIyMjhWFMTIy3t3dcXFwlF4+IiPD29k5NTVWY29vbT5kypZKLV1jr1q0nT54s1O6l6NKlS0hIiFgsFjpIWVGeAgAAAAAAQJ85OjoGBgaWnN+4ccPd3X3ZsmW5ubkVWDYzM3PGjBndu3dPTk4u+e3cuXPNzc0rsKyqLFq0qGbNmgIGUODm5rZ27dqIiAhra2uhs5SDodABAAAAAAAAAPVavnz5iRMnUlJSFOZ5eXlz5sz59ttvR44cOWbMmJYtW77zbvf8/Pw///xzy5Yt+/fvz8vLU3rMe++9N2nSJNVEryhra+vdu3dHRka+7YDHjx+vXbu2+GTcuHGurq6V31oikRgZGRkZGVlYWEilUgcHh4YNG9rY2FR+Zc2jPAUAAAAAAICek0qlP//8s4+Pj1wuL/ltVlbW6tWrV69ebWZm1rp16zZt2tSqVcvKysrS0tLMzCw7O/vZs2fPnj178ODBlStXbt68+fr161L2srKyOnTokLGxsdp+mrLy9vb29vZ+27fR0dEK5emoUaO6du2q/ly6hPIUAAAAAAAA+q979+7ffPPNvHnzSjkmJycnMjKylKs138nQ0HDfvn1NmjSp8ArQKjzzFAAAAAAAAFXC3Llzf/rpJwMDdRViRkZGGzdu7Nmzp5rWh+ZRngIAAAAAAKCqmDZt2t69e01NTVW+sqOj45kzZ8aOHavylSEgbtsHAAAAAABAFTJ48GAnJ6dZs2adPXtWVWv27dt3+/bttra2qlpQA2xtbSdOnFh84uDgIFQYrUV5CgAAAAAAgKqlXbt2Z86cCQsLmzdvXlRUVIXXMTAwGDBgwKxZszp27KjCeJpRp06djRs3Cp1C21GeAgAAAAAAoCry8fHx8fEJDw//448/wsPDr1+/LpPJynKioaFh69atu3XrNmnSpAYNGqg7JwREeQoAAAAAAICqq3v37t27dxeJRBkZGRERETdv3nxazIsXLywtLaVSqY2NjY2NTZ06dTp27Ojh4WFmZiZ0cGgC5SkAAABKs2n1t0JHqFoeJieW5bAL506+ePFM3WHwxs3rF8ty2MPkRP7IaBK/F52W/yqf34uGPUxJEjqCtpNKpYMGDRo0aJDQQaBFKE8BAABQmo2rlwgdAUr8ee7kn+dOCp0Cih6lJPFHRgvxe9FOr/Lz+L0A0H4GQgcAAAAAAAAAAG3ElacAAAAAAAAA/iExMfHhw4cZGRmZmZlF/5ufn6/C9b/9Vjce3EF5CgAAgNJYWFgJHaFqycnJLiwsfOdhJiamxsYmGsiDIq9e5efn573zMIlEYmZWXQN5UITfi9Yqy0OZxWJx9eqWGgiDN3JyXhYWFgidAlotJyfn1KlTx48fDw0NvXv3rlr3ojwFAACAPgi/8lDoCFXLxyN7X/nr3DsPm/rZN8PHfKKBPCiye9vaFd/Oeedhrdp2XB9yXAN5UITfi9Zq19D8ncdUr27Jv2I07OPA3lcuvvtfMaiyTpw4MX78+OTkZKGDaBeeeQoAAAAAAABUXbm5uVOmTOnVqxfNaUlceQoAAAAAAABdcvHixZycnJLzdu3amZsrXvj88uXLS5cuaSSXEt26dRNq67L76KOPQkJChE6hpShPAQAAAAAAoEtGjRp1+/btkvMbN260aNFCYXj37l1vb2+N5FJCLpcLtXUZbdu2jea0FNy2DwAAAAAAAFRF8fHxn3zCU9RLw5WnAAAAAAAAQFX0448/Kn0AQhGJRFKnTh2X/7GwsNBkNi1BeQoAAAAAAABUOa9evdq9e7fSr8zNzT/77LPZs2dXr15dw6m0DeUpAAAAAAAAUOUcO3YsIyOj5HzkyJFLly51cHDQfCQtRHkKAAAAAAAAVDkHDhwoOezUqdO2bdsMDHhP0v+hPAUAAAAAAIAu6dSpk7Ozc8m50odyWlhY+Pr6qj+U7rl3757CxNTUdMuWLTSnxVGeAgAAAAAAQJds2bKl7Ae7urqGhoaqL4zuevjwocJk2rRpjRo1EiSM1qJIBgAAAAAAAKoWuVxesjz18PAQJIw2ozwFAAAAAAAAqpanT5++fv1aYdikSRNBwmgzylMAAAAAAACgaqlevbrCxNDQ8L333hMkjDajPAUAAAAAAACqFlNTUxsbG4WJkZGRUHm0FuUpAAAAAAAAoEppaWlnzpwp14utNM/BwaH4x+zs7PT0dKHCaC1DoQMAAAAAAAAA6pKWlrZ58+bikxEjRjg5Oal8o+Tk5MWLF8fFxcXFxT19+rRo+MEHH5iZmal8L5Vo0qRJXFxc8cm9e/fs7OyEyqOdKE8BAAAAAACgtx49evTll18Wn3Ts2FEd5Wl2dvaGDRsUhg8ePGjUqJHK91KJQYMGHThwoPjk7Nmz7du3FyqPduK2fQAAAAAAAKCy7O3tSw6TkpI0n6SM+vXrZ2JiUnyybt06mUwmVB7tRHkKAAAAAAAAVJaVlZVYLFYYJiYmChKmLCwtLf38/IpP7t+/f/ToUaHyaCfKUwAAAAAAAKCy/v77b7lcrjBMTk4WJEwZLV261NTUtPgkKCgoIyNDqDxaiPIUAAAAAAAAqKyLFy+WHBobG2s+Sdm5uroqPBD27t27w4cPLywsFCqStqE8BQAAAAAAACrl5s2bc+fOLTmvWbOm5sOUy5w5c9zd3YtPTp48OWLEiKdPnwoVSasYCh0AAAAAAAAAKJ+rV6+Gh4eX5chHjx4pTHbv3n3p0qXKZ5DJZLm5uS9fvoyPjz916lR2dnbJY5S+RUqrmJiYHD9+vGvXrnFxcW+Ge/bsCQ8PX7FixQcffGBoWKX7wyr9wwMAAAAAAEAXubi4LF26ND09vQLnrl+/XuV5lBKLxS1atNDMXpVhZ2cXFhbm5eV19+7dN8O0tLRRo0ZNnTq1W7duPj4+bdq0sbGxkUqlNjY2JiYmAqbVMMpTAAAAAAAA6BipVLp06dLx48cLHaQ0nTp1cnZ21uSOrVq1io+Pr9i5r1+/Ljl8/vz54cOHDx8+XHxoYmJiYFDZZ4Hm5ORUcgXNoDwFAAAAAACA7hk7duymTZuioqKEDvJWY8eO1fCOeXl5ubm56t4lPz9f3VtoD14YBQAAAAAAAN0jFovXrVsnkUiEDqJcv379NF+eQuUoTwEAAAAAAKCTWrduPXnyZKFTKNGlS5eQkBCxWCx0EFQW5SkAAAAAAAB01aJFi2rWrCl0iv/Pzc1t7dq1ERER1tbWQmeBCvDMUwAAAAAAAOgqa2vr3bt3R0ZGvu2Ax48fr127tvhk3Lhxrq6uld9aIpEYGRkZGRlZWFhIpVIHB4eGDRva2NhUfmVoD8pTAAAAAAAA6DBvb29vb++3fRsdHa1Qno4aNapr167qzwV9QHkKAAAAAAAA6IPY2FihI+gbylMAAAAAAABAH0gkEqEj6BteGAUAAAAAAAAASnDlKQAAAAAAAPSWra3txIkTi08cHByECgOdQ3kKAAAAAAAAvVWnTp2NGzcKnQK6itv2AQAAAAAAAEAJylMAAAAAAAAAUILyFAAAAAAAAACUoDwFAAAAAAAAACUoTwEAAAAAAABACUOhAwAAAAAAAAACKCwsfPDgQXJy8sOHD3Nzc1/9j1wuV9UWQUFBqlpK5VJSUhYuXKiZvcRisbGxsYmJiYmJiampqVQqdXBwcHBwqFOnjqOjo1gs1kyMCqA8BQAAAAAAQBVSUFBw6NChQ4cOHTt2LCMjQ617aXN5+vTp002bNgmdQmRtbd2mTZt27doNHjy4Xbt2QsdRxG37AAAAAAAAqCp+++23pk2bDhkyJCQkRN3NKcoiKysrPDx86dKl7du3b9KkyYEDB4RO9A+UpwAAAAAAANB/hYWFI0eOHDhwYHx8vNBZoNzff/89ZMiQsWPHvnjxQugs/4fyFAAAAAAAAHqusLAwMDBwx44dQgfBu23btq1Vq1ZRUVFCBxGJKE8BAAAAAACg95YuXbp7926hU6Cs7t275+vrqw3XCPPCKAAAAAAAAOizx48ff/fdd0Kn0DqmpqZubm5vPr548eLBgwdlOdHAwMDS0lImk2VnZ8tkMjXFe/HixbBhw6KiokxNTdW0RVlQngIAAAAAAECfzZs3Lzs7u5QDHBwcmjdvbmVlZWlpaWlpaWJiorFsAmrYsGFsbGzRX6enp/fo0UNpeWpsbOzj49O+ffu2bds2a9ZMKpVWr15dLBaLRCK5XJ6dnZ2ZmRkbG3vt2rUrV66Ehoa+fPmy5CK2trZTp04ViUQymSw/Pz83Nzc7OzstLe3Bgwd///13fn6+0oQ3btyYMWPG+vXrVfYzlx/lKQAAgHY5d+6cl5eX0CkAAAD0RF5e3q5du5R+VaNGjQULFrz//vuurq4aTqVVUlNTe/To8aZIfcPZ2fmTTz4ZM2ZMjRo1lJ4oFostLCwsLCycnJz69OkjEolevHixZ8+eNWvW3Lhxo/iRT58+ffLkybp160oukpOTExIS8uOPP966davktxs2bHj//ff9/Pwq+LNVGs88BQAA0C6ffvpp06ZNv/nmm9u3bwudBQAAQOeFhYXl5OSUnA8aNCg+Pv6TTz6p4s1pXl6e0uZ08uTJsbGxs2fPfltzqpSFhcWECROuXLmyZMkSY2Pj4l8FBwcHBQWVPMXMzOyjjz6KjY09dOiQpaVlyQNWr15d9gAqR3kKAACgdeLi4hYsWNC4cWNvb+/169dnZmYKnQgAAEBXHTp0qOTQ09Nz586d1tbWms+jbb7++muF5tTIyOjgwYPr1q0zNzev2JoSieTLL7+MiIioXr168fmqVav279+v9BSxWOzn5xceHm5ra6vwVXh4eHJycsWSVB7lKQAAgPaKiIiYPHmyVCoNCAg4ePCg0HEAAAB0z8WLFxUmhoaGe/fuFfY1RFri6tWry5cvLz4xMDAICQkZOHBg5Rfv0KHDoUOHFB4gO3369OfPn7/tFHd39zNnzpiZmRUfymSyHTt2VD5PxVCeAgAA6IC9e/cOHjy4Ro0a06ZNO3/+vNBxAAAAdMbjx48VJgMHDnR0dBQkjLaZM2dOYWFh8cns2bMDAgJUtX737t2//PLL4pOHDx8uXLiwlFOaNm06btw4heHPP/+sqkjlRXkKAACgM9LT09esPcHkjAAAIABJREFUWePl5dW0adNFixbFx8cLnQgAAECrFRYWpqenKwzHjh0rSBht8+jRo9OnTxefuLi4zJ8/X7W7fP755/Xq1Ss+2bZt2+vXr0s5ZebMmRKJpPjk1q1bd+7cUW2wMqI8BQAA0D1xcXHz589v1KiRt7f3hg0bsrKyhE4EAACgjTIyMmQymcKwcePGgoTRNnv27FH4m/Ppp58q3DJfeSYmJuPHjy8+ycjIOHXqVCmn1KtXz9/fX2H44MED1QYrI8pTAAAAHRYREfHxxx/b2NgEBAT8+uuvQscBAADQLlZWVmKxuPjEwMCgbt26QuXRKkeOHCn+USwWDxs2TB0bDRkyRGHyzqf5t2vXTmHy8OFDVWYqM8pTAAAAfbB3795BgwbVrFlz2rRpkZGRQscBAADQCsbGxnZ2dsUnBgYGcrlcqDxaJTExsfjHevXq1alTRx0bNWzYsHr16sUn73z8VMmH0lKeAgAAoLLS0tLWrFnTuXPnZs2aLVq06L///a/QiQAAAASmUAgWFBTcvn1bqDBaJSUlpfhHNTWnRWrXrl3K1iVRngIAAECNYmNj58+f37Bhw+7du2/cuPHZs2dCJwIAABCGs7OzwiQ2NlaQJFolIyMjLy+v+MTKykp92yk8SvWdTSjlKQAAADTh9OnTH330kbW19fDhw3/77Teh4wAAAGian5+fwiQmJkaQJFrFzMxM4Wmwqamp6tvu8ePHxT8aGhqWfryBgWJp+fr1axVnKhvKUwAAgCphz549AwcOtLe3//TTTy9cuCB0HAAAAA0ZMmSIqalp8cnx48d57KmpqanCrfQJCQlq2is3N/fJkyfFJw4ODqWfovA8VpGaL4wtxTtaXgBQq4SEBPX90xkAdFR2drb6Fn/y5Mnq1atXr17drFmzly9fqm8jAAAALWFpaenn57d37943kytXrmzZsmXChAkCptIG9erVK/7s0SdPnvz1118eHh4q3+iPP/6QyWTFJ7Vq1Sr9FMpTABDNmjVrxYoVQqcAgCqKu9UAAEDVMXv27IMHDxYUFLyZ/Otf/xo0aJBUKhUwleDq1at37ty54pMdO3aoozzdvXu3wqQCV57a2tqqMlOZcds+AMEcOHBA6AgAAAAAAP3Xtm3befPmFZ+kp6d/8cUXQuXREvXq1VOYbNy4MS4uTrW7/PXXX/v371cYdu7cufSzTp48qTBp0aKFKmOVGeUpAMFwwz4AAAAAQDO++uorT0/P4pNNmzZNmjTp1atXQkUSXMlXab169WrixIn5+fmq2iI3N/fjjz9WeMKsWCweOHBgKWf9+eefZ86cURi2adNGVanKhfIUAACgilJ4vyoAAIAek0gke/fubdq0afHhpk2bPDw8du7cWTUr1FatWvn6+ioML1y4MGzYMJW82v7Vq1eDBg26fv26wrxDhw4K76pS8O233ypM7O3tHR0dKx+pAihPAWiF06dPywEAcrlcLm/VqpW6/6nbs2fPLVu2vPNuKQAAAH3i6Oh44cKFXr16FR9ev349MDDQyclpxIgRq1atOnv27P37958+faqS9lD7zZkzp+Tw8OHD/fv3f/ToUWVWfvjwYf/+/Y8fP17yq7Fjx5Zy4g8//HDs2DGF4dChQysTpjJ4YRQAAEBV0bJly+HDhwcEBLi6uopEopCQEKETAQAAqF12dnZUVNSbjzNmzHjy5Mm1a9eKH5Oamrpr165du3YVH5qYmBgYVPa6w5ycnEquoFY9evRwd3e/cuWKwjw0NLRp06bLly8PDAw0NjYu15p5eXk///zz559/npWVVfJbDw+PcePGKT0xOTl54cKFmzdvLvnV6NGjy5VBhShPAQAA9JyDg0NAQMDw4cPV8e5UAAAALXfv3r2ePXtW4EQVPvpTm33//fd9+vQpKChQmGdmZo4fP/7zzz8fNWrU4MGDW7duXa1atVLWyczMvHr16r59+/bs2aO0NhWJRIaGhhs3bixZSe/atWvZsmUlb/Av0qZNm7Zt25b5B1IxylMAAAD9JJFIijrT/v37C50FAAAAWsrHx2fr1q2jR4+W//O1TkXS09NXrly5cuVKiUTi5ubWqFEjKysrKysrS0vL/Pz858+fP3/+PCMj4+bNm0lJSe/ca+HChS1atCg537Zt29uaU5FI9MMPP5TrJ1ItylMAAAB94+PjU3R7fvXq1YXOAgAAAG03cuTI9PT0oKCgUo4pLCy8efPmzZs3K7zLkiVLvvzyS6VfxcfHv+2sESNGeHl5VXjTyqM8BQAA0BMtWrQo6kzr1asndBYAAADokpkzZ6alpX333XdqWn/VqlUzZsxQ+lVeXt6DBw+UftWuXbvg4GA1RSojylMAAADdVqtWraLO1NPTU+gsAAAA0FXffvuth4fHzJkz79+/r8JlXV1d169f7+vr+7YD7ty5I5PJSs5btGhx/PhxCwsLFYapgMq+MgwAAACCMDAw+PDDDw8dOvTo0aNVq1bRnAIAAKCSBgwYEBcXt3DhwtLfDVVGhoaGs2fPjomJKaU5FSm7Z9/ExGTu3LlRUVFSqbTyMSqJK08BAAB0jI+PT0BAQEBAgOD/PzwAAID2a9GiRclXyeNtTE1N58+fP3r06MWLFx86dCgtLa0Ci0il0jFjxkyePLlBgwbvPPhNeSoWi93d3fv16xcYGFi/fv0K7KsOlKcAAAC6oXnz5kW352vPf0oCAADoBIlEInQEHePs7Lxp06YNGzb8+eefhw4dOnz48O3bt995loODQ8eOHfv16xcQEFD2a1cHDhzYrVs3qVRas2ZNa2vrygVXPcpTAAAArWZvb1/UmXbo0EHoLAAAAKhCDAwMOnXq1KlTp3//+98JCQkJCQmPi8nJybGxsZFKpVKptG7duh06dHBxcanALo0aNVJ5chWiPAUAANBGYrG4qDMdMGCA0FkAAABQ1bm4uFSsG9V1lKcAAADaxdbWduPGjQEBAZaWlkJnAQAAAKo0ylMAAADtEhYWJnQEAAAAACKRSGQgdAAAAAAAAAAA0EaUpwAAAAAAAACgBLftAwAAAAAAAP8nLy8vPT09MzMzMzMzIyMjOzvb0NCwd+/e1tbWxQ97/fq1kZGRUCGhMZSnAAAAAAAAqNJSUlLOnTsXGRkZGRkZHR1dWFiocMDVq1dbt25dfLJ69erffvtt+vTp/v7+EolEg2GhUZSnAAAAAAAAqKLCwsJWrFgRGhoql8vLdWJCQsK5c+fOnTvn5OQ0derUCRMm2NjYqClk2V28eDEnJ6fkvF27dubm5grDly9fXrp0SSO5lOjWrZtQW5cL5SkAAAAAAACqnIMHD3799dc3b96s2OkJCQlFf5GUlDRnzpyvv/76m2+++eyzz1QXsCJGjRp1+/btkvMbN260aNFCYXj37l1vb2+N5FKivG21UHhhFAAAAAAAAKqQ3NzciRMnDh48uMLNqUgkSkxMLP4xJydn1qxZc+bMqXQ6aBeuPAUAAAAAAEBVcevWraFDh8bGxlZynTdXnha3bNmyjIyMDRs28BRUvcGVpwAAAAAAAKgS7t27161bt8o3p5mZmc+fP1f61ZYtW4YNG5afn1/JLaAlKE8BAAAAAACg/zIyMvr06fPkyZPKL6Vwz76CgwcPTpo0qfK7QBtQngIAAAAAAEDPFRYW+vn5xcfHK/3WyMioY8eOU6dO3bp16/Xr16dPn176ao0aNVqxYkWtWrXedsDPP/8cHh5eqcTQDjzzFAAAAAAAAHpu8+bNkZGRJedisfiDDz5YvHixq6vrm6GRkVHpq1WrVi0oKGjKlCmbNm1aunRpSkpKyWOmTJkSGxur4YefdurUydnZueTcwsJC6dDX11f9oXQb5SkAAAAAAAD0WXZ29oIFC0rOPT09g4ODW7VqVbFlTU1Np02bFhgY+P7770dFRSl8e/v27T/++KNfv34VW7xitmzZUvaDXV1dQ0ND1RdGP3DbPgAAAAAAAPTZsmXLUlNTFYZeXl5hYWEVbk7fsLGxCQsLU3oJ5+bNmyu5OARHeQoAAAAAAAB9VvJ6TDc3t99//93c3Fwl65ubmx85csTT01NhfuzYsYyMDJVsAaFQngIAAAAAAEBvXbt2TeGZpGKxeMOGDdWrV1fhLsbGxkuWLFEYFhQUXLx4UYW7QPMoTwEAAAAAAKC3jh07pjAJCAjo3Lmzyjfq3r17ly5dFIaUp7qO8hQAAAAAAAB669SpUwqTkSNHqmmvGTNmKEyuXr2qpr2gGZSnAAAAAAAA0FvJycnFP1paWvr4+KhpLzc3N4VJWlqamvaCZlCeAgAAAAAAQG+lpqYW/1i/fn1jY2M17eXq6iqRSIpPMjMz1bQXNMNQ6AAAAAAAAACAWuTm5r548aL4pHbt2urbztjY2MnJ6f79+28mWVlZ6ttOY9LT0y9cuHDx4sXHjx9nZmZmZmZmZGRkZ2cbGhr++uuvTZo0KX5wZGRkfn5+9+7dhUqrWpSnAAAAAAAA0E8KzalIJLKwsFDrjgYG/7jPW+FCVN3y119/bdmy5ezZs7dv337bMXl5eQqT0NDQRYsWNWvWbPr06SNGjKhWrZqaY6oXt+0DAAAAAABAP0mlUrFYXHySnp6u1h0VnhJQo0YNtW6nDjKZ7ODBg507d/b09Ny0aVMpzalSCQkJIpEoJiZm4sSJjo6OX375pU4/+JXyFAAAAAAAAPrJ0NBQKpUWn6SkpKhvu/T09Ozs7OITnStPb9++7e7uPnjw4MjIyIqtUFSeFnn69Ol3333n4eFx9+5dFQXUNMpTAAAAAAAA6C17e/viH//+++/Hjx+raa/jx48rTHSrPA0JCXF3d79+/XplFklMTFSY3L9/v3PnztHR0ZVZViiUpwAAAAAAANBbzs7OxT/K5fLff/9dTXv99ttvCpN69eqpaS+VmzZt2qhRo16+fFmZRQoKCpRe2/v48eOuXbteuHChMosLgvIUAAAAAAAAeqtXr14KkxUrVshkMpVvFB0d/euvvyoMe/bsqfKN1GHJkiVr1qyp/DrJycmFhYVKv8rKyurZs2d4eHjld9EkylMAAAAAAADorb59+ypM4uLi/vOf/6h2F7lc/tlnnyl0shYWFp6enqrdSB1CQkLmzp1b+jFOTk7+/v7t2rUr/bDXr1/XrFnzbd/m5OSMGjXqxYsXFUkpEMpTAAAAAAAA6K0GDRo0bNhQYfjpp5/euHFDhbvMmzcvLCxMYditWzcjIyMV7qIO8fHxEyZMUPqVRCIZP378iRMn0tPTExMTf/31165du5a+2nvvvZeQkPDDDz/Url1b6QEpKSnz5s2rbGgNojwFAAAAAACAPps0aZLCJCcnx8/P79KlS5VfXCaTLV++fMmSJSW/GjduXOXXV7cvvvji1atXJecDBw6MiYnZvHlzz549bW1ty75gtWrVpk+ffu/evX//+98GBkq6xzVr1jx48KDiiTWL8hQAAAAAAAD6bOrUqQqvjRKJRElJSR07dpw3b57S6rCMrl692qFDh9mzZ5f8qm3btv7+/hVeWTPOnz9f8jmthoaG+/fvP3jwYOPGjSu8somJyezZs3fv3m1sbKzwVWFhocofm6A+lKcAAAAAAADQZyYmJkqvDC0oKFi8eHH79u2vXr1a3jWfPXs2bdq0du3aXbx4UekBixcvLndQjVu4cKHCRCKR/PLLL4MHD1bJ+kOHDj1y5IiZmZnCfOvWrep4Z5c6UJ4CAAAAAABAz3344Yc9evRQ+tWNGzfc3d0dHR2HDRu2atWqqKio/Px8pUdmZmaePn16xYoVgYGBDRs2XLNmzdsawH79+vXq1Utl6dUjKysrIiJCYRgUFDRkyBAV7uLr6/vZZ58pDBMTE2NjY1W4i/oYCh0AAAAAAAAAUC+xWHzgwIFOnTq9rbNLTk7et2/fvn37lH47Y8aMpKSkhISEsuzVtGnTnTt3VjyrpoSGhhYUFBSfODk5LViwQOUbBQUF/fTTT8+ePSs+vHjxYvPmzVW+l8px5SkAAAAAAAD0n5WV1e+//+7g4FCBc8+ePVvG5rRGjRpHjx61tLSswC4aduzYMYXJ1KlTzc3NVb6RtbX19OnTFYZve9yBtqE8BQAAAAAAQJXg5OQUFhZWmfcgvXP948ePu7i4qGl91bp586bCRLU37BfXu3dvhcmdO3fUtJdqUZ4CAAAAAACgqnBzc7t8+fLo0aNVvnLfvn2vXbvWpk0bla+sJqmpqcU/1q9f39XVVU17NWjQQGGSmZmppr1Ui/IUAAAAAAAAVYi5ufm2bdtCQkIcHR1VsqCNjc3y5cuPHDkilUpVsqAGyOXytLS04pM6deqob7saNWpYWVkVn2RlZalvOxWiPAUAAAAAAECVExgYeO/evV9++aVt27YVXsTZ2XnVqlVJSUmfffaZWCxWYTx1y8jIUHhbVK1atdS6Y+3atYt/fPnypVq3UxVDoQMAAAAAAAAAAjA0NBw+fPjw4cP/+uuvU6dORUZGXrhw4Z1XRBoaGrZp08bLy6tr1659+vQxNNTJes3Y2Fhhkp+fr9YdFe7Tt7GxUet2qqKTv10AAAAAAABAVTw8PDw8PEQikVwuj42NvX//fmZmZmZmZkZGRlZWlomJifR/7O3t3d3dzczMhI5cWRYWFqampnl5eW8mCo9AVS2ZTKbwlAA7Ozv1badClKcAAAAAAACASCQSicXiZs2aNWvWTOggmmBvb5+YmPjm4+3btwsLCyUSiTr2unz5cmFhYfFJjRo11LGRyvHMUwAAAAAAAKDKqVmzZvGPmZmZUVFRatrr6NGjpe+utShPAQAAAAAAgCqnXbt2CpMdO3aoY6NXr16FhIQoDDt06KCOvVSO8hQAAAAAAABQgcePH4eHh69Zs+aTTz7x9vZ2cnKSy+VCh3qrvn37Kky2bNly//59lW+0Zs2ahIQEhWHPnj1VvpE68MxTAAAAAAAA6K2YmBh3d/fik7CwMC8vL5VvdPXqVYWNRCJRampqrVq1VL6XSnh7e1erVi03N/fN5PXr1x999NEff/yhwief3r59+5tvvlEYurm51alTR1VbqBVXngIAAAAAAEBvyWSyV/8kk8nUsZHSh3gmJSWpYy+VqFatWu/evRWGJ0+enDNnjqq2SEtLe//99589e6Yw79evn6q2UDfKUwAAAAAAAKCydK48FYlE8+fPNzBQrAdXrlzp7++fmppaycWPHj3q4eFx7949hbmZmdnMmTMrubjGUJ4CAAAAAAAAlZWTk1NymJiYqPkkZdeqVavAwMCS80OHDjVt2nTv3r0VWzYpKWngwIH9+/dX+gTVqVOnau2jDErimacAAAAoze5ta4WOULWkPkopy2FXLp1XdxIUV8a/4amPUvgjo0n8XnTaq1f5/F407MnjMv0rBhV26dKlksOsrCzNJymXxYsX79u3r/iTT4s8ffo0ICBgx44dAwYM6NChQ5MmTcRicelLyeXyu3fv7tu3b/HixUqrZJFIZGlpqcLHAmgA5SkAAABKs+JbXfqv26oj4uThiJOHhU4BRclJ9/gjo4X4vWin/Pw8fi/QM0qv07Szs9N8knJxdHTcvn17QECAXC4v+e2RI0eOHDkiEomsra09PDzS09MVDrh161Z0dPS1a9euXbt2/fr158+fl7KXWCzetm2bra2tCvOrG+UpAAAAAAAAUBFyuTw3Nzc+Pv6HH37Yvn17yQPs7e01n6q8hg4dmpiYOHv27FKOycrKCg0NLTkfMWJE2Tf6/vvvBw4cWO58gqI8BQAAAAAAgI4JCwvz9/cvy5EymUxh0rt3b4lEUvkMMpksLy9P6QWbb9SpU6fyG2nArFmzkpOTf/zxR/VtMWHCBN26Yb8I5SkAAAAAAAB0jI+Pj4+Pz6FDhypwbl5ensrzKGVra+vp6amZvSrvhx9+aNGixbRp0972uNIKMzQ0/O6772bNmqXaZTWD8hQAAACluRT/UugIVcvHI3tf+evcOw/77Mt/Dx/ziQbyoMjubWvL8nBGdw+v9SHHNZAHRfi9aK12Dc3feYyFhVX4lYcaCIM3Pg7sfeXiu/8Vo0N+/PHHEydOlHzTkfYYNmyYkZGR0CnKYdy4cZ6ensOGDYuNjVXVmnXr1t2zZ0/Hjh1VtaCGGQgdAAAAAAAAACg3Z2fnr776SugUb2VpaRkUFCR0inJzc3O7fPnyhg0bGjduXMml7O3tFy9efPPmTd1tTkWUpwAAAAAAANBRs2fPfu+994ROoUTRa+UbNGggdJCKMDU1nTRpUlxc3NGjR3v37m1mZlau0w0MDNzd3Tdu3JiYmPjVV19ZW1urKadmcNs+AAAAAAAAdJKxsfGaNWt69eoldJB/cHFx2bRpk4+Pj9BBKkUsFvft27dv374FBQVXr16NjIyMjIy8f/9+ZmZmZmbms2fPit6UZWJiIpVKpVKpvb29h4eHl5dXx44drayshI6vMpSnAAAAAAAA0FW+vr5Dhw49ePBgKccUFhYW/2hgYCAWiyu/tUQiMTIyMjIysrCwkEqlDg4ODRs27Ny5c9++fct7taY2MzQ0bN++ffv27WfOnPlmKJPJnj17ZmJiok8/qVKUpwAAAAAAANBhe/fuLeXb6Ojoli1bFp+Eh4d37dpVzaH0nIGBgY2NjdApNIFnngIAAAAAAACAEpSnAAAAAAAAQJWTm5ubnZ0tdAptR3kKAAAAAAAAVDn//e9/7ezs+vXrt3nz5idPnggdR0tRngIAAAAAAABVUX5+/rFjxyZOnOjg4NC5c+fly5ffuXNH6FDahRdGAQAAAAAAQG+5ubmlpKQUn9jZ2QkVRmvJZLLIyMjIyMjZs2c3bdrU39/f39+/bdu2QucSHuUpAAAAAAAA9JahoWHt2rWFTqFLYmNjY2NjlyxZUrdu3QEDBvj7+3fr1s3QsIq2iFX0xwYAAAAAAABU6/Hjx3FxcXFxcbdu3YqLi7t7925iYqJYLBY6VwUlJyevXbt27dq11tbW/fr18/f379WrV/Xq1YXOpVGUpwAAAAAAANBbMTEx7u7uxSdhYWFeXl4q3+jq1asKG4lEotTU1Fq1aql8Lw3LysrasWPHjh07TE1NfXx8/P39+/fvX7NmTaFzaQIvjAIAAAAAAIDekslkr/5JJpOpYyOlZWJSUpI69lIJOzu7Ll26SCSSsp+Sl5d39OjRCRMmODg4eHl5rVix4u7du+pLqA0oTwEAAAAAAIDK0rnytHbt2mfOnElLS9u1a9eHH34olUrLfq5MJjt//vysWbMaNGjQvHnzefPmXblyRX1RBUR5CgAAAAAAAFRWTk5OyWFiYqLmk5SLjY3NBx98sHPnzidPnpw9e3bOnDlubm7lWiEmJmbx4sVt27Z1cnKaNm3aqVOnCgoK1JRW8yhPAQAAAAAAgMq6dOlSyWFWVpbmk1SMRCLx8vJaunRpbGzsvXv3Vq9e3atXLxMTk7Kv8ODBgzVr1vj4+NSsWXPkyJEHDhx4+fKl+gJrBuUpAAAAAAAAUFl79+4tObSzs9N8kspzdXWdOnXq8ePHnz59+uuvv44fP97BwaHsp2dmZu7YsWPIkCF2dnb9+/ffsmXLkydP1JdWrQyFDgAAAAAAAADoJLlcnpubGx8f/8MPP2zfvr3kAfb29ppPpULm5ub+/v7+/v5yufzKlStHjx49duzYlStX5HJ5WU4vesHU0aNHDQwMOnbsWLRU/fr11R1bhShPAQAAAAAAoGPCwsL8/f3LcqRMJlOY9O7du1yvmC9l5by8vNJrxDp16lR+I20gFovbtm3btm3br7/++tGjR7///vvRo0dPnjxZxhvzi14wVfSOqWbNmvn7+y9atEjdmVWC8hQAAAAAAAA6xsfHx8fH59ChQxU4Ny8vT+V5lLK1tfX09NTMXprk4OAwfvz48ePH5+fnR0REFF1bmpCQUMbTY2JiYmJidKU85ZmnAAAAAAAA0D0//vhjtWrVhE5RmmHDhhkZGQmdQo1MTEx69eq1evXq+/fvx8TEfP/99507d1bJVb3ag/IUAAAAAAAAusfZ2fmrr74SOsVbWVpaBgUFCZ1Cc5o2bfr555+fO3cuNTU1JCQkICDAyspK6FAqQHkKAAAAAAAAnTR79uz33ntP6BRKiMXibdu2NWjQQOggmlZYWHjnzp2kpKS0tLT8/Hyh46gAzzwFAAAAAACATjI2Nl6zZk2vXr2EDvIPLi4umzZt8vHxETqI5sTExJw6derUqVNnzpx5/vy50HFUifIUAAAAAAAAusrX13fo0KEHDx4s5ZjCwsLiHw0MDMRiceW3lkgkRkZGRkZGFhYWUqnUwcGhYcOGnTt37tu3r5mZWeXX13J3794NDw8PDw8/ffp0amqq0HHUhfIUAAAAAAAAOmzv3r2lfBsdHd2yZcvik/Dw8K5du6o5lH5KSUkJ/5+kpKQKr6ND79GiPAUAAAAAAACgXHp6ekRExKlTp8LDw+Pj4yuzVLNmzXx8fHx8fHSovKY8BQAAAAAAAPD/PX/+/OzZs0VXmEZHR8vl8govVbdu3aLCtEePHrVq1VJhSM2gPAUAAAAAAACqutzc3MjIyKLC9PLlywoPii0XKysrb2/vos60UaNGKgypeZSnAAAAAAAAQFX0+vXrixcvFt2SHxUVlZ+fX+GljI2NO3bsWFSYtm3bViKRqDCngChPAQAAAAAAoLfc3NxSUlKKT+zs7IQKo1Xi4+PbtGnz8uXLCq8gFotbtmxZVJh6eXmZmZmpMJ6WoDwFAAAAAACA3jI0NKxdu7bm983Nzd29e/fYsWM1v3UZ5eXlVaw5dXFxKSpMu3fvXqNGDZUH0yqUpwAAAAAAAIDK/P333+vXr9++fXtWVpY2l6flUq9evY4dO3bu3NnHx6d+/fpCx9EcylMAAAAAAACgsl6/fv3bb78FBwefPn1a6CwqYGJi4u7u3vF/7O3thU4kDMpTAAAAAAAAoOKSkpI2bty4ZcuWx48fC51FZSwtLZ0GFevNAAAgAElEQVSdnRs3bty6desq25yKKE8BAAAAAACACpDJZMePH1+/fv2xY8dkMpnQcVQsLS3tl19++eWXX0QiUf369Xv06OHj4+Pt7V3VXrdFeQoAAAAAAACUw5MnT7Zu3bphw4aEhAShs2jC3bt37969u3HjRrFY3LJlSx8fnx49enh5eZmbmwsdTe0oTwEAAAAAAIAyOXv27Pr16w8cOPDq1Suhs1RW3bp1Z86ceeLEidjY2DKeIpfLr1+/fv369eXLlxsbG3t6ehZdkdq+fXtDQ/2sGfXzpwIAAAAAAABU5dmzZyEhIevXry97z6j9pFLpypUrRSLRw4cPT/7PkydPynj6q1evzp49e/bs2QULFlhYWHTp0qXoitRmzZqJxWJ1BtcoylMAAAAAAABAuatXr65fv37Xrl0vX74UOou61K5de/To0aNHj5bL5Tdu3Dh58uSJEyfOnz+fl5dXxhVevHhx7NixY8eOiUSimjVr9vgfFxcXdQbXBMpTAAAAAAAA4B9yc3P37NkTHBx88eLFCpxuZ2cXGBg4btw4lQdTK7FY3KpVq1atWs2ePTs3N/fcuXNFRerNmzflcnkZF3ny5Ik+vWmK8hQAAAAAAAD4P7dv316/fv327dszMzPLe66BgYGvr++4ceMGDBhgbGysjngaU61aNV9fX19f32XLlqWmpha1qGFhYY8ePSr7InrwpinKUwAAAAAAAFR1BQUFv/32W3BwcHh4eAVOd3V1HTdu3OjRox0dHVWeTXD29vaBgYGBgYEikejmzZtFRerZs2dzc3PLuELJN02dOXNGnZFVhvIUAAAAAAAAVdeDBw82bty4efPmx48fl/dcU1PTwYMHjxs3ztvbW5/eklSK5s2bN2/ePCgoKD8///z580VF6vXr18t+X3/Rm6bUGlKFKE8BAAAAAABQ5cjl8tDQ0ODg4KNHj8pksvKe7u7uPn78+A8++MDa2lod8bSfiYlJ0Vuhvv/++6dPn549e/b06dMRERExMTFlL1K1H+UpAAAAAAAAqpC0tLStW7du2LDh/v375T1XKpUWvQmqZcuW6simo2xtbQcOHDhw4ECRSJSenn7mzJmiIjUuLk7Xi1TKUwAAAAAAAFQJ58+fDw4O3r9//6tXr8p7rr29/U8//TRgwAATExN1ZNMbdnZ2bdq0SUtLe/jwYUJCwsuXL4VOVCmUpwAAAAAAANBnz58/DwkJWb9+fUxMTIUXcXFxGTZsmApT6Zns7OzTp0+HhoaeOHHiv//9r9BxVIbyFAAAQLs8ffrU1tZW6BQAAAD64Pr168HBwTt37izv9Y9isVjX7zfXALlcfu3ataLCNDIy8vXr10InUj3KUwAAAO3i4+PToEGDgICAIUOGCJ0FAABAJ+Xl5e3Zsyc4OPivv/4q14lisdjLy2vs2LGFhYUTJkxQUzxd9+jRo5MnT4aGhp48eTItLa0CK7Ro0ULlqdSE8hQAAEDr7N+/f//+/VKpdPjw4QEBAV26dBE6EQAAgG6Ij4/fsGHDtm3bMjIyynWis7PzqFGjxowZU69ePZFItGfPHvUE1FX5+fnnzp0rusg0Ojq6AisYGRl16dLFz8/Pz8/PxcVF5QnVhPIUAABAS2VkZKxbt27dunVNmjQJCAgICAho3Lix0KEAAAC0UUFBwaFDh4KDg0+dOlWuE83MzAYNGjRmzJju3buLxWI1xdNdcXFxJ06cCA0NPXPmTG5ubgVWsLKy6tOnj5+f3/vvv29lZaXyhOpGeQoAAKDtbt269fXXX3/99dddu3YtalGlUqnQoQAAALRCcnLypk2bNm3a9OjRo3Kd2KlTpzFjxgwbNszS0lJN2XRURkZGWFhY0UWmycnJFVvE2dm56CLTrl27GhkZqTahJlGeAgAA6IwzZ86cOXNmypQpQ4cODQgIGDx4sNCJAAAAhCGXy0+cOBEcHHz06NHCwsKyn1i3bt1Ro0aNHj26YcOG6ouncwoKCqKiooouMr18+bJMJqvAImKx2N3dvagzbdmypcpDCoLyFAAAQPfs27dv3759tra2RQ9F9fLyEjoRAACA5qxbt27lypV3794t+ymmpqb+/v5jx4718fExMDBQXzbdcv/+/dDQ0NDQ0PDw8OfPn1dsERMTk+7du/v5+fXv379OnTqqTSg4ylMAAABd9fTp07Vr165du9bNza3odv5GjRoJHQoAAEDtfvrppzI2p2KxuGvXriNHjhwyZAi35yuIiYlp3rx5hU+3tbXt27evn59fr169qlevrsJgWoXyFAAAQOfFxcUtWLBgwYIF3bp1K2pRbWxshA4FAAAgJDc3t5EjR3744YdOTk5CZ9FSFbs3v0GDBgMGDPDz8+vUqZNEIlF5Km1DeQoAAKA/IiIiIiIiJk+ePGzYsICAgEGDBgmdCAAAQKOaNGkyaNCgwYMHt27dWugs+sPAwMDDw6OoM23SpInQcTSK8hQAAEAP7d27d+/evTVq1Ci6ELVz585CJwIAAFCjli1bDh8+fODAgTzFSIXMzMx8fHwGDBjQr1+/mjVrCh1HGJSnAAAAeistLW3NmjVr1qxp2rRpUYvKW2UBAIBe+vvvv48dO/bixQsvL69OnTpZWFgInUiH2dvb9+vXb8CAAT4+PtWqVRM6jsAoTwEAAPRfbGzs/Pnz58+f7+3tXdSiWltbCx0KAABAZfLz88+fP3/+/HmRSCSRSFq3bu3v7z948ODGjRsLHU1nuLm5+fn5+fn5eXh4GBgYCB1HW1CeAgCUiIiIEDoCUHVlZ2erb/HTp0+fPn36448/DggISEtLU99GAAAAQiksLLx8+fLly5fnzp3r5uY2ePDgwYMHt2zZUuhc2kgikXTu3LmoM23QoIHQcbQR5SkA4B+io6O9vb0zMjKEDgJAvfbs2SN0BAAAgAqysrIq45FxcXFxcXGLFi1yc3MbM2ZMYGCgg4ODWrPpkPr16z958kQqlQodRKtxCS4A4B/GjRtHcwoAAABAm0VGRh4+fNjf39/QsKzXBcbFxc2ZM8fR0fH999/fu3dvfn6+WhPqBHNzc5rTd6I8BQD8w5UrV4SOAAAAAAClMTQ07N+//6+//pqSkrJs2bImTZqU8cTCwsI//vgjICDAwcFhypQpFy9eVGtO6AHKUwAAAAAAAOikmjVrzpo1Ky4u7s8//5wwYYKFhUUZT8zMzAwODvbw8HBzc1u6dOnDhw/VmhO6i/IUAPBWp0+flgPQuFatWqn7T3edOnWCgoLc3d3VvREAAIBmeHp6btq06dGjR9u2bfPy8ir7ibdu3friiy+cnJz69OmzZ8+evLw89YWELqI8BQAAqCqMjIwCAwOPHj2anJy8YsWKsl+aAQAAoBPMzc1Hjx599uzZ+Pj4f/3rX7Vr1y7jiYWFhcePHx8+fLiDg8PkyZOjoqLkcrlao0JXUJ4CAADoP19f361bt2ZlZYWEhPTt21foOAAAAOr13nvvffvtt0lJSUePHh00aJCRkVEZT8zKylq/fn2HDh0+/vhjtSaErijrK8kAAACgc1q1ajV8+PCAgAAXFxehswAAAGiaRCLp27dv375909LSQkJCtm7dGhsbW8Zznz17ptZs0BVceQoAAKBvateuHRQU9Ndff127du3zzz+nOQUAAFVcjRo1goKCYmJioqKiJk2aZGlpWYFFEhISdu3alZOTo/J40GaUpwAAAHrC0NBwxIgRR44cSUlJWbFiRfv27YVOBAAAoF08PDw2bNjw6NGj7du3d+3atVznpqamjhgxwt7efvTo0WFhYTKZTE0hoVUoTwEAAHRez549t2zZkpWVtWPHjn79+gkdBwAAQKuZmZmNGjUqIiLizp07X331VZ06dcp+bnZ29s8//9yzZ08nJ6c5c+bcvHlTfTmhDShPAQAAdFXLli2/++67e/funThxYty4cebm5kInAgAA0CX169dfvHhxYmLi77//PmTIkLK/V0okEqWkpCxbtqxFixatWrVavnz5w4cP1ZcTAqI8BQAA0DEODg4zZ86Mioq6fv36F1984erqKnQiAAAAHSaRSPr06bNv376HDx+uWrWqefPm5Tr9xo0bs2fPdnR09PX1DQkJyc7OVlNOCILyFAAAQDdIJJIPP/zw8OHDDx8+XLlypYeHh9CJAAAA9Iqdnd2MGTOio6MvXrz48ccfW1lZlf1cmUx28uTJUaNG1apVa+TIkaGhoYWFheqLCo2hPAUAANB2Pj4+mzZtysrK2rlzZ//+/YWOAwAAoOfatWsXHBz86NGjkJAQb29vsVhc9nNfvny5Y8eO3r17161b97PPPlNfSGgG5SkAAICWatGixZIlS+7cuXPy5MkJEyZUr15d6EQAAABVSLVq1QIDA8PDw+/cuTN37lxHR8dynf748eOVK1eqKRs0hvIUAABA60yfPv3ChQs3btz48ssv69evL3QcAACAKq1evXqLFi1KSEg4fvz40KFDjY2NhU4EzTEUOgAAAAD+4dq1a0JHAAAAgCIDA4NevXr16tXr6dOnO3fu3LJlS3R0tNChoHZceQoAAAAAAACUla2t7aeffnrjxo3Lly9PmTLF2tpa6ERQI8pTAAAAAAAAoNzc3d3Xrl376NGjnTt39ujRo1zvlYKuoDwFAAAAAAAAKsjU1PTDDz8MCwu7d+/e/PnznZychE4EVaI8BQAAAAAAACrLxcVl4cKF9+/fP3HiREBAgImJidCJoAK8MAoAAAAAAABQDQMDg549e/bs2TMjI2PXrl1Cx0FlceUpAAAAAAAAoGJSqXTq1KlCp0BlUZ4CAAAAAAAAgBKUpwAAAAAAAACgBOUpAAAAAAAAAChBeQoAAAAAAAAASlCeAgAAAAAAAIASlKcAAAAAAAAAoATlKQAAAAAAAAAoQXkKAAAAAAAAAEpQngIAAAAAAACAEpSnAAAAAAAAAKAE5SkAAAAAAAAAKEF5CgAAAAAAAABKUJ4CAAAAAAAAgBKUpwAAAAAAAACgBOUpAAAAAAAAAChBeQoAAAAAAAAASlCeAgAAAAAAAIASlKcAAAAAAAAAoATlKQAAAAAAAAAoQXkKAAAAAAAAAEpQngIAAAAAAACAEpSnAAAAAAAAAKAE5SkAAAAAAAAAKEF5CgAAAAAAAABKUJ4CAAAAAAAAgBKUpwAAAAAAAACgBOUpAAAAAAAAAChBeQoAAAAAAAAASlCeAgAAAAAAAIASlKcAAAAAAAAAoATlKQAAAAAAAAAoQXkKAAAAAAAAAEpQngIAAAAAAACAEpSnAAAAAAAAAKAE5SkAAAAAAAAAKEF5CgAAAAAAAABKUJ4CAAAAAAAAgBKUpwAAAAAAAACgBOUpAAAAAAAAAChBeQoAAAAAAAAASlCe4v+xd+fhVVX3/oAPSYCEKSAig0VwKAICgmIVlaAiCCJlUBnKpGBtn2qrt1xtbe3PodVaS4v2XqfWPq0UBGSUosigTFpxRERkUFFrRaKAQBIICSG/P3IfSnNWwiHTOQnv+1dY5+y1vsn2uHc+WXstAAAAACBAeAoAAAAAECA8BQAAAAAIEJ4CAAAAAASkxLsAAAAS2nnt6se7BAJ+d//tv7v/9nhXQXFvvbbaRyYBOS+JKStrj/MCJD4zTwEAAAAAAoSnAAAAAAABwlMAAAAAgABrngIAUJon/vZCvEs4vvzuvtu3bHr3qG8bNvr7va8YXAX1UOTFxfOfmfr4Ud/Wrn2XiT9/sArqoYjzkrC+N6bfUd+TVq/+Q0/MqYJiOOx399++ZePRLzHAkYSnAACU5pzze8a7hONLw/T0WN7W+pTTnJqqFGPc0DA93XmpSs5LtZaSnOK8VLGGDWO6xABH8tg+AAAAAECA8BQAAAAAIEB4CgAAAAAQIDwFAAAAAAgQngIAAAAABAhPAQAAAAAChKcAAAAAAAHCUwAAAACAAOEpAAAAAECA8BQAAAAAIEB4CgAAAAAQIDwFAAAAAAgQngIAAAAABAhPAQAAAAAChKcAAAAAAAHCUwAAAACAAOEpAAAAAECA8BQAAAAAIEB4CgAAAAAQIDwFAAAAAAgQngIAAAAABAhPAQAAAAAChKcAAAAAAAHCUwAAAACAAOEpAAAAAECA8BQAAAAAIEB4CgAAAAAQIDwFAAAAAAgQngIAAAAABAhPAQAAAAAChKcAAAAAAAHCUwAAAACAAOEpAAAAAECA8BQAAAAAIEB4CgAAAAAQIDwFAAAAAAgQngIAAAAABAhPAQAAAAAChKcAAAAAAAHCUwAAAACAAOEpAAAAAECA8BQAAAAAIEB4CgAAAAAQIDwFAAAAAAgQngIAAAAABAhPAQAAAAAChKcAAAAAAAHCUwAAAACAAOEpAAAAAECA8BQAILF069btrrvuev/99+NdCAAAHO+EpwAACefee+8966yzMjIyHnnkkR07dsS7HAAAOE4JTwEAEtTq1atvvvnmZs2aXXPNNbNmzYp3OQAAcNwRngIAJLo5c+YMGzasadOmP/jBD1auXBnvcgAA4HghPAUAqB527dr12GOPXXLJJR06dLj77rs3btwY74oAAKCGE54CAFQzmzZtuueeezp27NirV69HH310586d8a4IAABqJuEpAEB1tWrVqptuuunEE0+89tprZ8+eHe9yAACgphGeAgBUe7Nnz7722mtPPPHEm266adWqVfEuBwAAagjhKQBADbFz585HH320V69eHTt2vOeeezZt2hTvigAAoHoTngIA1DQbN268++67O3TocMkllzz22GO7du2Kd0UAAFAtCU8BAGqslStX/uAHP2jatOmwYcPmzJkT73IAAKCaEZ4CANR8s2bNuuaaa5o1a3bzzTevXr063uUAAED1IDwFADhe7Nix45FHHsnIyDjrrLPuvffeffv2xbsiAABIaCnxLgAAiMmwYcNmzZoV7yqoId5///277ror3lUAAECiM/MUAKqBe+65R3IKAABQxYSnAFANrFixIt4lAAAAHHeEpwAAAAAAAdY8BYBq5u677+7Vq1e8q6ASffe73/3www8re5R+/fp98sknmzZtquyBAACg+hKeAkD1c8kll8S7BCpRgwYNKq/zc845Z/jw4cOHD2/Tps2ll14qPAUAgFIITwEAar5vfOMbRZnpeeedF+9aAACg2hCeAgDUWHXq1CnKTAcMGBDvWgAAoPoRngIA1EBXXHFFUWxar169eNcCAADVlfAUAKDm6NatW1Fm2rZt23jXAgAA1Z7wFACg2jv55JOLMtNvfetb8a4FAABqDuEpAEB1Vbt27aLM9Kqrrop3LQAAUAMJTwEAqp++ffsWxab169ePdy0AAFBjCU8BAKqNrl27FmWmp556arxrAQCAmk94CgCQ6Fq1alWUmZ5//vnxrgUAAI4jwlMAgASVkpJSlJkOHDgw3rUAAMDxSHgKAJBw+vTpUxSbNmjQIN61AADA8Ut4CgCQWObMmXPaaafFuwoAACCSFO8CAAD4D5JTAABIEMJTAAAAAIAA4SkAAAAAQIDwFAAAAAAgQHgKAAAAABAgPAUAAAAACBCeAgAAAAAECE8BAAAAAAKEpwAAAAAAAcJTAAAAAIAA4SkAAAAAQIDwFAAAAAAgQHgKAAAAABAgPAUAAAAACBCeAgAAAAAECE8BAAAAAAKEpwAAAAAAAcJTAAAAAIAA4SkAAAAAQIDwFAAAAAAgQHgKAAAAABAgPAUAAAAACBCeAgAAAAAECE8BAAAAAAKEpwAAAAAAAcJTAAAAAIAA4SkAAAAAQIDwFAAAAAAgQHgKAAAAABAgPAUAAAAACBCeAgAAAAAECE8BAAAAAAKEpwAAAAAAAcJTAAAAAIAA4SkAAAAAQIDwFAAAAAAgQHgKAAAAABAgPAUAAAAACBCeAgAAAAAECE8BAAAAAAKEpwAAAAAAAcJTAAAAAIAA4SkAAAAAQIDwFAAAAAAgQHgKAAAAABCQEu8CAABIaG+/tjreJRDm1CQm5yUxOS+JyXkBEp/wFACA0nxvTL94l0DA7+6/Pd4lEPDWa6u/95qPTMJxXhJTVtYelxgg8XlsHwAAAAAgQHgKAAAAABAgPAUAAAAACBCeAgAAAAAECE8BAAAAAAKEpwAAx6lGjRrFuwQAILG4PYBihKcAAMep888/P94lAACJpUePHvEuARKL8BQA4DjVsWPHeJcAACSWLl26xLsESCzCUwCA49TgwYP79+8f7yoAgETRokWLO+64I95VQGIRngIAHL+ef/75eJcAACSKhQsXNmnSJN5VQGIRngIAHNcKCwt/+9vfxrsKACCevv/972dlZZ177rnxLgQSTkq8CwAAIM7++7//e8yYMevWrXv33XdzcnLiXU55rVu3bt68eUVfN2zYcOLEifGtpzzy8vK2bdu2bdu2+vXrt2jRonnz5vGuqOy2b9/++OOPH/7nT37yk7S0tDjWUx55eXmZmZmZmZmFhYVF56VOnTrxLqqMCgsL77nnnsP/HDdu3KmnnhrHesopMzNz+/bt2dnZReelQYMG8a6o7B555JGvvvqq6Ov+/ftX6y3+vv766+3bt2dmZrZs2bJVq1YNGzaMd0VlN3v27Pfee6/o63PPPXfgwIHxradCdOnSpUuXLqeffnq8C4EEJTwFACDSvHnzvn379u3bN96FVICpU6ceDk8bNWp01113xbceiqxbt+7I8PT2228/4YQT4lgPRQ4dOnRkeHrdddddcsklcayHw2bNmnVkePrDH/4wvvVQZPPmzUeGpy4xcDzw2D4AAAAAQIDwFAAAAAAgQHgKAAAAABAgPAUAAAAACBCeAgAAAAAECE8BAAAAAAKEpwAAAAAAAcJTAAAAAIAA4SkAAAAAQIDwFAAAAAAgQHgKAAAAABAgPAUAAAAACBCeAgAAAAAECE8BAAAAAAKEpwAAAAAAAcJTAAAAAIAA4SkAAAAAQIDwFAAAAAAgQHgKAAAAABAgPAUAAAAACBCeAgAAAAAECE8BAAAAAAKEpwAAAAAAAcJTAAAAAIAA4SkAAAAAQIDwFAAAAAAgQHgKAAAAABAgPAUAAAAACBCeAgAAAAAECE8BAAAAAAKEpwAAAAAAAcJTAAAAAIAA4SkAAAAAQIDwFAAAAAAgQHgKAAAAABAgPAUAAAAACBCeAgAAAAAECE8BAAAAAAKEpwAAAAAAAcJTAAAAAIAA4SkAAAAAQIDwFAAAAAAgQHgKAAAAABAgPAUAAAAACBCeAgAAAAAECE8BAAAAAAKEpwAAAAAAAcJTAAAAAIAA4SkAAAAAQIDwFAAAAAAgQHgKAAAAABAgPAUAAAAACBCeAgAAAAAECE8BAAAAAAKEpwAAAAAAAcJTAAAAAIAA4SkAAAAAQIDwFAAAAAAgoFZhYWF8K/j000/vvPPOhQsXxreMCpGbm5ubm1v0dUpKSoMGDeJbTznt27fv4MGDSUlJqampKSkp8S6n7A4ePJidnX34n40bN45jMeWXm5ubn59fq1atlJSU1NTUeJdTLrt37z78dYMGDar7f2a5ubmHDh2qXbt2WlpavMspl5p0Xg4cOHDw4MGCgoIacF6ys7MPHjxY9HVqamp1//gXufLKK6dNmxbvKvi3W2655dlnn92zZ0+8CymvvLy8ffv2FX2dlJTUqFGj+NZTTjXmlqygoCArK+vwP9PT02vVqhXHesopNzf34MGDhYWFtWvXru7/T65Jl/6adEuWlZVVUFBQ9HVaWlrdunXjW0855eTkHDx4sOjzkpRUjWdx5eTk5OfnF31dp06devXqxbeeCuGWDEoX//D0jjvueOCBB+JbAwAQFxMmTHjyySfjXQWRSCTy8ssv9+zZM95VAABx4JYMShH/8PTSSy9dsWJFfGsAAOKicePGX3/9dbyrIBJxSwYAxzG3ZFCKajxbHgAAAACg8iTWcja9ena/5OLu8a6CSCQS+eSf256atuDwP++64/txLIbDnJeEdc+vHz/8tfOSOB5+dNruPf+3vp7zklCO/MiQgNySJQ6X/oTl0p+YnJfE5JYsYbklg1gkVngaiUT+30/9nzQhPPzYfywX7bwkCOclYR1529GrZ/deFwkdEsLDj/rIJKJ7H3CbXg34vCQIl/6E5dKfmJyXxOSWLDG5JYMYeWwfAAAAACBAeAoAAAAAECA8BQAAAAAIEJ4CAAAAAAQITwEAAAAAAoSnAAAAAAABwlMAAAAAgADhKQAAAABAgPAUAAAAACBAeAoAAAAAECA8BQAAAAAIEJ4CAAAAAAQITwEAAAAAAoSnAAAAAAABwlMAAAAAgADhKQAAAABAgPAUAAAAACBAeAoAAAAAECA8BQAAAAAIEJ4CAAAAAAQITwEAAAAAAoSnAAAAAAABwlMAAAAAgADhKQAAAABAgPAUAAAAACBAeAoAAAAAECA8BQAAAAAIEJ4CAAAAAAQITwEAAAAAAoSnAAAAAAABwlMAAAAAgADhKQAAAABAgPAUAAAAACBAeAoAAAAAECA8BQAAAAAIEJ4CAAAAAAQITwEAAAAAAoSnAAAAAAABwlMAAAAAgADhKQAAAABAgPAUAAAAACBAeAoAAAAAECA8BQAAAAAIEJ4CAAAAAAQITwEAAAAAAoSnAAAAAAABwlMAAAAAgADhKQAAAABAgPAUAAAAACBAeAoAAAAAECA8BQAAAAAIEJ4CAAAAAAQITwEAAAAAAoSnAAAAAAABwlMAAAAAgADhKQAAAABAgPAUAAAAACBAeAoAAAAAECA8BQAAAAAIEJ4CAAAAAAQITwEAAAAAAoSnAAAAAAABwlMAAAAAgADhKQAAAABAgPAUAAAAACBAeAoAAAAAECA8BQAAAAAIEJ4CAAAAAAQITwEAAAAAAoSnAAAAAAABwlMAAAAAgADhKQAAAABAgPAUAAAAACBAeAoAAAAAECA8BQAAAAAIEJ4CAAAAAAQITwEAAAAAAoSnAAAAAAABwlMAAAAAgADhKQAAAABAgPAUAAAAAJa2NesAACAASURBVCBAeAoAAAAAECA8BQAAAAAIEJ4CAAAAAAQITwEAAAAAAoSnAAAAAAABwlMAAAAAgADhKQAAAABAgPAUAAAAACBAeAoAAAAAECA8BQAAAAAIEJ4CAAAAAAQITwEAAAAAAoSnAAAAAAABwlMAAAAAgADhKQAAAABAgPAUAAAAACBAeAoAAAAAECA8BQAAAAAIEJ4CAAAAAAQITwEAAAAAAoSnAAAAAAABwlMAAAAAgADhKQAAAABAgPAUAAAAACBAeAoAAAAAECA8BQAAAAAIEJ4CAAAAAAQITwEAAAAAAoSnAAAAAAABwlMAAAAAgADhKQAAAABAgPAUAAAAACBAeAoAAAAAECA8BQAAAAAIEJ4CAAAAAAQITwEAAAAAAoSnAAAAAAABwlMAAAAAgADhKQAAAABAgPAUAAAAACBAeAoAAAAAECA8BQAAAAAIEJ4CAAAAAAQITwEAAAAAAoSnAAAAAAABwlMAAAAAgADhKQAAAABAgPAUAAAAACBAeAoAAAAAEJAS7wKKu+yqG+JdApFIJLJ7T9aR/3ReEoTzUi3c8+vH410CAStefnOFjwzEzCUmQbj0Vwsu/YnJeUlMbsmAaqdWYWFhfCu49NJLV6xYEd8aAIC4aNy48ddffx3vKohE3JIBwHHMLRmUwmP7AAAAAAAB8Q9PJ0yYEO8SAID4uOuuu+JdAv9n+fLl8S4BAIgPt2RQivg/th+JRB566KFnn3023lVQ3Jdffvnll182aNCgbdu28a6Ff9u/f/9nn3126NChli1bpqenx7sc/u2TTz7Jzs4+6aSTTjrppHjXwv/Jzc3dtm3b/v37W7Vq1aRJk3iXQ3FjxowZP358vKvg31588cXHHnts586d8S6E/+CWLDHt2bNn+/bttWrVat26dVpaWrzL4d/ckiWm7du3b9++vWnTpq1bt453LRTnlgxKlxDhKQAAAABAoon/Y/sAAAAAAAlIeAoAAAAAECA8BQAAAAAIEJ4CAAAAAAQITwEAAAAAAoSnAAAAAAABwlMAAAAAgADhKQAAAABAgPAUAAAAACBAeAoAAAAAECA8BQAAAAAIEJ4CAAAAAAQITwEAAAAAAoSnAAAAAAABwlMAAAAAgADhKQAAAABAgPAUAAAAACBAeAoAAAAAECA8BQAAAAAIEJ4CAAAAAAQITwEAAAAAAoSnAAAAAAABwlMAAAAAgADhKQAAAABAgPAUAAAAACBAeAoAAAAAECA8BQAAAAAIEJ4CAAAAAAQITwEAAAAAAoSnAAAAAAABwlMAAAAAgADhKQAAAABAgPAUAAAAACBAeAoAAAAAECA8BQAAAAAIEJ4CAAAAAAQITwEAAAAAAoSnAAAAAAABwlMAAAAAgADhKQAAAABAgPAUAAAAACBAeAoAAAAAECA8BQAAAAAIEJ4CAAAAAAQITwEAAAAAAoSnAAAAAAABwlMAAAAAgADhKQAAAABAgPAUAAAAACBAeAoAAAAAECA8BQAAAAAIEJ4CAAAAAAQITwEAAAAAAoSnAAAAAAABwlMAAAAAgADhKQAAAABAgPAUAAAAACBAeAoAAAAAECA8BQAAAAAIEJ4CAAAAAAQITwEAAAAAAoSnAAAAAAABwlMAAAAAgADhKQAAAABAgPAUAAAAACBAeAoAAAAAECA8BQAAAAAIEJ4CAAAAAAQITwEAAAAAAoSnAAAAAAABKfEuAAAAIP7y8vI2bNjwzjvvrFu37vPPP9+zZ8+ePXuysrLS0tIaN26cnp7erFmzzp07d+vW7eyzz27QoEG86wUAqoLwlJpj8+bNgwYNim6fPHly//79K3Cgffv2jRo1auPGjcFXa9WqNXny5H79+lXgiBzV448//tBDD0W3Dxw48Le//W3V1PDYY489/PDD0e0LFixo165d1dRQkltuuWXx4sXFGh955JHevXvHpR4ASBw7d+6cP3/+7NmzX3rppby8vFgOSUpK6t69+7Bhw4YNG9a6devKrhAAiKNahYWF8a4BKsa777579tlnR7fPnDlz2LBhFTXKvn37rrrqquXLlwdfTUpKevLJJ6+//vqKGo4Ybd269Ywzzoj+H1p6evr27dtTU1OroIZOnTpt2LChWGPXrl3Xrl1bBaOX7tprr509e3axxvnz5wf/3gAAx4k333zzvvvuW7hw4cGDB8vWQ61atXr27HnHHXf4wzkA1FTWPIVjUHpympKSMnXqVMlpXJx22mmXXXZZdPuePXv+/ve/V0EBb731VnRyGolEJkyYUAWjAwDH5PXXX+/fv/955503f/78MienkUiksLBw1apV/fv379Gjx9KlSyuwQgAgQQhPIValJ6e1a9eeOXPmyJEjq7gqDispppw2bVoVjP7UU09FN6alpY0aNaoKRgcAYpSbm3vbbbf16NHjhRdeqMBu16xZ07dv31tuuaU8USwAkICEpxCT0pPT1NTUefPmDR06tIqr4khDhgxp0qRJdPuiRYt27dpVqUPn5+c//fTT0e1Dhw4NlgQAxMXbb799zjnnTJo06dChQ5XR/x/+8Ie+ffvu2LGjMjoHAOJCeApHV3pyWq9evQULFgwYMKCKq6KY1NTU0aNHR7fn5eXNmjWrUodeuHDhzp07o9tvuOGGSh0XAIjd0qVLMzIyStrz80jJycktWrQ4++yz+/btO3LkyMsvv/y0005LSYlpr93ly5d37979nXfeKXe9AEBCEJ7CUezbt2/AgAElJacNGzZctGhRnz59qrgqgkpacHbq1KmVOm7wmf127dr16tWrUscFAGI0e/bsq666Kicnp5T3tGzZcsKECXPnzt29e/cXX3zxzjvvLF68+Omnn166dOlHH32Um5u7devWZcuWTZw4sVGjRqX08+mnn1500UUzZsyo6G8CAIgD4SmUpig5XbFiRfDVxo0bL1myJCMjo4qroiTdunU799xzo9tfeeWVTz75pJIG/eqrr55//vno9vHjx9eqVauSBgUAYrdw4cLhw4fn5eWV9IYzzzxz7ty5n3/++ZNPPjlkyJAGDRpEvyc5OfnUU0/t3bv3pEmT/vWvf02ePLlt27Yldbhv376RI0dOnjy5Yr4BACB+hKdQotKT06ZNmy5btuyCCy6o4qooXXDbqMLCwuCapBVi+vTp+fn5xRpr1649bty4ShoRAIjdBx98MHr06JIWOT3ppJMef/zx9957b8iQIbH/1bNhw4a33nrrhx9+OHPmzKZNm5b0tp/+9Kfr1q0rS9EAQMIQnkJYTk5OKcnpSSedtHz58uAkR+Jr5MiRaWlp0e3Tpk2rpBH/+te/RjcOGDCgRYsWlTQiABCj7OzsIUOG7NmzJ/hqt27d3n777e9973sxrmdaTHJy8rBhw9asWfPNb34z+Ia8vLxx48aVMuMVAEh8wlMIKD05bdWq1cqVKzt37lzFVRGLxo0bX3311dHt77///tq1ayt8uPXr1we7tVUUACSCn/3sZxs2bAi+NHDgwNWrV5988snlHOKMM8549dVXe/bsGXx13bp19957bzmHAADiSHgKxRUlpytXrgy+2qZNm1WrVrVv376KqyJ2wSf3I5WzbVRwq6jWrVv369evwscCAI7Jhg0bHnvsseBLo0aNmj9/fv369StkoKZNmy5dunTkyJHBVx944IHXX3+9QgYCAKqe8BT+Q+nJ6emnn75y5crTTz+9iqvimPTq1St4jmbMmFHSemdlU1BQEFwN4LrrrktOTq7AgQCAMrj11lsPHjwY3X7WWWf98Y9/TEqqyF+F6tatO2XKlLPPPjv6pYKCgnHjxu3fv78ChwMAqozwFP6t9OS0ffv2q1atatOmTRVXxbGqVatWcPLptm3bXnrppQocaPHixdu3by/WmJSUNH78+AocBQAog6VLly5btiy6vV69es8880y9evUqfMSUlJSSMtlNmzY98MADFT4iAFAFhKfwf0pPTjt37rxixYpWrVpVTTGFhYU7d+7cu3dv1QxX84wdOzY497Nit40KbhXVu3fvtm3blqfbAwcOZGZm7t27t7CwsDz9HJ+ysrJ27tzpRwfA//zP/wTbH3rooY4dO1bSoN/61rduuumm4EuPP/54Td05Kr4X30OHDn399ddxGRqA40RZtpWEmicnJ+fKK69ctWpV8NVzzjlnyZIlTZs2rbwCduzYsWjRoueff37Tpk2ZmZlfffVV0VNmqampzZs3b968+YUXXjhgwICMjIw6deocU8+ffvpp9A6zqamp7dq1K3/Z7777brGWpKSkTp06lb/ncjr55JP79++/cOHCYu1z58599NFH09LSyj/E7t27FyxYEN1+TFtFFRQUvP322ytWrFi9evVnn322a9eunTt35uTkFL2anJycnp7epEmTFi1aXHTRRb169br44osbNWpU/uJj9P7770c/7dipU6eyPeeYmZmZmZlZrLFly5bNmjUrY32RyP79+5cvX/7cc8+98cYbX375ZWZmZm5ubiQSSUlJadasWfPmzTt37jxgwIArrriicePGZR4FgGrnk08+ee6556LbTznllOuvv75Sh77vvvvmzZv3r3/9q1j7l19+OWvWrFGjRpVy7IEDBzZv3lysMS0t7Zvf/GbZivnoo48O31ccdsYZZ5Rn4m3VXHy3bNlS1O1hrVq1OvHEEw//c9euXQ899NCcOXM++uijAwcONGnSpEOHDu3btx8+fHjfvn0jkUhubu6WLVuie27Tpk16enqZCytSGXc1ACSuQqgp1q1bF/yPfObMmaUfmJ2dnZGRUdJn5IILLvj6668rr+y5c+f26NEjxjSqYcOG48aN+/jjj2Pv/8EHH4zup06dOkUTBMrj1Vdfje65V69e5ey2osybNy/4M5wxY0aF9B/cgKJZs2YHDhyI5fAXX3xx4MCBx5qEJicn9+3bd9WqVcda7TXXXBPd2/z580s/6shfUQ7bvXv3sY5e5M4774zu7YEHHihbb2vXrh0yZEiMOXhKSsrll1++evXqso0FQLVz++23B68IDz74YBWMXtKTLhdeeGHpB7733nvRR3Xt2rXMlVx88cXRHa5Zs6ZsvVXlxTd6d9bJkycffnX69OkNGzYsaehu3brNmDEjJyenSZMm0a9OnDixbCUd6Yorrojuefny5eXvGYAE5LF9jnelzznNyMhYsmRJJc1Ze/XVVy+++OKhQ4e++uqrMW5klJWV9dRTT7Vv3/62227bvXt3LIeMHj06+gH2vLy8Z5555pgr/k9TpkyJbhw3blw5u60oAwYMaN68eXR7RT25/9RTT0U3jhkz5qhTg5ctW9azZ8/evXv//e9/P9aVGQoKCpYsWZKRkXHJJZds3LjxmI6tMT777LNx48ade+658+bNi3HzjYMHDxb92IcOHRqchAJADTN79uzoxvr163/3u9+tgtEHDx4cTBj/8Y9/bNu2rQoKqHAJdfGdOXPm6NGjs7KySnrD2rVrR4wYMWvWrJEjR0a/On369HLuIPrFF19EL6fbtm3bXr16ladbABKW8JTjWunJaZ8+fRYtWlTKn7XLrLCw8LbbbrvwwgtfeeWVMhx+4MCBSZMmnXXWWWvXrj3qm1u2bNmvX7/o9qlTp5Zh6MPy8vJmzpxZrLF+/frXXnttebqtQLVr1x47dmx0+wsvvLBz585ydr558+Y1a9ZEtwc3qjosLy9vxIgRffr0efnll8tZwMqVKy+88MKK3f+qWpg1a9aZZ545ZcqUsv3aM2/evM6dO//tb3+r8MIASBxbtmzZunVrdPuoUaOqZhWXevXqFT05Hm3x4sVVUEDFSqiL7+LFi0eNGlVQUFD621JTUwcPHhxcoqH8O4hOmzYtuoCxY8fWqlWrPN0CkLCEpxy/srOz+/fvX1JyOmDAgAULFlTGTqy5ubnDhw+fNGlSOfvZtm1bRkbGCy+8cNR3Bm8c//GPf3z88cdlHn3hwoW7du0q1nj11Vc3aNCgzH1WuOA3np+fX0mzbi+88MJSNqDIzs4eMGBAdOJcZrt37+7Xr18ww62pJk2aNHz48BgnvJQkLy9v7Nix9913X0VVBUCief7554Ptl112WZXVMGTIkGB7LHduCSWhLr7Z2dk33njjUZPTSCQyePDg9PT07t27B9fiL+ccguj7wFq1aiXO01cAVDjhKcep7OzsK6+8cvXq1cFXhw4dOnfu3NTU1MoY9/LLL581a1Yp72ndunVGRsY111wzZMiQCy64oEWLFqX0NnDgwKPmcQMHDoze7aqw5AW5YhFMD6+77royd1gZOnTocNFFF0W3l/OO+dChQ8HZE6VsFZWfn9+7d+/oJ7yOVLt27VNOOeX8888fOHBgjx49WrRocdT5C/n5+d/73vei93SqkW655ZbbbrutsOSdfJs0aXLBBRcMGjRo2LBhGRkZp59+eim93XnnnT/84Q8roUwA4m/p0qXB9h49elRZDVdddVX0ukmRSKT0m4FEk2gX35///Of//Oc/Y3nn4Sgz+Kf0uXPnljkOfuedd9avX1+ssWfPnqeddlrZOgSgGojvkqtQgWLfMCorK6tnz54lfShGjhyZn59fSUWOHj26pHGbNm163333bdy4Mfqo119/feLEifXr1w8eWL9+/ffff7/0cX/0ox9FH9i+ffuyfRc7duyoXbt2sd7atGlz6NChsnVYef7yl78Ef2hbt24tc5/BX8kaNWqUnZ1d0iHBbbuKtG7d+oEHHvj888+jf3r79u3buHHjH//4x9atW5d0eCQSeeKJJ45ac3XfMOrJJ58s6duvXbv297///ZdffvngwYPFjtq6deuDDz7Ypk2bko6dMmVK2b4XABLZySefHP3//FatWlVxGZdeemnw6vP555+XdEhCbRgV34tv9IZRI0aMiHGH1ZYtWx4uLDMzMyUlJfo906dPP6af5GE//vGPo3v785//XLbeAKgWhKfUHDGGp6Unp9dff31BQUElVVhSkBeJRP7rv/5rz549pR/+6aefDhw4MHh4586d9+/fX8qxJa2O+sYbb5ThG/nf//3f6K5+8YtflKGrypaVlRVctfaXv/xlmfsMJuA33nhjSe/ftm1bsIbk5OQ///nPsST1+/fvnzRp0gknnBA8iZdeeulRe6jW4emGDRtKWkCjT58+R83Bs7Ozb7vttuD0nwYNGmzatKls3w4AiWnPnj3BS8bVV19dxZXccccdwUqWLVtW0iGJE57G/eIbHZ4Wk5SUNHbs2BkzZqxbt279+vVz5sy5++67i0Lbotmyhw0aNCj68AEDBhy1hmgHDx6M3o+0Xr16e/fuLUNvAFQXHtvn+FL60/q1atX60Y9+FOPftI/V5s2bb7rppuj21NTUp59++ve//32jRo1K7+GUU05ZsGDBrbfeGv3S+vXrb7/99lKO7dq1a9euXaPby/YAe/CZ/cRc6alBgwYjRoyIbi/zkgVZWVlz586Nbi9l995f/OIXwQ1hH3744fHjxwdnQxSTmpo6ceLEV199tW7dutGvrlq16quvvjpqJ9VUbm7usGHD9u3bF/3Sj3/840WLFp166qml91C/fv0HH3xwxowZ0T/q7OzsESNGlHPLXQASysaNG4PtnTt3ruJKolO2IiVVmDgS/+J79tlnv/vuu0899dTw4cO7dOnSqVOnoUOH3nXXXR999NEzzzxz4403Hvnm4JP7S5YsKcPt05IlSzIzM4s1Xn311ZWxwSwAiUN4ynGkaIeokpLTSCRSWFg4cuTInJycyhj9nnvuCd6D/vrXvx45cmTs/UyePDm4XNQTTzzxxRdflHJg8MZx5syZsSy6f6TNmze//vrrxRp79uxZ+ipXcTRhwoToxk2bNr311ltl6G327NnR57Fr167du3cPvj8vLy+4P9XNN98cDNNL0a5du+AcloKCgjfffPOYuqpGpkyZsmHDhuj2QYMG/e53vwtOaQm65pprZsyYEd3+zjvvzJ8/v1wlApBItmzZEmxv0qRJFVdSUnj64YcfVnElxyrBL77t27dfunTpWWedFf1ScnLytddee8YZZxzZeOWVV5500knF3pmfn1+GbTyrxaL/AFQ44SnHi6Lk9OWXXy79bZs2bbr55psrfPTPPvssuElURkZGcDXS0v3mN79p1apVsca8vLxHHnmklKO+853v1KlTp1jj9u3bS9pUoSTVaNppkfPPPz94e122Wbd//etfoxuD+WyRF198MXraaZ06de6+++4yjP7Tn/40+Lvftm3bytBb4issLJw8eXJ0e9OmTZ944olj7e3qq68O7n38+9//vizFAZCQdu/eHWxPnPC0pIUFEkSCX3xr1ao1Z86cZs2axX5I7dq1g2suHeut4N69e5999tlijW3atClpcVsAagzhKceFGJPTIn/961/LuRt7tD/84Q/RW6LXr1//L3/5SxlWCUhLSwtGb48//nhwcmuRE088Mbhk6jE9wF5YWBj9w6lXr96wYcNi76TqBcPNGTNmHOus248//jh65nJaWtqoUaNKOiT6JjsSiQwaNKhp06bHNHSRunXrtmvXLrq99EnH1dfzzz+/adOm6PZHH320pN9IS3f//fdHz5d55ZVXXnvttbLUB0DiCS6VE4lEGjduXMWVtGjRItheUoUJIsEvvoMHD+7YseOxHhWcHPraa68d0yzgWbNm7d+/v1jjmDFjatWqdaz1AFC9CE+p+bKysmJPTov84Ac/+OCDDyqqgAMHDvzpT3+Kbr/33ntPO+20svU5fvz4M888s1jjzp07S38GKvjk/rx582JfqWDFihX//Oc/izUOHTo0wVd6Gj16dHDW7YsvvnhM/RTtD1uscejQoaVMZklPT7/44otbtmx5ZGMpM1WPKrg8Qm5ubpk7TGTBrckGDhxY5rC+ffv2wV+f/vznP5etQwASzd69e4PtiTPzNMHD0wS/+B7rqkdFOnfuHFxh6ZjmEFS7p68AqCjCU2q+iRMnBpPTpKSkn/3sZ9GZWiQSycrKGjFixIEDByqkgLfeeiv4fFZw688YJScnX3311dHtq1atKuWofv36FUvxIpFITk5O7MtOVdOVnpo1a/btb387uv1YZ90Gv/1StoqKRCK/+c1vVq9evW3btpycnPXr1z/77LMPP/xwnz59Yh+3mGB4mpeXV+YOE1Z+fn7wv+fyfHAikcjw4cOjG0v/4ABQjZT0FE7V/6G3SZMmwTmJ0bMXE0eCX3yTk5MvuOCCstUQnEMQ+63gJ598Ev340cUXX1xsfVUAaiThKTVfMLhMTk7+29/+dt999/3qV78KHvX222+Xvn997ILRbbNmzcq5w9I555wT3fjKK6+UckhycvKYMWOi22NcpmDfvn1z5swp1njKKadUi5WebrjhhujGefPmlbLQQTEvv/zy1q1bizW2a9cuIyMjlsPr1avXqVOnb3/72z/60Y/KsFbDYcGJM/n5+WXuMGGtXbs2eHZ69OhRnm6DH5zNmzfv2LGjPN0CkCBSU1OD7ZW0I2gpcnJyoh9YiUQi6enpVVxJ7BL84tulS5f69euXrYaRI0fWrVu3WOMHH3wQ4+oBU6dOjT6bpp0CHCeEpxyPUlJSpk+f/p3vfCcSiUycOPGSSy4Jvu0Pf/jDggULyj9cMNAs5z1opITb0A0bNpS0T0KR4CzRpUuXZmZmHnXE+fPnRz9oNmbMmPJEgVWmT58+rVu3LtaYlZUV+ykObhU1fvz4Kl7oKvg0Yo0MT4MfnMaNG3fo0KE83TZt2vSUU06Jbv/HP/5Rnm4BSBAlzTD9+uuvq7iSnTt3BtuPabOjKpbgF9/y3D83adJk8ODB0e0xziGIfvwo8Rf9B6CiVIPIAypWnTp1Zs2ade211xb9MykpacqUKSXtIXD99dd/9tln5RwxeF9Y/vD01FNPjZ6EWFhY+MYbb5RyVIcOHaIfdyooKJgxY8ZRR6zWKz0lJSUFH9eKfdbtrFmzijXWrl27ar79HTt2PPfccz/5yU86deoU3CssOLGlugv+/nb++eeXP60O/uHBnlEANUPihKe7du0Ktp944olVXEnsEvzi27lz5/LUELwVnDlzZvS2rsWsWbMmejuEIUOGNGrUqDz1AFBdpMS7AKhSdevWnTNnzoABA45sbN269aOPPlo0EbWYXbt2jRo1avny5dGbhMYoKysr+ETSa6+9dtttt5Wtz8OiHz6KRCJHnUN6/fXXr1mzpljj1KlTb7nlllKO+uKLL5YtW1as8aKLLvrmN78ZQ6UJ4brrrvvlL39ZLGdcvHjxjh07jvprzLx586Jn3Q4YMKCkjXTLY+/evVu3bt28efOGDRvee++99evXH9NWsDXGxx9/HN24Y8eO8n9wPv/88+jGWCZfA5D4SnoovvRHcypDdZx5muAX3xNOOKE8NfTp0+fkk08uVslXX321ePHiYr8dFFNNF/0HoKIITzmOpKWlzZ8/v2/fvtEvjRw58rnnnguuGb969eq77777l7/8ZdkGLWmaQ+x7NFXUiIcNHz781ltvLbZZwZtvvrl58+YzzzyzpKOmTZtWUFBQrLG6TDstcuqpp/bu3btYBHzw4MGZM2cedefWp556Krqx9K2iYrF///533313y5YtH3744QcffPDRRx9t3brV4ptFgv8lv/XWW2+99VaVDQdAtVPSmvIlzQOtPNVx5mmCX3yDK7/HLikpaezYsb/+9a+LtU+dOrWU8DQvL2/mzJnFGlu3bn3ZZZeVpxgAqhGP7XO8qF+//nPPPRdMTos88sgjwcWYIpHI/fff/9JLL5Vt3Kq/Uz/qbWh6evqQIUOi20t/gD36T+5paWnBvVMT2YQJE6Ibj/rk/r/+9a8XX3yxWGPr1q2vuOKKspWRmZn5i1/8omvXro0aNbrgggvGjh177733Tp8+/fXXX5ecHlbFnx3hKUDNUNLqnOvXr6/iSoKzOCOJPfM0wS++5Zx5GilhuuiCBQuiHzA6bOHChdE/luqy6D8AFcL/8TkuZ/hFQwAAHo1JREFUNGzYcNGiRaVvCp+enj5lypTgbdChQ4dGjx791VdflWHoxFlg60jBJZ+efvrpkpbOfOedd6J/5aiOKz0NHjw4+rZ7zZo1H330USlHTZ069dChQ8Uar7vuujIs5rB58+Ybb7yxbdu2v/rVr9atW3fUNbaOWwUFBcGtsSpP1f+dA4DK0KxZs+DUzldffbWKK1m5cmWw/YwzzqjiSmKU+BffktZkiF27du0uuuiiYo379u2bO3duSYdU60X/AagQwlNqvvT09CVLlvTs2fOo7+zVq1dJKzp98cUX48aNK8O2PFW/wFZ2dvZR33PZZZdFT7PdunVrSXue1piVnlJTU0eNGhXdHlyx4bDoZ/aTkpLGjx9/TENv3rx50KBBHTp0+NOf/pSbm3tMxxapU6fOoEGDBg4cWIZjq529e/dW8S5YsXxwAKgWOnXqFN34+eef//Of/6yyGg4ePLh69ero9pNPPrl9+/ZVVsYxSfyLb/n3rYqUMIegpOeQdu7c+fzzzxdrvPDCC9u1a1f+SgCoLoSn1Hy///3vo/eXL8m9997brVu34EuLFi2aNGnSsY4e3NOpUqWkHH0t46SkpOAfzIM3jgUFBU8//XSxxm984xu9e/cuW4XxFQw9SwlPX3vttU2bNhVr7N27d9u2bWMfdNWqVT169FiwYMGx/k6SnJzcuXPnm2++ef78+V9++eX8+fN79OhxTD1UU4n5wQGgWrj88suD7VU5+fTNN98MJoMl1ZYIjpOL77Bhw+rVq1es8aWXXtq2bVv0m2fMmJGfn1+s0bRTgOON3xWp+Ro0aBD7m+vUqTN16tTu3bsX20+pyM9//vNevXp961vfir3D4NpM9evXX7VqVYX88TxajAtpXXfddb/61a+KZXmzZs16+OGH69Spc2TjkiVLovdCrb4rPXXt2rV79+5vvvnmkY1btmx54403zjvvvOj3B7eKuuGGG2If8aWXXrryyisPHDgQy5ubN2/eoUOHDh06dOzYsVu3bt26dYu+v6+m9u3bF/ub69WrV7du3egf2rRp00pazK6cUlNTK6NbAKpe//7977zzzuj2ZcuWVdly7StWrAi29+nTp2oKKOLiG61hw4bXXHNNsceqDh06NH369IkTJxZ7c81Y9B+AchKeQnEdO3Z88MEHf/jDH0a/lJ+fP2LEiLVr18a+4lIwPM3JyWnatGmbNm3KVWj5nHbaaRkZGcVW49q5c+cLL7zw7W9/+8jGmrfS04QJE4qFp5FIZOrUqdHh6YEDB2bMmFGssVmzZoMHD45xrF27do0dO7aU5LR58+ZXXHFFt27dunTp0qVLl6PuwJuTkxPj0JUkevnXGO3Zs+eY3n/CCSd88cUXxRrz8/NLmhsOAEW6devWokWL7dv/f3v3Hldjtj9wfCe6qKO2GZeUS0TjMu4iM3VmHOOFQ8MZt46EzBiG8OJomGHmkFeDORzXweRyXF8vEqaUIbcYuaTERKO5ICrJEamoUfv3xz6/Tmc/az/72Xsr7fq8/6q1n2c936bJWvu71/qu+zrte/bsWb58uZkntiu0b98+YbsJG3dMHnlVDL56TJw4UTq/3b17t07y9ObNm5cuXdK5bNiwYeaXXgUAWBaLXDgGVLZp06YNHDhQ+NKtW7cmT56svCt9p4JeuXLFlMheKmHJp8jIyIrfFhcXHz58WOcab29vT0/PSoysko0ZM8be3l6nce/evaWlpTqN0dHR0iO/xo0bp7M4V8b06dMzMzOFL73//vsJCQlZWVnbt2+fNWtWv379DGZOVXqOVqjKCmXS/0oKGVv/V/i3Ux3+cAAA1ZyVldXw4cOl7UVFReHh4VUQQFRUlHDAevPNN5s2bWpsbyaPvCoGXz3++Mc/uru76zReuXLlt99+q9iyf/9+6b2WWPQfAGAmkqeAgJWV1datW/Vlsvbt2/ftt98q7EqtVgsTbdVhGjpixAhpTYPDhw9XPAL+5MmT0opdFr3sVKVSOTs7jxgxQqcxJyfnxIkTOo3CVbfK9+zfu3dv79690nZra+s9e/ZoC5gaW/1AmsxVmbcmRYYwNmnlL4WMff/WpEkTaWN1+MMBAFR/06ZNE7avW7eu4jxHuaioqG3btik84GjRokXCduGplRW93JFXZfzK01oy+FpZWQlzoIcOHar4bVRUlM4Frq6u1blqLQCgkpA8BcRcXFxkMqSzZs1KTU1V0o+1tXWPHj2k7cnJyaYH95I4ODiMGjVKp/HRo0dnzpwp/1Y6a7Szs6sBlZ4mTZokbdRZX5Cfn3/06FGda/r27au87NfWrVuFac2VK1f6+/sr7ERHVa48Feb9jaqeVlFubq5R1/fu3VvamJKSUsUHAQMALFHHjh379esnbb979+6WLVtM6HDlypVBQUEuLi6TJk364YcfZK6Mjo4WTvMaNWo0ffp0+ae83JE3Ly/P2Exx7Rl8x48fLz1+oGLyNDs7OzExUecCyy36DwAwB//0A3oNHz5cmGJTqVTPnj0bPXq0wrmsj4+PtPGlfIafkpKSnZ1tznRWuHO/fOKo0Wiio6N1Xh02bJizs7PJT6wmfH19PTw8dBq/++67irnOqKiokpISnWuMOipKZ/2Clru7u77lMAZpNJqUlBRpeyWtPBWeuvv06VMTusrPz79+/bpRtwj/cPLz83/99VcTAqjo559/vn37tmkrjwAAlmLmzJnC9tmzZ6elpRnV1f3798+ePatSqQoKCrZu3erj4+Pp6bly5UrpmtCCgoL58+cLO5k3b56Dg4P8g17iyKtSqRISEoy9pfYMvi1btpSm18+dO1f+We/hw4elc2xL330FADANyVNAzqpVq9q0aSN86caNGzNmzFDSiXAampmZef78eXNiS0pK6tatW7Nmzezt7T09PQcMGDB58uSwsLA7d+4o7+Ttt98W5hDLHyGt11kzKj1ZWVkFBQXpND548KDiWhJpoasGDRpI1+rKuHXrlrTR39/f2tpaeScVJSUlPXjwQNpuTjU0GcK3cMYuINU6e/assUH27dtXuLgjIiLChADKPXv2zMfHx93d3c7OrmXLlr6+voGBgV988cW5c+fM6RYAUN34+fkNHTpU2l5UVDRmzJjnz58r7yoyMlLnc8r09PQ5c+b07Nmz4iLTsrIyf39/4YeFLi4uU6dONfgg4cj75MkT6ae5Spw+fdrYW2rV4CtdQ1BWVla+bqB8PlyuT58+b7zxRlVEBgCoZkieAnIcHR137dqlL9W1ZcsW6VHsUm+99VbdunWl7VOnTjUn5xUaGqr9ori4OD09PS4uLjw8/KuvvjJ2Wah04piRkaF9J1CzKz0FBgZKf7MHDhzQfvH06VPpnn1/f3+Da0bKPX36VFjls23btkZG+l+xsbHCdtPeUxkkPExWmBE26NSpUyY8XXi275IlSzIyMkyIQWvTpk05OTkqlaq0tDQjI+Ps2bM7d+4MDQ0tLi42uU8AQPUUHh4uLGF/7dq14OBg5Xt39KUOr1271rt3788//1w7iMyePVt6zKbW/PnzpYdVSjVo0EC6l1ylUt2+fVthqBUx+Mr7y1/+0qBBA51G7bahwsJCaSl8lp0CQK1F8hQwoE+fPgsWLND36scff2xwH5NarRYuV7x69eq6detMi+ratWvSzKZKpZowYYIw4SUjMDBQusRAO3GUPiIgIMDkVZPVjaur6+DBg3UaDx48qP0iJiZGuibFqD37hYWFwnaTN99lZWWtWrVK+FIlJU9btGghbTxy5Iix/eTm5m7bts2EAD7++GNpY1FRkb6dmAYVFxd//fXX0vZOnToJS+MBACxakyZNNm7cKHxp8+bNAQEBSgbQgoICmWpLL168CAsL6969+9y5c1evXi28pmPHjpMnT1YSsK2tbePGjaXtJgy+J06cSEpKMvYuVW0afO3t7ceMGaPTGBcXV1hYGBcXpzMPtLOzk14MAKglSJ4Chi1YsEBYPl+lUuXn5/v7+xucec+dO1fYvnDhwqysLGPj0Wg0n332mXS5hJWVVXBwsLG9ubm5vffeezqNhw4dunPnztWrV3Xaa8ae/XLSmrYZGRmXL19WidaYdOvWrWfPnso7b9SokXDjm/TwAYWCgoLy8vKEL1VS8rRVq1bSxujo6Lt37xrVz5w5c4TnXBkUGBgoPPb30KFD+pb2yFuzZo3wL87kN4QAgGrugw8+CAgIEL60Z8+egQMHGjyP3tHR8f79+xERESNGjNC3evTGjRv/+Mc/hC+9/vrr0dHRwv34QsLBd8OGDUbVuH/+/LmSKgFCtWrwlW7Aev78+dGjR6ULCN5///0aUPQfAGAakqeAYXXr1t21a5ejo6Pw1cTERH0nA5Tr2rWrcLf706dPP/nkE2Nr58+cOTMmJkbaPmjQoHbt2hnVlZZ04vjjjz/+85//1Gns3bt3Dav0NHjwYOnbg8jIyMLCQukSD2mNVHnW1tZNmzaVtp85c8aETWpff/21tIxAuYKCAmM7VOLtt9+WNpaWloaFhSnvZMeOHTt37jQtAFtbW32fB8yYMcPY6qsRERHz5s2Ttr/22mtjx441JT4AgCVYu3atm5ub8KVTp055eXkJp1UV2dvbjxgxIiIiIjs7+7PPPqtfv77CR9vY2Bw4cMDd3V15tMLB9+bNm/v27VPYQ2lp6YwZM37++WflD62oVg2+wjKmkZGR0jRxDVtAAAAwjgaoKaTLJLX27t37UvrfvHmzvr8jKysr7YmcMs6fPy+sfKpSqQYOHJifn68wjC+//FJfGEePHjXtR3v27Jn0s3Tp9vxvvvlGYYdXr151FBk4cKBpEVaekJAQnR+zXbt20vcn9vb2eXl5xnYeGBgo/E1NmTJFeSfPnj0zmLft1auXfCcjRoyQ3nXo0CH5u4qKivQtsQkLCzMYeWlpqb411+WWLl0q30leXp6+d7ytW7dOS0szGIbW0aNHbWxshP3Mnz9fYScAAAsVFxenbxqm9ac//SklJUVhb5mZmR999JGSQkZbtmwxNlR9pzzZ2dmdPHnS4O3//ve/pTuKdFy4cEG+k+ow+Ao/sP/ll18UPlq5pUuX6jxF+ptt1qzZixcvXvqjAQCWguQpao7KTp5qNJphw4bpm4a+/vrr9+7dk799+fLl+m5v27atwUxWenq6zEf0Q4cOLSsrM/lHM7i3y9bW9tGjRwp7q3jybEW+vr4mR1hJ0tLSpHF26dJFpyUgIMCEzsuPn5JavXp1aWmpwR6SkpKkwUh5eHjI92Na8lQj+//8rFmzcnJyhHeVlZXFxsb6+PgYjNxg8lSj0Zw7d07fO14nJ6cVK1YUFxfL3J6Xl7dw4UJ9q4Rat2794MEDgzEAACzdqVOnhIdHlatTp07fvn2/+uqr1NRUmX5u3bq1atWqfv36yWdjtQOlCXH+/vvv+uJ0dHRcv3798+fPhTcWFhaGh4cLd/3rMJg81VSDwbfKkqeZmZkG8+AhISEv/bkAAAtC8hQ1RxUkT3Nzc4UbsbXeeecd+Q+ly8rKhgwZIjMz69Onz6pVqyrOC8vKyu7cuXP8+PHx48fLTOx8fX2fPXtmzo926dIl+VnjqFGjlPdmQclTjUYj3B+n4/Tp0yb0/OLFi44dO+rrs0uXLrGxscIb8/PzN23apK/EqvQcXnt7e/lITE6eJicnC4/91apfv35wcPCuXbsSEhIyMjISExP37t27aNEiDw8P6cX9+/eX/kRKkqcajUZ40ES5Vq1aLVy48OLFixXz0Q8ePEhISPjiiy9kjlBr2rRpZbwNAwBUT7dv3xYeJS/VvHlzX1/fkSNHTp8+fdGiRXPmzBk7dmy/fv3atm2r5HYtd3d3fQO9PGnppIpcXV0XL168f//+K1eu3Llz5+zZs9u3b585c6ZarZZeLNwyryR5qnnVg2+VJU81Go30BFEdN27cqIznAgAsBclT1BxVkDzVaDSxsbEyU6u///3v8rc/evSoV69e8vMzlUpla2vbvHlzT09POzs7gxd369btyZMn5v9oMmk+lUpl1OzfspKnBg+Cb9euncmdHzt2TL5zJyenrl27Dh8+fMaMGQEBAb6+vu7u7vXq1RNe7ODgsH37dmH93PT0dJkwTE6eajSacePGyf8ISnTo0OHx48fe3t467QqTpxqN5sMPPzT4FG2d2fbt28u8Zyvn7Ox89epVhU8HANQMRUVF/v7+Jg5mJhk5cmRmZqZRQZaUlLRp08b8R48dO1bnyHgthclTzSsdfKsyeSo9JrQiLy+vyngoAMCCcGAUYJxBgwZNnz5d36uhoaHx8fEyt6vV6vj4eGEmq6Li4uK7d+/evHlTOOWtqF27dt9//32DBg3kL1NCemxUORcXlwEDBpj/iOpp5MiRf/jDH2QuMPaoqIree++9xYsXy1zw5MmTlJSUgwcPrlmzZteuXWfOnLl169bvv/8uvbJLly5JSUmBgYHC38WJEydMDlLe6tWre/ToYU4PTZo0iYmJUfKeSkZ4ePiyZctklsGqVKrS0tL79++npaUZPDq5fv36MTExnTt3NickAIDFsbe337Nnz/Lly5VULH0pIiIi2rdvv27durKyMoW31KtXb//+/Q0bNjTnuT4+Plu3bpUfNw2qJYOvn5/fa6+9pu/V8ePHV2UwAIBqiOQpYLTly5e3b99e+FJpaenYsWMfPnwoc7u9vf2+ffs+//xz82ftvXv3jouLa9y4sZn9aAUEBOgrbhUQEFBl7zGqnoODg8wilHr16pl5vurChQtnz55tTg/W1tbTp0+/cOGCp6enSqUSJk+///57cx4hQ61Wx8XF6ashYJC3t/f58+eVlGAzKCQkJDIy0vyPClxdXaOjo/v27Wt+SAAASzR37tz4+HgltbmVc3d3nzJlinDvSH5+fnBwcKdOnbZt21ZSUqKkt65du544cUImoycvKCjoyJEj+g5rMkptGHxtbGz++te/Cl+ytbWt4qXKAIBqiOQpYDR7e/vdu3fr21idmZk5ceJEjUYj04OVldWSJUtSU1NHjhxp2ooAZ2fnb775JiEhoUWLFibcLtSkSRN9JZ/MzB5Wf5MmTdL30pAhQ5o0aWJm/ytWrIiMjBQWI5NnbW0dEBBw48aNtWvXltdw6Ny5s7T27uHDh2/fvm1mnPqo1eqzZ8+GhYU5Ojoqv8va2nrhwoVnzpxxd3d/WZEMHz781q1bISEh+s6gMBjSzJkz09LS+vXr97JCAgBYorfeeuvMmTPHjx9XUvpcXocOHXbs2JGenr5hw4bLly/rO+kxLS0tKCiodevWK1euLCgoMNht165dU1NTJ06cWKeOEW/Z1Gp1RETEli1bHBwclN8lrzYMvvo2YPn5+ZkwfwMA1DSvum4A8NJUTc3TckuXLpX5y1q5cqXCfpKTkydMmNCsWTOFf7O9evX69ttv8/PzK+OHOnjwoPCJxvZjWTVPtTp16iSMOSYm5mU9Ijc3d8mSJa6urkp+0c2bN588efJPP/0k7EpYh3TmzJn6Hm1OzdOKsrOzZ8yYYfB/14YNG06bNi0lJUXndnNqnkojCQkJkS/UW1HLli0XLVqUkZFh2uMAADVYenp6aGiovpmAPh4eHp9++umlS5d0eispKVmwYIH8lp1hw4YpDy8pKWnUqFEGP79s06ZNaGhoVlZWxXuLi4ulVyqveaqjKgffqqx5qiXMer/EeSAAwHJZaWTXxwGoMqmpqceOHfvxxx9zc3Nzc3MfPnxYWFjYoEEDZ2fnhg0bvvnmm15eXl5eXi1btqy8GOLj49955x2dxvXr13/yyScm9xkTEzNkyBDt14MHD46JiTE9vhrhxYsXiYmJ58+fv3jx4r179/Ly8h4/fly3bt3G/6979+4DBgwQvmeoJjQazcWLF6Oion755ZesrKzs7OySkhI3Nzc3N7fmzZt7e3v7+fnZ2tpWTTCZmZlxcXEXLlzIycl5+PBhbm5uXl6eg4ODs7OzWq328PDQ/uF07NjRqJU7AIBa6N69e8nJycnJySkpKdnZ2U+ePHn8+HFBQYGjo6OTk5OTk5OLi0uXLl26dOnStWtX+TOdEhMTx48fn5aWJnz1u+++8/PzMyq24uLiuLi4o0ePZmRkZGdnZ2dn29jYNG/e3M3NrUWLFoMGDXq5VQjk1cjB99133z19+nTFFhcXl7t379bg0lUAAIVIngL4rw8//HDLli0VW2xtbbOzs83Zr7Rp06YpU6Zov540adLmzZvNChEAAMASPH/+fPHixWvXrtXZpN+qVatff/3VgrKKtUFGRkarVq103hqHhIQsW7bsVYUEAKg+GLMB/EdRUVFERIRO47Bhw8ys9HT37t3yr5VXJwAAALBodnZ2YWFhGRkZoaGhjRo1Km+fOnUqmdPqZufOndJFRfoKoQIAahuGbQD/ceDAgfz8fJ1G82eNiYmJ5V+7uLiY2RsAAIAFUavVCxYsuHPnzvr1693d3e3s7GSOqcSr8q9//UunxdvbuzrXUAIAVCW27QP4j/79+584caJii/nbynJyclxdXUtLS7XfXr9+vUOHDmZFCQAAYJlKS0uTkpK8vLxedSD4Hz/88IO0YuzWrVtZeQoA0GLlKQCVSqW6efPmyZMndRo/+ugjM7eVrVu3rjxz2rNnTzKnAACg1rK2tiZzWg1t2LBBp8XJyWn06NGvJBgAQDVE8hSASqVSLVu2TGcduo2NTVBQkDl9xsbGhoWFlX87YcIEc3oDAAAAXq7ffvtt7969Oo3jx4+vX7/+K4kHAFANkTwFoNq0adP27dt1GkePHt20aVPTOnzx4sXy5ctHjhxZVlambenWrRtbnwAAAFB95ObmfvDBB+XbpLTq1KkTHBz8qkICAFRDdV91AABesRUrVvztb3+Tts+ePdvkPjdu3Pjpp5+Wf+vi4hIVFcUH+AAAAKgmMjMz+/fv/9NPP+m0+/n5eXh4vJKQAADVEwdGAbXFl19+aWNj4+np+cYbb6jV6pycnNTU1N27dx87dkx68dChQ6Oiokx+VklJSffu3a9fv65Sqdq0abNv377u3bubHjoAAABgksuXL+/evVs7B/bw8CgsLMzKyjpy5MiOHTtycnKE1/fo0aPq4wQAVFskT4Ha4s9//nNsbKySK+3s7FJSUjw9Pc153KVLl9599925c+fOmzfPzs7OnK4AAAAA0yQmJio/p2vChAnbtm2r1HgAABaHbftAbdGiRQuFV4aGhpqZOVWpVF5eXvfu3VOr1Wb2AwAAAJhM+RzY1dV11apVlRoMAMAScWAUUFsonDh6e3ubU+20IjKnAAAAeLUaN25sa2ur5Mrw8HAnJ6fKjgcAYHFIngK1RcuWLQ1e07lz58jIyDp1+JcBAAAANYGVlZXBNQRWVlZr1qwZNGhQ1YQEALAspEiA2sLgrNHHxyc+Pt7FxaVq4gEAAACqgPw0uF69env27AkODq6yeAAAloXkKVBbtGrVysbGRvhS27ZtN27cGBcX5+zsXMVRAQAAAJVKXzX/evXqjRs3Ljk5ecyYMVUcEgDAglhpNJpXHQOAKlJUVBQfH5+QkJCZmfn48WM3Nzd3d/eOHTv279+frfoAAACoqdLT048fP37z5s2srCw7O7vWrVu7u7v379/fzc3tVYcGAKjuSJ4CAAAAAAAAgABrzQAAAAAAAABAgOQpAAAAAAAAAAiQPAUAAAAAAAAAAZKnAAAAAAAAACBA8hQAAAAAAAAABEieAgAAAAAAAIAAyVMAAAAAAAAAECB5CgAAAAAAAAACJE8BAAAAAAAAQIDkKQAAAAAAAAAIkDwFAAAAAAAAAAGSpwAAAAAAAAAgQPIUAAAAAAAAAARIngIAAAAAAACAAMlTAAAAAAAAABAgeQoAAAAAAAAAAiRPAQAAAAAAAECA5CkAAAAAAAAACJA8BQAAAAAAAAABkqcAAAAAAAAAIEDyFAAAAAAAAAAESJ4CAAAAAAAAgADJUwAAAAAAAAAQIHkKAAAAAAAAAAIkTwEAAAAAAABAgOQpAAAAAAAAAAiQPAUAAAAAAAAAAZKnAAAAAAAAACBA8hQAAAAAAAAABEieAgAAAAAAAIAAyVMAAAAAAAAAECB5CgAAAAAAAAACJE8BAAAAAAAAQIDkKQAAAAAAAAAIkDwFAAAAAAAAAAGSpwAAAAAAAAAgQPIUAAAAAAAAAARIngIAAAAAAACAAMlTAAAAAAAAABAgeQoAAAAAAAAAAiRPAQAAAAAAAECA5CkAAAAAAAAACJA8BQAAAAAAAAABkqcAAAAAAAAAIEDyFAAAAAAAAAAESJ4CAAAAAAAAgADJUwAAAAAAAAAQIHkKAAAAAAAAAAIkTwEAAAAAAABAgOQpAAAAAAAAAAiQPAUAAAAAAAAAAZKnAAAAAAAAACBA8hQAAAAAAAAABEieAgAAAAAAAIAAyVMAAAAAAAAAECB5CgAAAAAAAAACJE8BAAAAAAAAQIDkKQAAAAAAAAAI/B+F96bGTftZ9AAAAABJRU5ErkJggg==)"
      ]
    },
    {
      "cell_type": "code",
      "execution_count": null,
      "metadata": {
        "id": "J7mB1CFub2D6"
      },
      "outputs": [],
      "source": [
        "encoder = tf.keras.models.Sequential([\n",
        "  tf.keras.layers.Embedding(max_vocab_size, units, mask_zero=True),\n",
        "  tf.keras.layers.Bidirectional(\n",
        "      merge_mode='sum',\n",
        "      layer=tf.keras.layers.LSTM(units, return_sequences=True))\n",
        "])"
      ]
    },
    {
      "cell_type": "code",
      "execution_count": null,
      "metadata": {
        "id": "j3gU6GuAb1aX"
      },
      "outputs": [],
      "source": []
    },
    {
      "cell_type": "markdown",
      "metadata": {
        "id": "LQyXW7NM8soD"
      },
      "source": [
        "## One-to-many\n",
        "\n",
        "Hiervoor gaan we werken aan een toepassing om beelden te beschrijven.\n",
        "Hiervoor gaan we [deze dataset](https://www.kaggle.com/datasets/aladdinpersson/flickr8kimagescaptions) gebruiken.\n",
        "\n",
        "Een tutorial voor dit type probleem vind je [hier](https://www.tensorflow.org/tutorials/text/image_captioning).\n",
        "\n",
        "In dit image captioning netwerk gaan we gebruik maken van het inception model voor het feature extraction gedeelte op de image.\n",
        "Hierbij gaan we ook gebruik maken van een Attention Layer om\n",
        "\n",
        "\n",
        "![one-to-many.png](data:image/png;base64,iVBORw0KGgoAAAANSUhEUgAAAMIAAAFUCAIAAAD5y3SMAAAAAXNSR0IArs4c6QAAAARnQU1BAACxjwv8YQUAAAAJcEhZcwAADsMAAA7DAcdvqGQAAFqaSURBVHhe7X0HgBzFlXZ3dfeElVYBBZAAIQGSEBIIkaMIxhh8B7bBOJ8jztkGfpzO+Wxjc+dsg7EB2+eESTY2GPtIJpggCZBAEYRyWGmlTZM6/d/3qmd2Ns/uzmyQ+lNptrq6wquqr96r6upghmFoxIgxOKjob4wYg0BMoxhVQEyjGFVATKMYVUBMoxhVQEyjGFVATKMYVUBMoxhVQEyjGFVATKMYVUBMoxhVQEyjGFVATKMYVUBMoxhVQEyjGFVATKMYVUBMoxhVQEyjGFVATKMYVUBt78XWWetf0wjhogPA5E9oKASYEhjwT2iFAQ8QZiqfsU0rNCkl/ps4Z+nTVmhYzM2X7BVjMQfWRxk+MzJtjxFDO/RVWECc0HQCE4lCFQQQxTdMZeYVIoZ1jA8fpJHMcZbSUhKcARBMOYsyGx6jBE7oGr5tGHaokGkhMPKhkTCMlG0goScpbTNUqJYW3kCZzAgyoLAoq0CFHs4io9CyA4Sjiq6UaBsmyqE08mMFJiqJcktgNX3TQu0onJ9Erp6FsimbjbqgQeGs0FOhY1hlCasPdlDkrQ3Kcpcm6Hysa0dvSGHQfmwSCTIDEkyBIDyB9kVvoc8kqkQDG9jqxUwIRAFDcA40Yi5CI1M6NTRII+RoBpKbFUjVQSab/GYEcFd8UT6SSI4MMFl8hB4LDECXKdATQaFCEfiH3lKSEEMA4ZCNUclKxDED1EiOkb8p0TzIiXLhEcIhPmkuIYwJSE3RS2Q4+MEDDCIUU+w4k2wT5oRGYDEjRHfQRBRAj0skri2Nam7UyqSXpkHrdfAAbANpR6gNNhLCdQvpGFQ/2ietS83ASJEeglKB1tEH8sNTYBJzi6qHH+gMBxoLJ9n4EtUQFUVdQj8cyhH+6dLwn9AFF5MIKIMwzjOUCx5DBOVJPHQVnE4CGeEYD2oB6aXCYAljw7GLTUhdMAMf56GimBAEV6wvAlAv4ZxkJdnCRzmQoehJ39QtiExwUjEW/rKJEI4DOcYPfcXa1Aw110bSA1HX6AM2BX6jmumzGE8YvtLZbHs9Ii3UH+dII3YDu0V7JCFOUU9pnwaUk+hx14DDKFdJdlCxbMbiyCyYKAXmw2IPROYwKpGjtigdQov5RtDZSDCNLIjPI0gFFUDViLSwHpGmZGfjv1hqV1gCBSEnpLOhS0LSCLV2oIckMkLECqHGVEuKGpDdg0xIB3KXGUCBIQYaipngkJaatfCokNhMaDCIgDRMihjCwtpiSGmkfRpRn7B0Nh9aFA2gxw2akoOcYcIqkw3nSTfYbGDmwSZFY0kO7AI9UVAOeyAM0J9SADmko7MsFoYDmBMHiWBgMKdAjCRPhqHlS/Nz3DNFBHqLxAX0KYqDrCASUqAvtUjFOulSWIwYZfg55aEdosDIDCEo34UIHuZSocWKMT57HfpJiIV2gB/R4MV0kJzAnE8yB9GFUQihVuL0CH4b4hAIR1Zi0EMEStZo1xqj5gWwGUuuPIAjTQeg5mgpC6YowOgxPbYfA6XFOT6hP3x0FTuYKkmGWdEGMRUC2AHQDmg9jHHLNe3ABOXQCZh2u9LrnB4h06amXb/53W+/9f0bLMtIoIsQxhHMIjmoKRqyEhFEDPyhr0M4uwqASDiAcYF1o2A46UMAmCM/MCkbQEIwd2gU2l6pEIJBDByiNLAW9UKqnC4Hhg9CkXLMThfFIzic1s2C/6AU5tMIoO7TQLCJuTkCpX0kSM7qpLVF7WlESKUEbAaqApIoAtSCHzg+JsAYkFk/yGC6YLFXHExvgtDyzJQPY+GHCZ9qBsusIIAtgPOC0M+HZgF9YjpYx1hBwQkKiINVk4uYaGTEZGQA+dieV3j43lvf+fYPP7ZiO4RBTMtHNB/dC40Xhn5AsAxoNQ+BAZzIzT7EfzlgvydMN2H6XAOKBUUmgZQlZUqHw7ZYgaeCPBguGftRpXFI5Zr0whRm+Q5UkpEBjWCLybUwEZCDmG2B5GJ8fUzAPD8084GTD2xmjjz9DIrxQyvPamKoYJTQxElzUj+DSlhNYIZIJUe9rqtRK9SeRhw82gmB2IZSMaxDMUlUCr2PRSvsD3U8lQ9kkmrLTAnLF+gV07QtaA8m8EzlITM0K0wcjGAaK2wD7Q0vfpLM0gzSWOKyLBAT6+RkwUi4sFa0MWBTPgxsx66nbKIm9FjligvSKFspiytrsELIg0JlbEskDRxBcYG3yrYNr84oJDGhwbrbtgOs2SVTCzJDWtQO0qqCSJ7kBBz0ouW2HcNO4BgBSoHxGAZoE/S7YxpYN8o/gbKUQsQCK641FUNtw6Q1hG1D02COB4fyDCMdhAkUwLamKkJMEZgS1xbWl770pchbO0S1QL04MEkVtJ7lZDKta9eu27Bx045tDQgeM3E8FAZMghOqfKblpXWrmpraDpg8ceeuHS+tXrtt6/aWTLZ+/ATbssEJcAvdgS4OA7dh25Y1a17csr1hb0trckx9ykmwrIDtDjJCXcmaHmO8bfPLL/zzocf+8fAz0w+dfuLC2YXQHFNfZwU++rutpWHN2rWbNm7fuWM3ZjXj6sehF5CFNgwoK2ISZylha/PuNatW+541tn7slvXrXlq3ZvvuFj+RHjMmCUuHrNauXrl58+bmTCE1fgqoAAVjodeR3PJaWneuWbPh5fUvN2zf0bRnr5GoS9TVu6ZylF3Ita1ft2r3rubJUyc1Nm55cdXqLVt3tGWy48aMUXY68IJ86+7VK5/f2ZRJTT4QRLNMmDas8QutzXtWrFrX0JI5YMokjk8DKwwIzDmRjGL6KXztQDVbS0DFwmTQdAT4KYRBNgxzhXzm4Qf//tpL/i2dhjYxoGqOXnDCNd++ec3ePLS0F/rrlz92zoIZCxcs+P2tfzj1hGNFUvPAaTM/9dlvrtmxG3Hy1N25poZ13/3G5xfNny0RjNTYSZe948P/9+SzukQ/8Auej5h5HwYqu3vH8ve99nREgwLE79hxEz/zrRuQVSG39x9333LhK860E1z+2LZ94gknfO9HP9mbyRaQjHatJDwCwsDL3H/39ZPqncvf/cFr//vGWQdNRy9ZTmrxq9/69yeXL3vuyQvOPwUhEHjKtDnXfPMX23MB9E3oepmmXbf/7sfnnXdqpC8MY3yq7qLL3n7bo8vQKFCSm9YuvfCkeXNmzr/1tj+dcdoiHeeAKVOv/sRVGzduQ52eX3Lv8UccMnn6nHtXNiBJ4OdCP+Pmd95+y/dR3Bvfc3UO1YFJD1v9oABDyjYA+2if0Vw1RG1ppDmESpBG/EGvZd1C6z/+8scZ0yanUqn3XHHFbbf/6Uff/87Jx84y7brXX/GlrW3U8S8/f//5Jx6J/p4ybebiCy7+xU9/8c2rP3n45DGpsQd8/Js/38O8c007n//8h96Mhj7q+DN/csNNd9/2h09/6L2OUofPO+Yf/1qGGAU0oed7PoGi3dzuVUsf+Non3+OYY8559dsfeeKpVVt25vNtd/3qO9PH2amx49776c/9+Y67v/+Nb8w54vBEKv2xqz7fUvAhjatpBC+PoP4yT933s8PrneTYSRMOWfjOj119y0+++5YLzoIOnHHkUUcsOOH408674Xs/+PJV75s8sX78pCOvv/2fSOVlGv/y6++llTFu0sFf+NZ1f/nTXX/82Q8ue+VJ6P5jz778uZ0tiLPlxScuOesYcHLKQTNPPeecG358/dc/95nZ0ycnUmM/cM0394Zhy+4t//n+NzqJsVf9z01sVUgVFhobVnz4za8aO3HabfctA83bOKPLor4cRoyBiGAXJa8daq+N0AXi5D9o1LZt08pLzj0jVTf2uh/eEEUK/U1rnrxo8anJsQd+48a7cbzhhfsWnzjLStS9/5qvZSRG4LY8eNuNtlV35OJLVzS2hG7L/b/676mWffr5l6/YvEuihPlM0+9+9v2UbZ15ydsahb4oFG0JKnGC63tevvmvv/62Y056/QeulRTB+pVPvuKYw8ZOnHz9H/6MPpGw4IVnnz5hwZHjDpjyizseQAC1EYgIDgWSpZtd+rdfzEircVMP/cHv/yb9421e+Y/FR0yAQT7n8vfvYiyYtl3f/+ZV0G6XvfuLONy9Y+X73/rKSVOm/e9t9/E0x1V+24anLjr7rLqJR/74DlJty4uPXnTO0YaVevuHPpPBebSLm33s7t9NTqdnnHjho1v3hH7u0btuOHBM6syL3rG1hTHAmHVP3zX7gPQpr3jLut1tKBmDh3JCCQWe6E9SjWO4lqixyeSEGqt4H2sPTFox7zGM/Jb1qx594LGjjj/nkre/CzGgdmFnps+c9+kPXB627b3/oSVNuRATIIykcQfNvPgNb4DZAxlMO3H4vKMWTE64e7ZnC16mNXPf3x/wEnVvfMOb5x88SReWSI8756KLLjjtxBeeXr5s9U6aLk5IMfORS0gKE2c/n8PQxJSWZiXwmtY+v+Sx5RtOPO3Vb7js3zHRysEAmObs2Udc84G3NDfuveeBJ5qhHBAX8UN9wQYIXd/NqcSsRae/6tzTsRLAbK9u3Lijjz4qNbb+stdfOl4uRzpO+shDps1yvLa9zajh2PGTrvj4x3/7659feuF5zINI2IkJk8YmAr81l8nimIstzx0/+dDXvPltaTRckFd2MGPOnDnTD8ru3ZFra8UaYtaihQsXHr5i6ZKlS1YgCQIff+DhnS3m6a++4NAD6lQQOJ7HOXcAUUVLUGZe35ISa4Vaz7y4MsMcFyt1uW5s+l7r1m3rmgw1Z8GJqXp2AVZmWFQrOzHjyBn1deFL69btbW3BVAP1r5swbuaMgxEHKzfAcpyJY1NGgVdo8vnGjZt3NGZbvv6lL8w+5oQj586dPWfO3Dlzzzvr/P979GnYndUrnpeEWP/IVRmsygmb18ptEgIHnrdz27a1WSN1xPFncBbNS0c+d0mTzszZhzlmsHr1+nwelODikuA1H9mEQGQLc7VDJk0cy3BU0TbSY5K24xw07WAOCxIvtFiUUj63ZRKJcSeetHjx2Sc98+zj37n2uvde8YHFi886/bRz7rvvwTGOgrpjNr6Nge2MGXfIrMOkOKSz7WRictpKui5UKsIOOODg11/y6padax9+5DGkaW3eddc9jySnHHzuOaexUKkml/uQUIuJhU3ZKrNGYGvWEGSRXIGDRjLyCIBJKORbfEOl6+sxRqiJGItnrGTKcZSBBTnGDxe2WA17ugNlTgpHVlqGhaUzLEK+kDetxMyjjjx69qyj585dcPS8BfPmzDvmmFdd8tp/e90lhx86BQl5EVCPyqimkMVSAUoWJYJ5r5s1LDs9fiIFCUEx7o2jLCuVxGocqlJkEyCcByIxLzewcuxoFiFK14KU+KESJFBkgOJwsoAomKQ88fD/nXfOK047/ayvX/fdJ558ui6ZPO3Uk+bOPgRmyELF2RkoExSQZMg/uvrsm2HWYhvwGmsyPWnxmWcfUe/99c9/2tZS2Lhy5ePPbZl73FmLj5/DCxwKI1Z50nCsRamDWakaIiqlRmALS8OjH3k1CGtRyxlXf4BhuNu3beCVPdaW5IAkmTavqS2cOKE+lUiAXxYaEyeVNhpgAq/VQFw7LCBHpcYnMcDHjf/o1Vfedfsf//SnP91x51233fXnP97159vu+OMvr//OmScvAG0Rn7ugoROY3CcxDMwWPGQni29kUj92/DTDz27d/BLO+ewmAPGtbFs+5/mTJ05I2CIAr8Lgj1QoRPkiMwYB8qGUOCNzP0O5nt6mZT7Ks0HK0CaZt21Yd80nrl7y7EufuPJrd/359rv/esc999793R/8dOGxx+Q9rCaZAlMfuXYJOop88PLH9XnJG+znpSE0yEGzj7jkojM3vbjmqUeeX/qvfzVkjFdf/rbxOBXAXvuIyq1pHMk1N1jqKKNaQsStKThO+ddm1UCjiYcectQhBzjPPP7wy2t3oMGk2cy2TPa+fz6RdYN5xxw1aWzaKGRtXqt2CiIhKIiBjt63Atj8vG8EqfT4+ccend2z92/3/VNrOTFb4aZ1K15/0StOeuVlazbuSbJQtL0yFcyYJ1bL4eXOMKfymPMYtjN92sz5E9P+Mw/+bffOgoWZCK/nqZbWtvv+7zHDSi9aOG8MN8wgI68I0k5AFl5XhK1AaRgY+CNQsJ08y6kYj5kkNBI+SGRTq+zY+OySZWvPOOPV13zxM4tPPmnGIQeblpNr27FyzYuWyUtXSGNaaCKSWM9Z2QC8AgTWWh437nRnWXXjpp7+qjPNTOPPf/Ddfz62dMK0mRdcdA5KFJUNtcUtbaks26zoJGnNoCWrLSLVShWLkT1m+hHHvOOtb9zx4jNf+9zVz697GaYg07br9t/cdO11Pz1wxmGvu/R8mBwXFedAwryCGsLkrrXLy4HcnEKbhqn68RdfdunMqak7fvnT//7xjXtb27BKenHt2q9+/Zu33Xv/5HHjj5gxkeSiIcB4RH/AIU87mUylVdv2l55buWPXDs+au+CEt77uFeuffeQrV3/6pY0bMJPZ3dh88823fPcnNx85+/DXveZsCC380P2AXzAZyx70DOokGQsgb6AgOC1xe5uKekOh+JNwkmNt4+WNLy1bvgqBUGRrVi3/6he//PDSlbaTCjyZukHr0jAGpl/AkZhHcBhlIWecIWex8HRSY4477Zxjj57xl3t+88DSFedffP6sA0E+iMJr6KCbbGCjXBIIqbWOrS1kvVZLQNVzsY3/LvereJjfsOpfb7j4XJR+2Mz551/4qtNOXVTvqAmTJv/gpl+1MYW3fvlDp8879MA5J67gtUYE8ULg5jX/WnzIxENmnfTIBiznw1xm6x9u+q/x9WnbSZxw+uILX/XaeXPmIs/TznnFc6vWSck+kvGqDy/5ZFGw7+af+sft8w8Ew9TcY0/+yvW/zoX+mmfuvuRMXus78qi551/4mkUnnG4p55Bp0/94x50oG3ZC1u+Qm9Lzj5d98K+/qE+qC998xR6uoxFW2N2w7L1vOn/cxKm3P7BEF+3mM3/75Q9mmca5F1/hhmFTw/qr3vlqlDL9iEWvvuRNF1108TFHHzX/8ENf+6pz7dT4K//rRqTasvaf5500d+rBRy3dxMtIWLFjCrj15eUXzDls+rR5D67YhEBeVAyDpsYNn//oW5HbpINm3XLPwwiHQXR9Pyebd7Bs/OHFLs8L8y7agDFqiBprI4wfOo5d2AvehwXVEKoZsxf+/Fc3//aXP55/+GEbN2zMesHHr7p66ZNPf+idb4O+8g0rMXbqnIXHH3/M3Hq5/8HnrNtwkmMOX3TqMcfNH5+kJkimx176tg8+8sgDH/3Q+7xs2/oNL0096JDvfe+Hd/zxtgVzj0ALyrYAJjFUIXRYLNpq/ilnfv1b3zzn1JPSTlho24vhO3vh2b+8/daf/ei6Qw+asmH9WtsyvvyVrzz91NLLXvsa2QeNFBHvIJCNTmic+gkHnnDSyXNnzaCeYQVD20zNOnL+sccuOmBMQiJzDz89aercU06ZP/sQFD/ugEO+cO2Pfvij/zr4YGfdqmeam/P/8Zb3P/jIY9f852cXHneUKjRnfSM55sA5CxYtWDh3jEVthNLQaAmn/qhjF5143NyJddROyBdGvH7chEsuOHtKIn3owjNPPnEh40JM2FzKCh1JNSnKC/EpYK2BlqllKdLEupI+pg2YJ1PD4gjkyMr0uU5HBBCJg8aE3lIOJ8boRIcBgY8plYV5VeBiYoAMoCESvHkZRMFMxWHzFYHCMIRpDqVgTIwUhiVO0KSCwbyKqGzMmji5oakLwyS3hEFdUBPyROOKwhRFd5i/yCy2QkxVTuY9Dk5z7sTpX5uhUqGRRGGI53Cri1WFqUU1vBBjCDXyxb4hNxgpkRUGRyEFpv/ICVnRCOMQVcAKA9Kzybi/jLiMx8tviGObYa713l//9F0f/9rrP3vtDz/3ARVmscTkLVkW7zFSnFTJSl+2mFGOzQ3fGqLG2ohqiNXCJAfVoA5Br5q8kSM001xc82Ir1DTrSkJjgSZ6g5HghTqBfTDkjjJe/Uv5PhS0b4UFbsqaIFCCt1cgyM0EYdYPc6AJ4nK3nopWqBPdhwQIUUA70Mz3DT8PXvKCX2CFKonCeZHd93TD83IpF4ec7kJAGdrCITheJUwgPkcFU4El8EISISbkgtyYwIE5gQo8EA7zNpfXjjDxhXAwNdzqYilgCBgGo0MxSU+52cPIWLxHiuMJhWCQBJ7veYUgQGABjLGMTMOO7Tf97l5r/JTXvfYCkQkqkCOGLUfKkeu88MrFHQ+k+jVEbWmEVkAPsG2NAiqPAY3K+aidUmjXgKMQU1KOQHYT1yiMbHFnHc1MC8gu5PJJOkhm3Q7HmIE5KHSIyx/pOCuBxkarwXChzbCUMw1XGTANKA5KwjGDHDqXSUxV4NQbFefd2aRGCGGQERSFhZ4WYkj34S8EAyUZxuKLFYIHAwDrrwB0g/wI8SA1CYpDFC1MEQbwGrK+rw7ZsTDESUGxuqGHZTxy5r0eIRbznHhxqYkc5IYj0AEFcIZDeawQklqhW2h9/N67/t9/vP0tl7/hjoefvPDyd543/3BMvHh7qF6SCH14Vz+FZavCIVB3R+2AojkQagfdK3LjMptMzBpL5G2HrCnbWUgk3SS1l9tn4UFPY/DCSwMUgdJSsaFPfLQY8oEuQdZgZojlnV26n9GUSRXNIgnBWyjl1lLqJ944wgKYK0jAawUIpqQsVXw8rfsiCiLg04JIEKuFQ7ksxRIZH42JyTXvnyODkDWlJfM4EFgoo9JYQtVSw0W3fktBqBUyAMtAd604mTNLYgwZVYaXy//lD7981zs+mEkkL3/j279+3XdmThknbYTMCA4D8pr3IUdLRkomMWqJmtMoxmBQTlu60G9rbXvppfWmsg6bOau+vh6WkTypPVF6R0yjEY3ONNLqmUsBrQ15sQFnLX1VfvgQ02hEowuN0F2gjw7HbEhPDfTPcGKYWRyjnwB1MGPG4KcbIRwCYm00ikAjFnmL4x+00p7hxXBqIyromMT9AUgjvImoM0I4BNRcG5XyL9W5vEQdGJOpMpS3UolA7Vzq2tRDhqGmkT7s6o/RPdBEaCR9yUmcRmREys4OL4ZhbhSzpx/QnSNNVd5PUdsVz5Z34rA07PBMsVFoCVFQjG5RJErk5eJMH0RHOJD78oq8GqYhOkRGrWTFAnngB7+8bYZHODs8NR8d0J0jbcOWgkcaDH+lwbg1iB/LVrZtK96uPTzNWGUalZOmHEKZEARyXT4/hfOdyq2g+mgxtl501A2kgftGp8Vpp1QVZtIJ5XlqfyX5DKysjmAGWitxix9ksgRyjii1c2kklx9WCzXRRuWywu/zJjxCX/bQ1ZHz5UX3WStE6DNOJXUp73LELyWpJK1G15jleWo5y3PuCZWX2Ad0e2tm4Bc0chyHN47IiVI4I9UGtaURjJbwR9/DCQ7xXg99SoBopdI7KYnaoVRQeelA5cJ0Sgh0iq/r2ClObaEbVtqZjaw1k7Z0OkJNUSujBo+YMNfzeMceZ4G80yxCGZlKXcKbccTTLUrRaoGumfcpjC+ennqochoNvo/RmJGvBN3I8EAnabXUcfRWH9XXRroOUEHgELSRVECXwoK61EeXjsBKFICO3Av621ilDMtzRibtc4vuUBKmp+IQXp5hL+iTRn3ngxbVbR4dC/RIBjST9GxJB5YiaE9VUGUaieSdONSOUlmd68ClR++1QkJE6k1UOYdMes1H1jhFdJchA9C1vWXCS369C1shKqp1Hyht9stRZ+h2xq/WSZpMuhdGFo06JcehGDLeYQ0/ZO1JXJ2wOA3sU4Yem0knxw/+VzgPQEwtWFeiC/oQRsoybNvxfQ8lyjULSNJnFQhdtPbgt6+u7JxnMVWHZMhSe4qN2Rm60HQ6rdunuyoPFhW1ey/oJBMIVCgU0D3wl53qUDcdjjioFeZPCOiu7p2AGB0ioWl0k+m/yA1DTYf0BJxFtFJMDZTe0fUNiA/JMVgwvJFBsZp9pNXF6Y6sRNpugbJ0Djq3jm1voDG7zROpgHw+j96BJwqtKqpm1JAPWieXy+G3JCs8kj9YhZAoUJeIdkS10Sg4KkbrBaWz5ZmwV8qL6xegRSADWhar4yiIYLaRt0ewOBSKoiFGMsm3fUiq0l0cPQLxtcz6MHpQu0d0lQQZABEzdAR9iMbEugznkLmmWicgQiKRgLTFtNXEYGlUSg7poYdEu3QCIpSKiKqHaqBKMNj6cGBAychXGjN0vSCfy/bdOLxJHi1tJhNJlI/kA9vWZKXRefpZOKl7JoPSdb9KUBeUGgoe1B3otrMrRzE7lp7LZZGtLgJiwFNOlFI4fkG1VColwdXEoGhULjc4BLUJvxZXQyKU6176YAuam1vuvPPOZ555xrJsLEY5ONvHJeJ0KxL6rT1c+ziyPc9JOsefcPLb3vLmbKZVgnuEFtf1/IcffOiev/7Vsu2itOSXFq8ycD4CZQSz5jj2/PnHXHrppZh8YLbUg/AEWkNT5+mnn/79738rR/oRW6CnWneA7it5cyqHAywcfqdPn/rud79rwoQJegyXOoVRBQgBoHpBOIRDIQ1yAHdFFWgEoAIwZ/oQgpbCpTLwlxdh2paz9sW1V1zxwWy+cNRRR6NqHp9vQMz2mneBZFJ2njlKgGkEmzdtmDxp4j1339nS0lLefN3CcpztOxs++KGPrF615pRTz8gX3Eg4/ilP21s+6D0kYE2DYOeOba3Njf/761vmzZvXls0JH6Msu8C0LOX67vU//dm3r/3vc195Yb5YeJ+QeFzZ4488S8tSYBMbdm7ftvHFX/7y56eccgq6gLF6hu4XKCT95tYqogo0wi9UERZo3XYhYyBYVIke8pZtrVy97sqrP/9vr3vjv7/mTW2ZQsAd6o5iSJIyj84ZOkD2chnIK4R8IMLNPvzAX//vr7ffddetra19aCMks221bUfjhz921bwFJ37kE1c2NmWoCEXP4Qf5MX/GlMW4+Dp7oEbwA4lNqFJv6RMPXf8/37jhR/+9cNFxzW05djKfCefDq3wIj9Wmjw+OGTa0V87N3XTz/y579sXPf+W6DEisc+6ELkVLlfE/8upfW6mVy5f+z7Wf/+qXPnPuuedmszRtONepI0qB2gO1BCbBqupDfUp7BoySKRkIdPGQpiRQxQBx+KS5Gxj5gE8m8xlSqqWiKx1GHoMeRpOYvukGlhvwsMB3/CPDSioCISNnmnxXtQcBfKgHS36ZW+RBzt3I0O5xReZCqCAD8mHeuimopopdgr9kJ/7oQiWcf/EfBtHCUq89506uY4lSHH7RXPhFoRKOEF+eC2ZjFgvtDuimcqLAtMF6aAMXBQ0ag6KRBgTy+FjzYMCW7QOssu4PDe3Bb9/ro75QQekjHL2OZDnZfhZ+zaTywEFisDSCKDBn8FSR2jFqhFIfgUaA9lcFg6KR5jV+tXxVZHf34HREq6UBAxLWWMhqQktbgcDogJ6HsZyMzmo/UOo4QJ8aDAarjYTW5DWkgVg1Z9JggSarrGNGCqojbVeulDquKqiCNtIiwq+G7ybOUQO0z3BwuNPw5nCXvis/1P6BoQraaJAS9AOydh5cNyAxiD58XEdb9aNwREUHDbaPuqLqo736Io5sDCuHaocBqZPhNGoiMCXWHiA2ZMMP9EH/e2HYaATSRL4Y+wR0hwoJB6ULBmXUqqeKKshE6tslZteQGJWiikqhfzQq0XYEqSX9hsORAb7lcfSgSiqAGEF9MCBg4dP1Dqdhw0ii9JBihNS7At0mSrCimPshYB2G1T7sb8NnHyVicbIxXBhVNKrCntroAhiP2dYomHDtb9oIHBxWhQSdMZK0YbV02H5o1IZVoWEGM5K0abVmVKOKRlXYUxtdAOPQQaOgj/ZDozaStEG1EK/UYlQB8Uotxj6AEUKjCkYSdXZXkyQP84wY9L0ZEq/URiqGU5n3G/FKbUQi3lMbERgh9a5gTHAQI9pIMgkjB/FKbWixjxIxXqn1A/Ge2kjF/qaNwMFhVUjxSm2fAPpwWBVav1dqtZV2v1ypVWFPbVg51G9oaSsQOJ5ix9gHENNon0C8UhNUorfxvzINH2PIMdq1ERY+vX+YYUgR76mNXoykbukT/V6p1Rb72Eqtgsqw9RGtU0z0ygi6Ojdse2rxSi3GPoD9jUZd9dkIR2UCxyu1fqAKe2pIPIqYpEUdBdLGRm1oEa/Uhh9V2AxB4sEqtEGhfys1LWoNpd3HVmpDhtr2Sg1QmcDxSi3GPoCYRvsE9ruVGivbqcIy5emzERgFkeD0/CiQX8xYUQW4PtMDOrl2RSg94eovKABzkaRYP8qXqZivblAciIPI+KtLhEffyqhDdJSKoNOzkaSd4MowIhRBzYXgIj1Ei9Mp9DnbwjRDBSel65aVJu/DIRUyg0+yCj0V6i6JChFPX2AmlpQOj06N/5EAIg8/99ix3C5OxzUNKwgsyhCgcMiEQF5RD/GjPFMFJr+CxZilbA3XtDz5HBWaweK76Dvl3LvT9Qzl21pyFPL7ksgc/gFidK3UtKxoUrroD1tG/8pZYUKPTicpxhW/PoQXQdpTAaQTik7LBY/wMypFxNOHvTsplTlK2cIftmZ0Xk5HYGlRYXKAX0SsuCBxUlTkysOZmf4ZEEbRSq2sAXTjR0CX6T6owK4wNaPonpMDpCoXvpLmQBx0t2cY5Y+2YUAjQwKn+8xFsohKF4uFtEIe+cqprgZ1k6g73dfFXLXYCNDxqwrSv0/Za4ghoBGAUvgFRW3bSsoALW0Ylji2P81Drw6dj1SBYcEiGIaNPEMaSWTlw0lBFTSlGB4UqDtZ/tMMSc/DPImQXYouOU0KMYnKpxjkBNLyumKEgBLRCWtYTgmWEbCyLLJjtgN2vnyvdNhRexrp7pLe4qFuXXrkXHtDC9V6dNFkANFlkLMzJL1k2J+WFBKwA8SoIDmz4H+ca88KR50EKDmhDORgNB1ZopM5ZJeiKpLxAi8VTzGOZj8kF7Ul4XCaiD05KaQSUKaKI9cAkHWooJW5tKp0Bf6iuT3MeNGloljKHCfjXTwQl/2noNnEpCHcR8/QgEQfzq6kKRGH5dMrlEZKKwwxWUYpwoPuii55pA4mtADUVuhDE4VIiPJJwZ5QOoVyJR3VJxYc4nTOnVyHEsWJYKLNtUKHzhMPq8LfklEbFuumW7+W4Milo+bgIeqJpvfRHAnHdCxMMfyECm0VWiqAK3k6Oq6vbDN0FJ1tGrbJ7wXzk8Vm4Nj4U0lFhDPIHqkDZGg48DE3FMpykQ1yxmkW11mAdicxITzi+LYlqz5+xkmmTO2MKYK1ZnjAD+ajHaB+jMBHPoZj4bevWkvFS86hzCbEdiz+JiEqyMQmFT6hFZSyLBYxxKg5jXTTFlsXNcbMFHVVge817Wlo2rO9ec+2vY1bmhq3Njdug4s8u+kv8yBwa9Purc27ttPt3r5399bGnZuRtqWpoa15byifoO8THLeh5fv80mqmuWnv7l2tjdubUOhuOObcsmtb865Iki4yiIcOkmxr3LmpmWl3tLU0+kG++KlruKIGiRjE+ZYoTAwYFYS+ww9Pmy0tjY0NyGqLzrlU/ci1l7gdpdCJpwlu97a9u7bCtezd2bh7W+veXb7rBiSxiUoBQ/ppsiLalWHlKCWB0IVCofcP4UhUNCiUUaSPLMtZ//LGj3zs48+tWDnloINZabZ972NIsqFF46yI/QVdrkIvdA2IkMmeccrJ//ubm/v+gDov11iNe5s+9rGrHvrn4wdNP9ijYYpOaUvbV3PgfEibyqZzPM91C60HHzTu5zf8ZO4Rs7O5AmbrIiAqi8lQECr5NjVVnoNA2zE9v3DTLb+8+povHjHnaN9nPlHG/QHMKNoNsuTybUnl/fLmnx23aJHneegRnNWaqU9AdaXT6Qoj944hoZF0Di2bDjJVLp9ftXL1lm1b7UQCwwf1ES3VFyQH5oR+gRToTuh037MNc9aMWQvmHZ338iymF4BGpul54arVazdv3abXVNLr7HzhefRN/l5Ao2y4IZaKMCzsA2/qpLEL5h+VSqRRFeTEPJEXpltYP4JGPBKDjMwND1Z4y7bty559XtkI6bPSlI211jXXx/wnp4RPdXWJE088PpFI4rA0SaqEHKOLRlE/sb/YjhCaw96BeZdlCmhkoUJsp74hXawX+YEPOyJNgMWP4RrZNtdKYOnee3U4b0XxidQYiYc1O/7SK12P+RIz5xWAXoFiKUFg68hmmHfdbIjFt+GAXgxkv6NOHrQRDskhaCPkavoW0plGqm4s7A+mPlGOPUIyA5A3G5CNx9z90GLi0PcCU1mZTNa2bc/z0JAlJvWJUUcjaQL+hY9CI1CHywKHU26Z2iIQAx0xpWJaLyAUfqxpZEAWfyQ7BGMtww0BJsFYF+2C4F4gmgJ/WLwkY1b6DI7IctMoIBPfTLvUNqHyoHhgm8A3RJXEvGQFLYgiHSEU7IindSmslizsEQ15IHdkyq/LU9dCOemaSD3h5eIy9BBuhA5iBtBbposwXsIyHAwRX9l26Nm+76okZMDCkPlSAWEweOh+TrswabcQBWnYlQyUr/8CLLdXVJFGELu2EKpAUv2X3Sh1x5EE8hh8wQhGKIaXhTbg1MO0/NDJ5KyGvfm8kYQfPST2gmepgEJMNdDL0D9YwbD7K+AQQFkoDvqCAxf60IbFoYMWYbmMEmKAGFbOtDftzXgowrK5ziY/KLq++IkVkVwf8lkNyk9HRpoIYSWopVg9mDOs/zgmmD3oVKw8qCgCOYaRDMMEJlW+8uFCP8DSzQvSu3POnibXMizPwFms0pAfVoZUeBAXGaEdUDSm1JoK+lcrJHiGEjWnUV9gjTHO0B8GbASvK3Ko2qHlhMmNOzO33LFkx95COpk0vZKoMib1VVwMSPqj0KogNBOGkbZM1bg7//u7nluzuc1SdXaQZOeDUmEKfIiiDh6YPfG6OSZMvhXalp8K/bpQjQtVui0T3HHvC48/v12NqQ9DaCmXVxZoBFk6J/KRG2rGdIthpxGBgSXtA33PS4v8F4aea67Y6N750Pq1W9twzsIAjAhU7qoMqArMiqELoWU2bM4/+FTTknUNyrEcF73FqY1czQF1e7PjFQI5im4KPMsLlG8FygpSpp+A6vVN1dBcuOv+F59c29oUmDbsnJ/F2gBq0qQdhCgcciQ0OT38nTgCaKS1PCWBVcIMAJ1kQm23eN59T21vcKc++XxTjqe8InU6ckhako1ZDU0u2cBImlnXWL5qz8pNhYeXb2/KwnhgAiiSQX0YBfxGCQYMSBwoWGROeZgblC3/Yo6I5Sem68te3LN+j7N0fe6lnc0Jx4HdBXdRRVpXsbAkoRi2kYCRoI3E5HN5DKJg1KMfzXyo1u3KLVm9tSUY9/hzm7e15gJqo05AI3JKThq102pQYF8FBc8It7WSQFmrbt0Oa8XLLSpt88oWNzFynIZVB5Cb82ly18DEGLNm1zY9y/H2eO4/n9+wI1NYvb1t2YttmMs7mBKxhtF/qG+mj+pclaoPCiOARmhC2Ar8UdDlASaYGGgtpvHgyq27s5j21u3cHT7xwg6VGou2w9KMyzoMQ2lUAVtVM2nwQI9iIe0ZzsqtuWdebLBS4zfvCp9YsdV1MM0HkbEq86j5GHHQ4OqMGo4zb67PcIgA3/e89dtyz27KGan6Njf5+LLGTB41TIe+jRg6KevMhRonVXI0QAiHq4DhpxFbRPEGCi/0QA4byyLD3NHsPbZyT3MmkbbHNbXYDz2xqTXAgFXKcjCDwvoWcheboCr8iUByBlam4N+/rDFrTbSsVMFNLVm1Z0NjJplKcBPHTgZmEuvrKMGAIbMizqy5O4uRxMUgesNi7Zzl65pXvmwknfGBl1i+csfGHb5nJU0LE38MMSmath81x8+gaDSAyz3dYgRoI7aC6xs5WzkmFms+17MrX84/v9ZJJiZiWhn4yTUbUy+8FCTrHE/IZGG+DYVUdr2KnRJ5BwW5UyDVsCt8csXWjJ80DCcomGtfbl3xUhYqAzPhgodfWyms0gcL4QHXFnCYLJNWvDiaamwKn36u2fMnOOFYWLk9TcHDT72k0pw4uVh3yODR/0UvIo9qGdmBYyTQCOCVnwDmIkQPJZrbwvXr9+7esTdpm8rM+0GwdUfmhdWble2YpoWe9qANFC+doBnpohEV/RkMkKPnm88/v21XQzNKw5LIVn5bNly6fI/LS51YHclashogebj04yoeMyQlL2oqmOGmxsxTS9eMcWzb98cm7Fwms3TlhmYP00A/mbC5SmO38VcTcSRg+GmEPoFWd0zLwdJDzNqutraHHv5Xysj4XqNn7PX9ltZMy5NPL9+1p80wYfKUZSfkWm2UQxWBsd7cmn9q6ermvTtCs82wC4bb2ry3+YklK7btyDgOxj+v30SxBwFRQJgR8mIQJ3pUR6Ft+i1+7sFlmxuaGi1/uxW25dqaCoXsyk27n3xuS6LOKXi5AMZf+EMh5LaTkYCRoI2onbFMQctYvEJiZbLq0GkTLjj9kBOOGzdhgnviCVMXnz596qR0a0vWsrntJdsvHTpTq6XBA3PYTDacMumAV5wx5/gFkyeMN46bP/WVi4886siDm5r3htxYzRlGnjus1QDqIls+gY8FmlwAyPn5vOGft3jeWSdOPmiSefScCa9YPHvmkYdmoCRVqHi1H+lII2k3dF+1qj4olC95KkUpSSV7apWBUwMu+2XaicV9nnrAeHZD469+9693vOW0RUdOtLLBWEc0AS/9hRbUertCqlo78vJUkMgGTt4ynt3adtPvl7/xFQvOWjQ2zAdpq1BnZ1lz7syIQR0EWF3kwK0NZOZza42cMApKNXlj4N3WmP3+LS+cuujAN110SGtLmLaCMarN4lV7sAe1LwE5DVAUpVRdXV10MDiMBG3EJiU7eN0Pk4XCGDszOdEyJelNsgpjjabJTn5aMpzotNncufQwZEEm2oHi1CjKphqACI6dG5doOcjJHWiF44OWyammg1LB1GRb2vK588qtPV4ErApQcxmCqAnqA3tt20FwoNM8zWmdlPBTdq7eyh9ke9MSreNV1qYFlNskJW0RgxJlAEqkW4wEGnVF6Adch/HaolBMLiFXp8J9Q1gdQAA9B9GSyGXOKEJtwStjUqJUfIjrPlCMTBqNCFRTy1UCocpI50sPiGnUGSW1M9Q9KrQdau5WCTGNesco1Q5DjZhG+zX2nT21kY1RamQqxb69UhtOgDiaO0PNIOnQUWpEYxrFqAJiGnUG9IFWCUOtGET7jVIjOmJoxI017lBym4G7lfinb4TQ5+gfgn7lFUfux7Bk3h4eBepHPUQ6kWLwnY0cZFMQOeoMLV7QlkeGeAonWKJuCUkwsjE0NGJLsAeEGUIXtFfR8Zz0ktzMw2d3+PCQxZ0zk/c6IjkaWNjVMVWVUBQskiow3EB5ocHHyrg7E/AZItfkDUa81VcECtpvE5K0OqMSeCJy+lyxCDmSbIUg+O/x7SKhbXlJPoZmFngfCOe93Dj0zWQob61gFrXBaF+p6SGnnRyGevDjh8+18lErUguDNOC2ehQ36p1iqsEgyjE6ioByUCzbBPy1+BS+zycS+fQTJWMC9LMoJUHXHCoDecI8hFo6W5u1RclKBT61ks2nJj0+fVTLLhpdKzXdZKXRGTVdmWP74SxvJ2UEdCL7z5F7ax2YFO4tQVPIA4Oi6JFmECgvWihKejJbdKvJB30sx7J513WQs5UXgFKMKS+5ovUBSt3fnTC6Er2A5YlHngUnp6iW+Ad8svgwrgp9LxG02kaBT+yOeAy1iGKcwBjt4NddqE/ylVd6gEI1oedwnDDyNsiEqAG0gJKTgwDL6lCu+EvyKAUn7zwKg8BRQTqRNc2sZfpiwJQ81iOp2nPTOTDDrtxhQFd520mGytryfoggUPquF9SYz1VDE9mBNz6Zt4Icny5nuRxp3bnBNUiVAAXdpfZ9oZSkf28U4ZEMd3oIjEL2A3/YHJ6FGYkBTcBbMaAHTLMxY27Y2HDEYVMOqOOrg/n+4KgPy2Uu5SfF9A6mRln4q/MRtHt1D4t2CK1Gz16zaefh05OT6xMhXyujHE5T/Ly++56c1gl1apzShqokQ6kAQk7pP5IMPxwSsJw+y0O9lY/sVWAnQtNSXrMfrng5O2VictbUusCXFwF0D5YbefuJ0fUqiKj5RNhS07MOFoZ9dJ708oVGijRCAb6vLE8lFcanFzhBXsHQ8TF7EVk3XCQF7ALhebKc6h0snTSCzlG2WCoERSIxazhdAqrkWgk+rxHkHETxMcW2bM6vfc/mG7Fof1kfWiW0gzSCCNaul1hQCQxiimgY2bYNXvLhRtCINtv0+CYLZQfJBLPKeY7Km2lEMr3oPRMlsHkoqDQEEfj+QO7GHE00kgaE03qovWV3NTY07GpAO1g2TyHLQB4axRjFgojtw/VR2uCr9FzHaMMxX9vAvKgr2GHsKDQCTeHkyVMPmDBBMu4VZAz6OWhra9u0eaOJorVsxVPiQa+FsGCe4fjwmq0On6NLwqKBMobpe/JomI0ZlBda6HcvmDJ5CoB2oExF2SQv/Mhf+eWdRNByltq7d+/2hu2BD4WmaRTCavqIElqOn3D4spK8b+FEGqlQfZ1FERSTr/3TT4GHxsT6cdMPPkRTGcyIYlWAKt79OAw0gvQ7GnZ85Stfvv+Bf2Aqa1pcjTGObnP8lX6IRrsEcdnNMhmERpfYBKYNWCYnrOSrLnrVd6/7bp9vW4PkKK8t03rtt7/1h1tvdZKYzEanCK0pJPvIZOGYE3wERJLIKV041nEWuhPhZ5x++le/8tXpB03PFfieri40opNGA01Mz3dvv+OOz3/2C6l0EuGkLGgh2XMN4VPJUD9JUzGPjtCNr5dv5JthHDnryOuu+585c2ajLxhaMUa3NlKW+cKqFz71qU8uPvesi1/3b82ZNixOJF6UrVRLxxdGiZnAD8LhKz1piPr7nm+FzqMPP/rIPx+95+57+n5pn2E4tr1t27YPfvQDh8469H0feH8m2+rzBUWETFYA/kEpQld6QBuYMHnFEgOly2lIbMuxDfvpJ57+1c3/e/2Pf3r88Se2trWS2VKRqBZ00ucM5OOxOTf3i5t//sgjj3z2C5/J57NYgaI8qL2AyzPMrBlNX1OQu/1ZZpQTc5ULaVBqiB+ECcdZvXr1DT+48dpvfPuss87K5/Oe58FcVtino5BGwgl9bFn2qjUrr/7s1Ze/5fWXvO7f2/JtQeDbXJ3IQGfeiMnljxyxleGKNKJFk2wYB6rFd8P7//bA3XfcfeftdzW3NMu6pkcgDZJs3bb505+5av7CeVd+5tMNjQ3lr26VUqgMoBQsmjTe+w0jC3UIoyMrMr6/iIu2MLBh/gLr6ceXfOdb1/3oBz8+buFxbdkckxfroIUs0gjgux8z+dzNt9z8wsoVX7v2y/lCG2ZhYKmP1SDf8hQ6tIyhp/g0Omb0SBwNG/xKvdGOAWgm2SvLenbpc9d++Ttf+sJXFi9ejL5A14AcQ0+j3hq9eoCgZbLCK1aq4OXyfr4QuF7o5v1cAc7LFxBCTyHvua6fg8Nhzi/wyRsf8ZmEzstjWBd8F7F427Rkr/pqEQxlMNVKWCgInlw+54VeMVvkls8H8GTzARz8eRfDxPMwxl0KhsAMhHH9vOvlvACdhpktZzaoC6mDwnVPS1lkv3g0UDIBxpCiygt8L3CRoRvkYOZQiuexKNdDKblMiNK9gg8nrcEGkV+UTqnybohqQ7aMaUOJcYKoBwN8nKJVRqMqYghohFbt0LtUypxQsvp8ZF0/UKy1DaCj0/FKUYAVGpSShFAPcVItDmskuZrEXpR/krgPoCCUila2sAwMPL4wjZmXHDddSlMfHQLVAw9KIS3kLDUSegvVICEMELqYBB3ZrRjU1iwaMx/fT1gOrZbwjGXwTRiIgBD8Uu/BoVdQlK5dUTYRgw87QEg0DWbUvqksn9ZVchKgalJQKWCIMAQ0Qsui5nqAoDhpIvllUBDyejHP8RTmIfoyILuMPceYKuSqX1qGDxcpPhUoExCuyqUDcC7qvgqaT0wOm1tH5luxIhcVLa/Zs1GKkIgbISQ0xMDSiJcBJTkS8zlwyKBo+jTgYQR44CNBIiqAcj6oowLYKYfX57W6QITQkeus+B+gjvCAGuCRHcDAoVwk1y2mHaURiuAHFslGWphYvuaITRFB510hJLcqAMINPdgQ7AqNSmrNrou8gK56WQO0N2Jf0Lm0J4WPeZd4yADtIhQPOocDpeMotc4oQoeYGlScUCo8F50tecqAELiiOO2e7sASB9WD/eJcLxgWGsUYONDvXftewqpDiIFhmGlENdDNuI3RI4p2rQMkbDjbMdZGMaqAmEYxqoCYRjGqgJhGMaqAYaaRvq4Wo3LEK7UYVUC8Uouxz2KfohH3EuDkPgs6XpPiXhX8Ci7g7oZcFu6g/zGKaVujo8ogeXO/Rmxyh+z0sZwQex0diEAlx90hnukbtdUx1dJh+5w24hQBTYN6RVsURNTX1P3SL4NqOyTWGcl+XrsDtaTUCBJNiu0ASkLScgs1CuoLlcYbAKo1o9qnaMSbtfl9Rf2JxZKDGlKeqfjWyO56hB1bRrnKoHeFe0pEmgWmBRfqT63pT7aFlvza/BQfWp5fteiTIpQu8o5g7HPaiB0Dh3px2x7Gwzf40fzIwaBE0QYD3bVwUChgoC6SFo7MkqBijEgNRlH0Q3YSkw5h+mR/gArEK7XO0I1ePfgGP4MEB/JE1kaMD3uT9zn1v9t6BvOUGmiUV0PTJJqLKcYRYXjTCJhM2UTC6ObdfkFo2LnJJKya7dhf7FtGjR+qAodc0/CKzuWtPCGdzd8o5mCBLgNRIgWASbOoHX0Q/UEg77orOpn7G77FJ8nls0PKC5UrfNoXsE/RiJ3Lf9QEsBwWvAEWaCEmKU5g2Z5j+/wQq8TlFHdA45caSBxSaw9AdQBaWYovdGCjInMxYWLF9O148EBBhXxPM+jMD/1VdstmLVEtHbZP0UjPYeW1H/wuuxt47D40FqyKp6xAqdDx5fPRlpNAb/ITNgNvRmYsjiTicRAGfqD4TofQM7yAt0jzLk2fD3NABDtAkOIUm59aD5VpYykwzIhXat1AGcnAs00zYVh2mFB2fTJwfH5by0LH8RX4PnuPd+T6Hj/gYvOl+INvR5m3YzEmn4TlXdIhXyIBxnoJ30vya3ouv+dHBeh7yjAdE8oRBtbTd9zuCxjmatD+VGU8iFLx3MCybNNS+dB96oWnb/jNT1/cvTafysCFY4OsavWcgu+70BFQQrx9GaX3Wx2JBpKlASHy6zx8KCCDD2+GYbB89bO33PmzZzc92aJ2uamMOdYPk55venwkitpKOMX7rPtbOudj8UqtZpA2TPDx/8ALCr6dX9+w5rd/velz11391Z/85/3P3PNS44pMcq+q852UHfD++tB2bM/z+vOwcicIn9iA9HByRGJwUGBttm3X5tvv//V/fv9TX/3JZ//8yO9Wb1nW6jdYY6AaC4UwH8LEIt2AXjmjS4oOitClRwfDgdFOI4xBTHbk7WdoTbtgpQpWusBvHiey+URrS9jw5OqHvnfLN7/yw8/efMcPH1xyT2PzjlTS8fmOswC9Htm0/o1kTSAACk1fTfBN2+CsyHJVgl8lStYbQV2m2dr57EuP//zWH37r+i9f/5vv3vvInQ1NG50EpkkoHatIGjrJZ9TD+tKXvhR5+w8oUh8zgYrUaTRk6VPmrt27/v6Pv89bMPeoeXNdz406pTdERXDYyUM8VONGgHmOb+S3btuwbMUTTfntjz3/D7gnVj3++AuPPPfic7taGww75IsAbb85t3fVSy88+8KSZ5ctfXHz2vWbX5x+yPRTTjnZLXjMXMwUV3c0U72PLUrCp9uwepfL41t2vPyvJQ/7Tv6ZdU88/tyDT6x66IkXHli65skdzSjdlidh3Ra3cc2mF5a88K+nlz/50sY1W7dsx3zq7HMWu77bV9uVKFtCKYTar2H7rsceeuzcs8+dOWsmlKuEd6OuugWiJRKJ6GBwGEXaCA3e3ubgk7JUwSsomdiGKkyPTSeSY1OpiYlUnZNI2knLsHhthqNfdh/AkSRiTB5TPzHthgWsn+S5ajYBHOlTEdiL8lSiDSvKVWFgujCRKTuRTiXGpp10MplMJZMJPozpF/i6BqzsAx8ztmRqbP3ESRMmTEmm6zDDr3hyX2m8AaBaM6pRR6PIcZ88MFJ2OsgrL2eNUQdecemV73nNNe+/9PPvvuRT77r4QyfNOzHX0mwGhSCXT7rW0dOPed9rPvKZK758zQf/8+KzL0+reiyUsGKSuQwzJy+wfJJrOr0DLc9rmWE6CNKGX2d4Y5Rbf+FZb3z/ZVe+87KPXXHpp6+45KozF11gep5tFJKemcrXzZm48PKz3/Ppt3/1s+/95psvev+BE2d4mVDZCarBPtBZGpbepe/jKXZ/gcYqzUg4ScUgD1wsnnnOzAVGm+fkDSc0VV7Ve5MOGzvv4lPe9LWP//CLH/jhZYs/ePyM88eYk6HClFdnG4nA44IJXcntN3HgEO1VnwD7lM+Xm3LfVZmuCnNQOqbKJMyME+QtuyWd9iZMsKefdcxF/+89X/3yh7793os/dtbcV05OTANj+bl9K+R7BKLsRj2GmUaycI78fSGaEAiBZPjxZbF8m5VtJkyaGNTGs5RreoHjphYeevIn3vKFb1/144++8XPzp508wT7IKqT9nKkKiaQ5xvYt6CkLKzteGyQrBTRYkbcXkEOYz+VBW2Qn+y2+bQS2YSYCzJ7NZGAdNuXw/3jNx79+1Y2ffNdXzzj6gmnpmYlswsoGKudZHsycZ9mG7aCsYskVg7TvMvWRsAokrxlGizbSHazkL+c63F/g22JcC3+wVuO1aTAy8LD+whQorF8w4+TXnvvmSepQsy1he47pY3ZSCA3XgCbgpUesp0zfKEBx8W0TJvdRi6XA9QksslC0r8BZZGK48l4dN4QLXMh19OyjLz77LTPqF6jsGJVLmpjC8XF837IChZiBHyCd2+19K6MSo8iooc0hLQVGjwXCHVJKtjn0DSB83x+mvXyrgm0Glp93DT/QbycyzIIR5k3oKr7hFgTyffS9wq8X3QnAL+IjI+7GSXE9gkQLLDPA3J4vjVDQhljl8xUpSM51f6Bsz1dGPnAKZsIn26G9fDqUBSXKPRnlOcpMyapzOFEtHTbaaEQrWJIZxgVGQe640DMa0zNUAX0W8IX/Bc/ysdr3uK/FVPqFISF3KjwTizjTA4c4Vee0FdqINydJLn0Cbc9PCZh+wgwcWjPMdLidByH4Ei1O3LA2xBw+hMnj19Z9qEnu8suSUmohKrU6XTgY7CMrNfRbpV3HmFQE2gvJORsGBRgATYBcPNPMGCaWQDlfc8gKPKX7FQRyrCChsBRjH/OKJe/cQCrhDqfZ1EOwbnyPTFRkT0BRlNmENSSrhQ9yX4i8XQa8ZI6eYWL+BKfj8KIUdBV1HpMiAqLLJat+QljfOZWE9TurKmL0aCMSBZZDtxbE1g5WDN3OtkUMHaIX73wze+jIy2sRDkDxFEKFX0SNam3RCpp8pTp/ESpzpD67lrTwA6g0rA/1zUNyF5FpQv1AQuTAF/GR5RQPZotGVsHOMjEnVdy4hYHDRI2R9wVEDTriga6Fkx7iAGf3YK0dFG+7Fq5YvpEKjFQYJu3ASfhmwoMLHegiJEYnYz7MqYAldyJhfozJDdbeFhyMXTF/MZH09wgOfeoYbtJzrkOHbKGUcMwMLebPN11hVi+UJUdp9piC0xGqLr5FTvRgP0HNy+I6QML6nVUVMVpoBGgm0cNWE1uC7pF+YldJDCfg14/QP+xSO/BxDDPGfqPS0rpBOo+b8dAqjm5+6hequd7YUwLjMwHYpDUfHa+TU7eRkXodiVIoI1NoswYnobBmEFjuixoAjUYmRguN0B/a8rDLaUfoaEqwiiYDpLtUyLtUOZHla/YCrJZkbsQ7EKXrwB0u0RGMrpUMqU64l8Lc0L1gAEwPqSaFdg/ygwQhWaOgSE3CKMor+mgZZe4FxSabv2AyQoVwUFS0ocyFM7I+gSg1pFq1dNgo0kbt0JpDj290mUxHJLw47qWjSzH0SX02ujRQPKaBoiJiqA4vS9AXSlE7JKACisQjVxkSSaJdOSooSedWK+wjK7UY/QX53qXvJayGbOsTMY1iVAHDTKOuej5G7+CMqsuEJl6pxdgXsL/RSA/Z4ZxGjCjs1yu1QUATKLajEfaRlRovBcaqoT+IV2ox9lnENBpl2G9XaqgeSoEr1RPqN0DF9Xe/9IKfDaFdZzPHKOIExWvB0nD8yBC9srFQCSRvRtXPJQYwBh2ed+xYVo9gUnEsXSoR1UGAP9ppv5Qq1UdMfu6IF91pgwZkhUo5s/7IOjB4K2cpcLhQcxqhisXOY7V1o7INzMC2HaUUv4WGFtXsIKfYIppJ0TaF7FSw+RFcjMWICAlMy7Itfhetoj6JEvFGMvxY/BQkt7wYjB/pj2hfpWdI4cLfwAhACGU63EBjML/PRUGiH8bml7u4X8sU+OeHbmD6qDXGQNkXtCoE4ksNSCD9NbfQsilJRZWvJWpOI0JaNfIDJBIawkK7+77P7XeFpg208+QVCR7vPNWsUaGhoru9BIgeyM6rJpbvgYXSq8y4j/ZkBD6eZtq2xRu5Axc9wVyKTCcP+sikGJFvC5ENWgTB4T8TQkw4Xd9SPjzHP4iOMEYlrfgKm/4DQ05/v5FjD4XxWDN2ODEkNOoI9CTYIx/J9CxlcdfeZ5NELpSdcTY1b2u15OZW7sbrzmiPJy0IBimoloLHPvH71CXIgixBw8tQTigH2gKEpLaQMmAkeBdjryB9wWWfm/aOlfQ9EhmQk105FEGXajsWiuPgoUnu41aCbkE1joKhzCzLx2gCj8VAFwUYHgwhjdj4dGhRmKFkAv/SjuXUJcemnHTKTqc7Oafkr0s5yaSTTDmppDgdP+Ek0qm0Y9tJnLEc07BCmqq+QTKBAcpOWk7STqQTyBDZpuFSDsqip3eXRjQbkdPovDF19crgu4yEOuCYaLYuYKGm4fLLuH4qmbJMy3acBOvVOfNeXMJOwdWlxiTsJBw8ii9MQvYYCv1mZBXBeV/krRilJBhVFXz5uhysKgzKqtUvfOSjHzvtzFPOfeW52VwGTYATVEvSFWQbtQw5jqKiEH1aIkg2AugSz3jqiSeXPf3Mvff8re8PqPMtRPbOhu3ve//7phw09Z3vfsfepj2W3T6WdFnt+fcAsNDzfQdzO996dtmzt/7h1pt+/otFixa1tbXp7oyE1FMiHssvVIdjZnPZm2+++Z5777ny6k9n3YzUr1Kg5QEUgZa3EzamV6tfWPubn//2O9d+57zzzstms7prKqQUko+iD6iXgxJjbbRjx46fXn/DkqVPWY6FvKIBHE062K7IUearTKLfjC5MkjyKQP3ZqF6YTKTOPOvMq668KpPJROd6hq2s5pamG2+88cGHHyZVYVhKDSCe3ltVx41Ygbg+qmPNnz/vwx/+yPRp09Aacl6iISPWSKKST0zAeirjvvv+/pMf/4SskoXbAKEzDo3pUw++5pprZs2alc/n+8WJ0UujKC2YVPDcTC7jODaSW3q6KvcsY+WGCL4yXEx6bBQRJA3lSAmY+0SNp/9IAzC/0Ewn0vL+qb4kYb9a6MiCW3A9l7MKChSlQm7MVtjcE1gaC8QkKsDEDkXCkjrJhKMcOVOOjqwXoMWwsvR9L+/mOXgY1ktpfQPSY55UV1fneR6mCqyOqKvodK8Y7TRicq6V5JAhloVZIxc/aBQcy02KHtUPjnwHDe0GNl+BhRTFOqP/cAza6REdGl4gT2v02ihMod/JyBkq1Bw44IN/+iz+0NcrjQDmIZeckA2j0tveJjxPB3RDI4D143fz9cgBei+tb5DTsnZDtugRhKB2+lTvGMU0KgFVxy+rYCp5+lWMF3sAayB2C0aWwxOBsq1c4Ct+Z53MawfYxkwoDK8A0RT2PdMkSXhPdFQFkJAsKEdfNEIMWlg2AxNainTUJwQlf4dsGBuVsqIq6ENFmzooIBPM2bHeRcVLCgnhlZCjijSqiLbVhTRgCIsABYOhxK5nz/FdLw6XWoHHryQEaXBk+97tjy21mlrTScs3fAy7koO68nnBhK8UoTnD7InPelTQIkzuhYofvKct7cQhABEgI1xPHvwEmPHDJNLxsAMgg3YdANnQbagTAMFRLA6jbClD5IlcVCKbh7/lHnFA5KFiIxeRLTNkomHAMNCIQEdAdUDZ8JF6/IZW4Duej1mDQhuLswr+rpVr/vbDn+3asJUj3uCLYAL+0vHqEk1g4PO1xJ4buD4vHfXRiBKBj2nwV64zwax1chjcfKEsHArq6hE2Q2Z0GLIhdaO8NdCe2nWmEdnHzRCoPzg+H0I+lXLu5LotWns6OubA5qJF06Oo5BlKDAONWEvMZ2jD0B8yqPj8GPWyXp3ZgaNCkKpQWPJo4Yn7CyuWmG6o7LSoD0qM1Z0dmlBQUFsKEyiLV2G469Cl87oBJ2HcnWAvFlu/HNQxLKgHxyisApnE/ZBOw1+qE7kOYDq9tBQzhHEk2UTZljwdS0dlyw/bz7YnZBCF0jmDpVF5lQEJI9/gMAw0KgNVN7UR9ENgFrA6s9C6ygqdhEq4exo2/OW2Wc0NDQ/cV8jLZeoygAfSjpxfc1+kdFmpVzAy+5/Nj0l2D42IwD6cFpuuM7rnUAe0Z1N2AEp28kSuI0oZl3uEyWRWNxa2D/Q3fk8YXhpFQFV8ZeYt0ggHpuHbmdbs8ucLG7eO941tjy91X16X5pPOHMJwslvCjQC2uUCrqC6tHmOIMAJoxAtyMGo0b9AxNq/0hn5b60v3P2g1No4zjLFNrav/chcCoXAiJvHpV5KJiz3UgVebSrtuMYYBI0Ib0UiEnKrwCVgYG8y/N6wvPL0kQfnMINO064l/GbsbeGNHUQdTgYkF0AEkUPFUjKHHCKARLJQVurBJmF/rl37ksruWr2h5fmXaMHKGwlRarV6387Gnkk6dLVqnE8Ah7WIMF4afRtBE0EOY5yR9M+WqtGeEja07n34mn8sm+MYZm6+j2r571zPPq4LrBIbDBRrVUCS6NnOxMhoQelhk9BsjwaixLpADa/gE1mluuHt7w0OPP56bML4pVdecSmfSqWZlP7P8+T1btztYw/kh32tE01fGnFgdDQjVWqn1e4kIlJIMZjOkBOQFxYJll8M3MhqOaWV3bFr1+IPjvbyxdsPav91/xEUXOrMPaRszcdZp56Trx4ZY0IV8A005d7RAMZH6BbUP7KmVAxkik6SVUJxm+2GQTdXZRj6366lnHvz+j8/+9CemnHZi6Jl+lq/r5OVn2QjjFXBewCF9YhoNAFWk0QgwanL1x1HKC4OcaeSd0E8n854Z+IlC4DRbKZdXAxJtgeEnLdcy4eRiN7ijKVTURTGGDyNgim3yihEm1tAxBRXmrTBrhAXauSSn3dyNd0Iv5QdWLuCH7+iEO+XkQUAVxlSMgWL4acTul00KrOQdvr3RdLDuNy3ZQ/flCRGs+PmtYUvBpHHrQwWKd5+Bf3LpKGbQgLEvrdQ0WCFIox8FITNwwDtyeEFANuS1CZP9SJ0ixqAxgJlxtxg5NOoEUULxrGeUYMTSCASKOTRqMGJppAHzFZNpFGCE00gQT4VGPEYDjWLUDPveSq1nxGatZtjnV2oaqGRs0kYBYqMWowoY6TSKddGowFDRKOSdsvjlj96Qjw7lFmpO9OAYDPCA22aWq1RTGPqm4quEulpxyVO7YtIYw4MhoBFoIzuqfKcdu1u2NvigmsVvHipfHjiTLTVu3QcmYpmOH6ggTEyaNOn4Rc6kA4zAdXyfzwaBM9zKtSA5b9sOLYsP+svubsyk/qNaK7UhuN+IPYxuFg6ZLjdT2evKDxKG4ysjRwrwbln88S3uoFkgkB86fKbUD1zPTFiGrTylXFN/iAxRQTt5WBIVQCoIROXFbynGZKoco+m2NRouqAvpciTzFKRWKcdJWja/jsfb+Pkko2IkvvIR8VUYgkn8uDCPAn4MXdJq+sldIogN9UVOIdw3gkyhAK/lh3yWO0ZlGDU0QjytP6TXqZR8y8jnciuWPbN13cu2D8NG6vARYnkGzRP7B5lUwE/IMgclb6gRQbU+i/goZ01lmUpNnznjpJNPIidhHWMaVYzRSyO+7WzLlk3XfPJTuzdsXThnbuDDaPGtwDYoVkYjpKGygV2DzkJ6W5meD8PHkqJam5YyC16wftOmydMOvPGWm51UOuj4gHaM3jEqacRpD0R31Msvr7/64584/9QzPvL2d+xu2Il5NgydzdfNCktk0o/4kliS8041/aVzPgtCLkoUpay86956150PPPrIb++6QzmOS8Gq0Cj7CUbNvdgQUOsheZiRji9zCQ3HNFOWbZtqrG2PsVRK4ZAubZtpU9WZir9K4dQY/CpVb+LXSFsKDuFwacVUacdx+No0xde2aObF6A+qwiGgtjQCyCTti/qYglM5QfPwZVOcF2PK5BteYHpGyHuy6eQNRvjlbCrwFB8XgdKDNio5RsDkGvThWyL5UnZ9/SlGPzAAW9Qtak6jEsS6sZvlvUa8UVZCySmwSr9yjc/wtzvaOK1iyBu+YU2HcOokgUxJj2ny4hNsn84zxpCj5jQq8oBO7sfX1xjpQBW515o8MHkV0YIjrbRDmESDi+ZDDCVzxPG9NBJKtPtiDAeGRBsJD8gGuW6kXygjNKL60RyygpLjRUYyiBSDePwVkiGcQUinJ1twjsy09FtptAKLMSwYOqMm4PtlUSQ6nR0vazdACIZDckc8/BF0YIYQSEjGSZA4UVxRJvCLJ8bQY+hoRBJoGmF+bBoWn/ugcSJ7ZIaDKZNsvMncSdSROKakJqP5wxHZ4lOlMQYOolPw68gxhgNDrI002rVN/4G0NInRkSCmz7BjWGgUY19DTKMYVUBMoxhVQEyj/RqjZjMkxkjG6NsMibEPI6ZRjCogplGMKiCmUYwqYNTRiPsh4tphVmeauD9if16pdaZRjAFjv12pxXtqIxHx3ChGFRDTKEYVENMoRhUQ02i/RrynFqMKiPfUYowgxDSKUQXENIpRBcQ0ilEFjDoaYWUBmTuIHe+pDRj780oNrImJUx3sz3tqnWkU76kNO0ajNoox4hDTKEYVENMoRhUQ02i/RrynFqMKiPfUYowgxDSKUQXENIpRBcQ0ilEFDIRGmN7rGT5+qzVHqxjxnlo1oftx8Bh12kjvhHQgTrwZMuwYjUatM41iDDv6QSPYr3ITJpaNiI5j7McYjdooxohDTKP9F1W0JP2gUbcmTCkVBIE2dp2sXowRDsuydJcBUdBAMShtpIkFJkXHMUYJNG9092no8AFjsAwAh0o0qopAMYYAuqegjaLjQaMKNIqpMxpRPv4Hb9cGRSMQSEszSCFiDD2qODECBquNAFGQ3BXpSSB+j6hsxwJFWmEQ2IZh8zvEPEIYVVqPrv3LV4YyDUuFFhIgPACDkSE//ag/gxSje3TqHfSXbaMDqoYq0Ai8dhxHkykKKgKCh6bQSL7rCD8/V4UuD4JC4LX5XiEwPEMVDCMfhr26AK4QBjmDv24QFgIzbxgFZRaQPQsQQrLAGN2g1DWaT9qG6C4rQUcYGKhFIm//UUrreV4ul+tWFImBcHQ1fbZSWzZtvPITn2zcsWPRMcdmm1s5zeMH0UixnkA6Mgd+0k9/aU2rt4JprH95wwEHTr35t7+xHYcf9Y9SxOgA3TVCoRB6KJFIVHF+DQyKRiUEQQAagUxC6+67ksWIWcrncsuWPL1u9eqUk0RKW1n8jjUJoiN2A6ERFZvWODoi/vohdJw9Y+as0848HXbSCAMxdjE6QHcx+gXdhN9kMgka6VPVwmBpRHpLDhAxm83C05lG0uuaBLqLcT7hOBgTgecrTHKYvI9vxTK5zkEOmCG/CgndxiHl+34mk6Gx55fXY3RGeRfXQhUBVaBR5DMM13Xz+XwvNKKLQpkS4aYy0fVK2NAH9DdlJW9dAIvml2sx5+L3jxFKEulzMboDugazWD2RjYKqhCoYNZ0DJINCKhQKnueV56klLjGAHh2dHsZTmBtjqdVnvTQdO0YLjcBCcBBguhgGoW9xLh+diyEo9Q5+yzlUXSZVTRtBLPhhX8Ak8EkHliBV0V4ecJIjtCiSA7no4x4QyofSJR+t0vSMG2c42Za8JTCmUYQSe3S/wA8CwaJV3ZxpVJNG+hAcgnWDTtLhUpvIF/Ww9nCFHp3A3NhXQfF0d+hIIwnopJk0D61e8th/0IlDADiEKVHpQrHurCpisDTqCmQInVRiUjcSF/lUXOKDRlip9SGGzKyKXgGZJK6YjWHFugjNUCRKyQMNVJpWjw4alXKDRzMJlMIg0IGdoKOiQlIzOegBiBBZMaoltAFj64TieC0JRfZ60WD/QokuIJCeD9WIQBqDolEpbUnKTgCNQKbQb58qIZK+diieKEiFSgUROSKQFu0e/IO6QnwckUYBL1nrKOJ4QnjWeU62PwOjV8+H9GGNCKRRZW2kUSI+PJgrgUnQSQDPIVTqg17XtGAYfJoLJWiOFD06sj4ixHhFfokoZ6tfkZGG8s6ShpQWLrY2frUfBAJ7ShPq8gg1Qk1oVA7WUubdoJHneXoRV9Mq7dsop0sJupFxCrwpYSgbueY0KgEFaZ2kKVUqN6ZU5ejaWWg93YDQQNqK4VefGsoWHgptpD26MjgsAXwCtEfHiVEJNFFKdCF9BGhhNKYOLMe+QKPeUSp9CKq6D2AALNFJat28Q6eNAF2ZUsWGpob7FTr15pC17TBroxj7BiL7GiPGYBDTKEYVENMoRhUQ0yhGFRDTKEYVENMoRhUQ0yhGFRDTKEYVENMoRhUQ0yhGFRDTKEYVENMoRhUQ0yhGFRDTKEYVENMoRhUQ0yhGFRDTKEYVENMoRhUQ0yhGFRDTKMagYRj/HyW7qL5UQcqUAAAAAElFTkSuQmCC)"
      ]
    },
    {
      "cell_type": "code",
      "execution_count": null,
      "metadata": {
        "id": "FxeV_e1e1-W7"
      },
      "outputs": [],
      "source": [
        "od.download(\"https://www.kaggle.com/datasets/aladdinpersson/flickr8kimagescaptions\")"
      ]
    },
    {
      "cell_type": "code",
      "execution_count": null,
      "metadata": {
        "id": "x_n5_Td3AS6r"
      },
      "outputs": [],
      "source": [
        "df = pd.read_csv(\"flickr8kimagescaptions/flickr8k/captions.txt\")\n",
        "df.info()\n",
        "df.head()\n",
        "\n",
        "max_length_sentence = int(df.caption.str.len().max())\n",
        "print(\"longest sentence contains\", max_length_sentence, \"words\")"
      ]
    },
    {
      "cell_type": "code",
      "execution_count": null,
      "metadata": {
        "id": "JZdWc6LOQ4_H"
      },
      "outputs": [],
      "source": [
        "# text vectorization\n",
        "vectorize_layer = tf.keras.layers.TextVectorization(\n",
        "    max_tokens=max_features,\n",
        "    output_mode='int',\n",
        "    output_sequence_length=max_length_sentence)\n",
        "\n",
        "vectorize_layer.adapt(df.caption)    # batching for increasing performance\n",
        "print(\"Vocabulary size:\", len(vectorize_layer.get_vocabulary()))\n",
        "\n",
        "# embedding\n",
        "voc = vectorize_layer.get_vocabulary()\n",
        "word_index = dict(zip(voc, range(len(voc))))\n",
        "\n",
        "num_tokens = len(voc) + 2\n",
        "embedding_dim = 50\n",
        "hits = 0\n",
        "misses = 0\n",
        "\n",
        "# Prepare embedding matrix\n",
        "embedding_matrix = np.zeros((num_tokens, embedding_dim))\n",
        "for word, i in word_index.items():\n",
        "    embedding_vector = embeddings_index.get(word)\n",
        "    if embedding_vector is not None:\n",
        "        # Words not found in embedding index will be all-zeros.\n",
        "        # This includes the representation for \"padding\" and \"OOV\"\n",
        "        embedding_matrix[i] = embedding_vector\n",
        "        hits += 1\n",
        "    else:\n",
        "        misses += 1\n",
        "print(\"Converted %d words (%d misses)\" % (hits, misses))\n",
        "\n",
        "embedding_layer = tf.keras.layers.Embedding(\n",
        "    num_tokens,\n",
        "    embedding_dim,\n",
        "    embeddings_initializer=tf.keras.initializers.Constant(embedding_matrix),\n",
        "    trainable=False,        # belangrijk -> niet opnieuw aanpassen want reeds getrained\n",
        ")\n",
        "\n",
        "output_encoder = tf.keras.models.Sequential([\n",
        "    tf.keras.Input(shape=(1,), dtype=tf.string),\n",
        "    vectorize_layer,\n",
        "    embedding_layer\n",
        "])\n"
      ]
    },
    {
      "cell_type": "code",
      "execution_count": null,
      "metadata": {
        "id": "9qO2N5zRCQPs"
      },
      "outputs": [],
      "source": [
        "from imageio import imread\n",
        "\n",
        "# set 100 images aside for validation\n",
        "num_val_samples = 1000\n",
        "train_input_imgs = df.image[:-num_val_samples]\n",
        "train_targets = df.caption[:-num_val_samples]\n",
        "val_input_imgs = df.image[-num_val_samples:]\n",
        "val_targets = df.caption[-num_val_samples:]\n",
        "\n",
        "def convert_to_filepath(filepath):\n",
        "    return \"./flickr8kimagescaptions/flickr8k/images/\" + filepath\n",
        "\n",
        "# maak Sequence om niet alle figuren tegelijkertijd te moeten inladen\n",
        "class DataGenerator(tf.keras.utils.Sequence):\n",
        "    def __init__(self, x_set, y_set, batch_size):\n",
        "        self.x, self.y = x_set, y_set\n",
        "        self.batch_size = batch_size\n",
        "\n",
        "    def __len__(self):\n",
        "        return int(np.ceil(len(self.x) / float(self.batch_size)))\n",
        "\n",
        "    def __getitem__(self, idx):\n",
        "\n",
        "        start_index = idx * self.batch_size\n",
        "        end_index = min(start_index+batch_size, len(self.x))\n",
        "        size = end_index - start_index\n",
        "\n",
        "        batch_x = np.array([imread(convert_to_filepath(self.x[idx])) for idx in range(start_index, end_index)])\n",
        "        batch_y = np.array([self.y[idx] for idx in range(start_index, end_index)])\n",
        "\n",
        "        return batch_x, batch_y\n",
        "\n",
        "batch_size=64\n",
        "train_gen = DataGenerator(train_input_imgs, train_targets, batch_size)\n",
        "val_gen = DataGenerator(val_input_imgs, val_targets, batch_size)"
      ]
    },
    {
      "cell_type": "code",
      "execution_count": null,
      "metadata": {
        "id": "FYtC8ZXPD1-E"
      },
      "outputs": [],
      "source": [
        "import matplotlib.pyplot as plt\n",
        "\n",
        "plt.imshow(imread(\"./flickr8kimagescaptions/flickr8k/images/1000268201_693b08cb0e.jpg\"))"
      ]
    },
    {
      "cell_type": "code",
      "execution_count": null,
      "metadata": {
        "id": "HDIh0qOjE_vO"
      },
      "outputs": [],
      "source": [
        "base_model = tf.keras.applications.InceptionV3(include_top=False, weights='imagenet')\n",
        "\n",
        "for layer in base_model.layers:\n",
        "  layer.trainable=False\n",
        "\n",
        "#base_model.summary()\n",
        "\n",
        "model = tf.keras.models.Sequential([\n",
        "    tf.keras.layers.Resizing(299,299),\n",
        "    base_model,\n",
        "    tf.keras.layers.Flatten(),\n",
        "    tf.keras.layers.RepeatVector(max_length_sentence),    # deze laag zorgt ervoor dat je een aantal keer dezelfde figuur aangeeft aan de inception layer (1 stap per woord)\n",
        "    tf.keras.layers.SimpleRNN(embedding_dim, return_sequences=True)                   # we gaan de vector horende bij een woord van de embedding layer proberen te voorspellen, deze kan dan terug omgezet worden naar een woord\n",
        "])"
      ]
    },
    {
      "cell_type": "code",
      "execution_count": null,
      "metadata": {
        "id": "hfSH6FpFHsL1"
      },
      "outputs": [],
      "source": [
        "test_batch_X, test_batch_y = train_gen.__getitem__(0)\n",
        "\n",
        "single_img_X = test_batch_X[0]\n",
        "single_img_y = test_batch_y[0]\n",
        "\n",
        "print(model(tf.expand_dims(single_img_X, 0)))      # dimensies 1 -> 1 example, 199 -> max aantal woorden, 50 -> embedding vector van elk woord\n",
        "print(output_encoder(tf.expand_dims(single_img_y, 0)))"
      ]
    },
    {
      "cell_type": "code",
      "execution_count": null,
      "metadata": {
        "id": "5MjW2utGKUUH"
      },
      "outputs": [],
      "source": []
    }
  ],
  "metadata": {
    "colab": {
      "provenance": [],
      "include_colab_link": true
    },
    "kernelspec": {
      "display_name": "Python 3.10.5 64-bit",
      "language": "python",
      "name": "python3"
    },
    "language_info": {
      "codemirror_mode": {
        "name": "ipython",
        "version": 3
      },
      "file_extension": ".py",
      "mimetype": "text/x-python",
      "name": "python",
      "nbconvert_exporter": "python",
      "pygments_lexer": "ipython3",
      "version": "3.10.5"
    },
    "vscode": {
      "interpreter": {
        "hash": "d5e8e3a19af5ceb2434683dff87da6345c3b29f7eb0a8a138558c07d014a01cc"
      }
    }
  },
  "nbformat": 4,
  "nbformat_minor": 0
}